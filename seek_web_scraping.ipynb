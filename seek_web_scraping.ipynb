{
 "cells": [
  {
   "cell_type": "code",
   "execution_count": 2,
   "metadata": {},
   "outputs": [],
   "source": [
    "#importing requests for getting request from server\n",
    "#BeautifulSoup for Web Scraping\n",
    "import requests\n",
    "import numpy as np\n",
    "import pandas as pd\n",
    "from bs4 import BeautifulSoup\n",
    "import seaborn as sns"
   ]
  },
  {
   "cell_type": "code",
   "execution_count": 3,
   "metadata": {},
   "outputs": [
    {
     "name": "stdout",
     "output_type": "stream",
     "text": [
      "status code:  200\n"
     ]
    }
   ],
   "source": [
    "#Seek url for Data Science job search in All Melbourne & checking the connection:\n",
    "url = \"https://www.seek.com.au/Data-Science-jobs/in-All-Melbourne-VIC\"\n",
    "response = requests.get(url)\n",
    "print(\"status code: \", response.status_code)"
   ]
  },
  {
   "cell_type": "code",
   "execution_count": 6,
   "metadata": {},
   "outputs": [
    {
     "name": "stdout",
     "output_type": "stream",
     "text": [
      "<!doctype html>\n",
      "  <html lang=\"en\" prefix=\"og: http://ogp.me/ns#\">\n",
      "    <head>\n",
      "      <script>\n",
      "        \n"
     ]
    }
   ],
   "source": [
    "html = response.text\n",
    "print(html[0:100])"
   ]
  },
  {
   "cell_type": "code",
   "execution_count": 7,
   "metadata": {},
   "outputs": [],
   "source": [
    "#Instantiating BeautifulSoup\n",
    "soup = BeautifulSoup(html, 'lxml')"
   ]
  },
  {
   "cell_type": "code",
   "execution_count": 8,
   "metadata": {},
   "outputs": [],
   "source": [
    "# To get the title of jobs\n",
    "a = soup.find_all(\"a\", {\"class\": \"_2iNL7wI\"})"
   ]
  },
  {
   "cell_type": "code",
   "execution_count": 17,
   "metadata": {},
   "outputs": [],
   "source": [
    "job_title = []\n",
    "for jobs in a:\n",
    "        job_title.append(jobs.renderContents())\n"
   ]
  },
  {
   "cell_type": "code",
   "execution_count": 18,
   "metadata": {},
   "outputs": [
    {
     "data": {
      "text/plain": [
       "[b'Data Analytics &amp; Data Science Team Leader',\n",
       " b'Data Analytics &amp; Data Science Team Leader',\n",
       " b'Data Science, Data Engineers, Data Analytics - Expressions of Interest',\n",
       " b'Machine Learning Data Scientist - Purposeful HealthTech',\n",
       " b'Head of Data Science',\n",
       " b'Head of Data Science',\n",
       " b'GHD Digital - Analytics / Data Science Lead - MELB / SYD / PERTH / BRIS',\n",
       " b'Data Scientist',\n",
       " b'Big Data Engineer: Internal Role within a Data Science Practice',\n",
       " b'Data Scientist - 6 Months Contract',\n",
       " b'Consultant, Data Scientist',\n",
       " b'DevOps Engineer',\n",
       " b'Are you interested in Big Data (Java/.NET/PYTHON/C++ Experience Mandatory)',\n",
       " b'Fisheries Economist - Pacific Islands Fisheries Forum Agency',\n",
       " b'Data Scientist',\n",
       " b'Snr Software Development Analyst',\n",
       " b'Clinical Data Manager',\n",
       " b'Sr Biostatistician',\n",
       " b'Clinical Research Associate',\n",
       " b'Product Owner \\xe2\\x80\\x93 Data Ecosystem Adoption']"
      ]
     },
     "execution_count": 18,
     "metadata": {},
     "output_type": "execute_result"
    }
   ],
   "source": [
    "job_title\n"
   ]
  },
  {
   "cell_type": "code",
   "execution_count": 23,
   "metadata": {},
   "outputs": [],
   "source": [
    "# To get company name\n",
    "company_name = []\n",
    "for company in soup.find_all(\"a\", {\"class\": \"_3AMdmRg\"}):\n",
    "    company_name.append(company.renderContents())"
   ]
  },
  {
   "cell_type": "code",
   "execution_count": 22,
   "metadata": {},
   "outputs": [
    {
     "data": {
      "text/plain": [
       "[b'AUSTRALIAN FEDERAL POLICE',\n",
       " b'Melbourne',\n",
       " b'CBD &amp; Inner Suburbs',\n",
       " b'Government &amp; Defence',\n",
       " b'Government - Federal',\n",
       " b'AUSTRALIAN FEDERAL POLICE',\n",
       " b'Melbourne',\n",
       " b'CBD &amp; Inner Suburbs',\n",
       " b'Information &amp; Communication Technology',\n",
       " b'Team Leaders',\n",
       " b'GOW Recruitment',\n",
       " b'Melbourne',\n",
       " b'Information &amp; Communication Technology',\n",
       " b'Other',\n",
       " b'Affix Group',\n",
       " b'Melbourne',\n",
       " b'CBD &amp; Inner Suburbs',\n",
       " b'Science &amp; Technology',\n",
       " b'Modelling &amp; Simulation',\n",
       " b'EnergyAustralia Services Pty Ltd',\n",
       " b'Melbourne',\n",
       " b'CBD &amp; Inner Suburbs',\n",
       " b'Marketing &amp; Communications',\n",
       " b'Market Research &amp; Analysis',\n",
       " b'EnergyAustralia Services Pty Ltd',\n",
       " b'Melbourne',\n",
       " b'CBD &amp; Inner Suburbs',\n",
       " b'Science &amp; Technology',\n",
       " b'Mathematics, Statistics &amp; Information Sciences',\n",
       " b'GHD Pty Ltd',\n",
       " b'Melbourne',\n",
       " b'CBD &amp; Inner Suburbs',\n",
       " b'Science &amp; Technology',\n",
       " b'Mathematics, Statistics &amp; Information Sciences',\n",
       " b'Ambition Technology',\n",
       " b'Melbourne',\n",
       " b'CBD &amp; Inner Suburbs',\n",
       " b'Science &amp; Technology',\n",
       " b'Mathematics, Statistics &amp; Information Sciences',\n",
       " b'Talent Insights Group Pty Ltd',\n",
       " b'Melbourne',\n",
       " b'CBD &amp; Inner Suburbs',\n",
       " b'Information &amp; Communication Technology',\n",
       " b'Engineering - Software',\n",
       " b'Ethos BeathChapman',\n",
       " b'Melbourne',\n",
       " b'CBD &amp; Inner Suburbs',\n",
       " b'Information &amp; Communication Technology',\n",
       " b'Engineering - Software',\n",
       " b'Xpand Group Pty Ltd',\n",
       " b'Melbourne',\n",
       " b'CBD &amp; Inner Suburbs',\n",
       " b'Information &amp; Communication Technology',\n",
       " b'Other',\n",
       " b'SEEK Limited',\n",
       " b'Melbourne',\n",
       " b'CBD &amp; Inner Suburbs',\n",
       " b'Information &amp; Communication Technology',\n",
       " b'Developers/Programmers',\n",
       " b'CircuIT Recruitment Group',\n",
       " b'Melbourne',\n",
       " b'CBD &amp; Inner Suburbs',\n",
       " b'Information &amp; Communication Technology',\n",
       " b'Developers/Programmers',\n",
       " b'Employment Office',\n",
       " b'Melbourne',\n",
       " b'Science &amp; Technology',\n",
       " b'Mathematics, Statistics &amp; Information Sciences',\n",
       " b'Dixon Appointments',\n",
       " b'Melbourne',\n",
       " b'Bayside &amp; South Eastern Suburbs',\n",
       " b'Education &amp; Training',\n",
       " b'Other',\n",
       " b'IQVIA',\n",
       " b'Melbourne',\n",
       " b'Healthcare &amp; Medical',\n",
       " b'Clinical/Medical Research',\n",
       " b'IQVIA',\n",
       " b'Melbourne',\n",
       " b'Healthcare &amp; Medical',\n",
       " b'Management',\n",
       " b'IQVIA',\n",
       " b'Melbourne',\n",
       " b'Healthcare &amp; Medical',\n",
       " b'Clinical/Medical Research',\n",
       " b'IQVIA',\n",
       " b'Melbourne',\n",
       " b'CBD &amp; Inner Suburbs',\n",
       " b'Healthcare &amp; Medical',\n",
       " b'Clinical/Medical Research',\n",
       " b'ANZ',\n",
       " b'Melbourne',\n",
       " b'CBD &amp; Inner Suburbs',\n",
       " b'Information &amp; Communication Technology',\n",
       " b'Business/Systems Analysts']"
      ]
     },
     "execution_count": 22,
     "metadata": {},
     "output_type": "execute_result"
    }
   ],
   "source": [
    "company_name"
   ]
  },
  {
   "cell_type": "code",
   "execution_count": 24,
   "metadata": {},
   "outputs": [],
   "source": [
    "# Getting href of each job title:\n",
    "l = \"https://www.seek.com.au\"\n",
    "job_links = []\n",
    "for link in a:\n",
    "    if link.has_attr('href'):\n",
    "        job_links.append(l + link.attrs['href'])\n",
    "    else:\n",
    "        pass"
   ]
  },
  {
   "cell_type": "code",
   "execution_count": 25,
   "metadata": {},
   "outputs": [
    {
     "data": {
      "text/plain": [
       "['https://www.seek.com.au/job/38194336?type=standout&searchrequesttoken=61480eb6-45c4-41c4-a880-812a40eb8734',\n",
       " 'https://www.seek.com.au/job/38184716?type=standout&searchrequesttoken=61480eb6-45c4-41c4-a880-812a40eb8734',\n",
       " 'https://www.seek.com.au/job/38196050?type=standard&searchrequesttoken=61480eb6-45c4-41c4-a880-812a40eb8734',\n",
       " 'https://www.seek.com.au/job/38132202?type=standard&searchrequesttoken=61480eb6-45c4-41c4-a880-812a40eb8734',\n",
       " 'https://www.seek.com.au/job/38170545?type=standout&searchrequesttoken=61480eb6-45c4-41c4-a880-812a40eb8734',\n",
       " 'https://www.seek.com.au/job/38170544?type=standout&searchrequesttoken=61480eb6-45c4-41c4-a880-812a40eb8734',\n",
       " 'https://www.seek.com.au/job/38130367?type=standard&searchrequesttoken=61480eb6-45c4-41c4-a880-812a40eb8734',\n",
       " 'https://www.seek.com.au/job/38289785?type=standout&searchrequesttoken=61480eb6-45c4-41c4-a880-812a40eb8734',\n",
       " 'https://www.seek.com.au/job/38098321?type=standout&searchrequesttoken=61480eb6-45c4-41c4-a880-812a40eb8734',\n",
       " 'https://www.seek.com.au/job/38246150?type=standout&searchrequesttoken=61480eb6-45c4-41c4-a880-812a40eb8734',\n",
       " 'https://www.seek.com.au/job/38137979?type=standard&searchrequesttoken=61480eb6-45c4-41c4-a880-812a40eb8734',\n",
       " 'https://www.seek.com.au/job/38271143?type=standout&searchrequesttoken=61480eb6-45c4-41c4-a880-812a40eb8734',\n",
       " 'https://www.seek.com.au/job/38191404?type=standard&searchrequesttoken=61480eb6-45c4-41c4-a880-812a40eb8734',\n",
       " 'https://www.seek.com.au/job/38110167?type=standard&searchrequesttoken=61480eb6-45c4-41c4-a880-812a40eb8734',\n",
       " 'https://www.seek.com.au/job/38185778?type=standout&searchrequesttoken=61480eb6-45c4-41c4-a880-812a40eb8734',\n",
       " 'https://www.seek.com.au/job/38283777?type=standard&searchrequesttoken=61480eb6-45c4-41c4-a880-812a40eb8734',\n",
       " 'https://www.seek.com.au/job/38283663?type=standard&searchrequesttoken=61480eb6-45c4-41c4-a880-812a40eb8734',\n",
       " 'https://www.seek.com.au/job/38283988?type=standard&searchrequesttoken=61480eb6-45c4-41c4-a880-812a40eb8734',\n",
       " 'https://www.seek.com.au/job/38283522?type=standard&searchrequesttoken=61480eb6-45c4-41c4-a880-812a40eb8734',\n",
       " 'https://www.seek.com.au/job/38295765?type=standout&searchrequesttoken=61480eb6-45c4-41c4-a880-812a40eb8734']"
      ]
     },
     "execution_count": 25,
     "metadata": {},
     "output_type": "execute_result"
    }
   ],
   "source": [
    "job_links"
   ]
  },
  {
   "cell_type": "code",
   "execution_count": 138,
   "metadata": {},
   "outputs": [],
   "source": [
    "#getting job description from each link:\n",
    "job_description1 = []\n",
    "for u in range(1, 621):\n",
    "    url = \"https://www.seek.com.au/Data-Science-jobs/in-All-Melbourne-VIC?page=\" + str(u)\n",
    "    response = requests.get(url)\n",
    "    html = response.text\n",
    "    soup = BeautifulSoup(html, 'lxml')\n",
    "    a = soup.find_all(\"a\", {\"class\": \"_2iNL7wI\"})\n",
    "    l = \"https://www.seek.com.au\"\n",
    "    job_links = []\n",
    "    for link in a:\n",
    "        if link.has_attr('href'):\n",
    "            job_links.append(l + link.attrs['href'])\n",
    "        else:\n",
    "            pass\n",
    "    for j in job_links:\n",
    "        response1 = requests.get(j)\n",
    "        soup1 = BeautifulSoup(response1.text, 'lxml')\n",
    "#     c =soup1.find(\"h2\", \"span\", {\"class\":\"\"})\n",
    "#     comp.append(c.text)\n",
    "#     d = soup1.find(\"div\", {\"class\": \"templatetext\"})\n",
    "#     job_description1.append(d.renderContents())\n",
    "        try:\n",
    "            d = soup1.find(\"div\", {\"class\": \"templatetext\"})\n",
    "            job_description1.append(d.renderContents())\n",
    "        except:\n",
    "            job_description1.append(\"NA\")"
   ]
  },
  {
   "cell_type": "code",
   "execution_count": 33,
   "metadata": {},
   "outputs": [],
   "source": [
    "company_name = []\n",
    "for i, v in enumerate(soup.find_all(\"a\", {\"class\": \"_3AMdmRg\"})):\n",
    "      \n",
    "        if i == 0:\n",
    "            company_name.append(v.text)\n",
    "        elif i == 5:\n",
    "            company_name.append(v.text)\n",
    "        elif i == 10:\n",
    "            company_name.append(v.text)\n",
    "        elif i == 14:\n",
    "            company_name.append(v.text)\n",
    "        elif i == 19:\n",
    "            company_name.append(v.text)\n",
    "        elif i == 24:\n",
    "            company_name.append(v.text)\n",
    "        elif i == 29:\n",
    "            company_name.append(v.text)\n",
    "        elif i == 34:\n",
    "            company_name.append(v.text)\n",
    "        elif i == 39:\n",
    "            company_name.append(v.text)\n",
    "        elif i == 44:\n",
    "            company_name.append(v.text)\n",
    "        elif i == 49:\n",
    "            company_name.append(v.text)\n",
    "        elif i == 54:\n",
    "            company_name.append(v.text)\n",
    "        elif i == 59:\n",
    "            company_name.append(v.text)\n",
    "        elif i == 64:\n",
    "            company_name.append(v.text)\n",
    "        elif i == 69:\n",
    "            company_name.append(v.text)\n",
    "        elif i == 74:\n",
    "            company_name.append(v.text)\n",
    "        elif i == 78:\n",
    "            company_name.append(v.text)\n",
    "        elif i == 83:\n",
    "            company_name.append(v.text)\n",
    "        elif i == 87:\n",
    "            company_name.append(v.text)\n",
    "        elif i == 92:\n",
    "            company_name.append(v.text)\n",
    "        else:\n",
    "            pass"
   ]
  },
  {
   "cell_type": "code",
   "execution_count": 34,
   "metadata": {},
   "outputs": [
    {
     "data": {
      "text/plain": [
       "['AUSTRALIAN FEDERAL POLICE',\n",
       " 'AUSTRALIAN FEDERAL POLICE',\n",
       " 'GOW Recruitment',\n",
       " 'Affix Group',\n",
       " 'EnergyAustralia Services Pty Ltd',\n",
       " 'EnergyAustralia Services Pty Ltd',\n",
       " 'GHD Pty Ltd',\n",
       " 'Ambition Technology',\n",
       " 'Talent Insights Group Pty Ltd',\n",
       " 'Ethos BeathChapman',\n",
       " 'Xpand Group Pty Ltd',\n",
       " 'SEEK Limited',\n",
       " 'CircuIT Recruitment Group',\n",
       " 'Employment Office',\n",
       " 'Melbourne',\n",
       " 'Melbourne',\n",
       " 'Melbourne',\n",
       " 'Healthcare & Medical',\n",
       " 'CBD & Inner Suburbs',\n",
       " 'CBD & Inner Suburbs']"
      ]
     },
     "execution_count": 34,
     "metadata": {},
     "output_type": "execute_result"
    }
   ],
   "source": [
    "company_name"
   ]
  },
  {
   "cell_type": "code",
   "execution_count": 108,
   "metadata": {},
   "outputs": [],
   "source": [
    "# Coding it altogether for keywords:\n",
    "#keyword: Data Science - Melbourne\n",
    "job_title = []\n",
    "job_description = []\n",
    "Date = []\n",
    "Salary = []\n",
    "job_type = []\n",
    "location = []\n",
    "category = []\n",
    "company_name = []\n",
    "for u in range(1, 621):\n",
    "    url = \"https://www.seek.com.au/Data-Science-jobs/in-All-Melbourne-VIC?page=\" + str(u)\n",
    "    response = requests.get(url)\n",
    "    html = response.text\n",
    "    soup = BeautifulSoup(html, 'lxml')\n",
    "    a = soup.find_all(\"a\", {\"class\": \"_2iNL7wI\"})\n",
    "    \n",
    "    for i, v in enumerate(soup.find_all(\"a\", {\"class\": \"_3AMdmRg\"})):\n",
    "      \n",
    "        if i == 0:\n",
    "            company_name.append(v.text)\n",
    "        elif i == 5:\n",
    "            company_name.append(v.text)\n",
    "        elif i == 10:\n",
    "            company_name.append(v.text)\n",
    "        elif i == 14:\n",
    "            company_name.append(v.text)\n",
    "        elif i == 19:\n",
    "            company_name.append(v.text)\n",
    "        elif i == 24:\n",
    "            company_name.append(v.text)\n",
    "        elif i == 29:\n",
    "            company_name.append(v.text)\n",
    "        elif i == 34:\n",
    "            company_name.append(v.text)\n",
    "        elif i == 39:\n",
    "            company_name.append(v.text)\n",
    "        elif i == 44:\n",
    "            company_name.append(v.text)\n",
    "        elif i == 49:\n",
    "            company_name.append(v.text)\n",
    "        elif i == 54:\n",
    "            company_name.append(v.text)\n",
    "        elif i == 59:\n",
    "            company_name.append(v.text)\n",
    "        elif i == 64:\n",
    "            company_name.append(v.text)\n",
    "        elif i == 69:\n",
    "            company_name.append(v.text)\n",
    "        elif i == 74:\n",
    "            company_name.append(v.text)\n",
    "        elif i == 78:\n",
    "            company_name.append(v.text)\n",
    "        elif i == 83:\n",
    "            company_name.append(v.text)\n",
    "        elif i == 87:\n",
    "            company_name.append(v.text)\n",
    "        elif i == 92:\n",
    "            company_name.append(v.text)\n",
    "        else:\n",
    "            pass\n",
    "    \n",
    "    l = \"https://www.seek.com.au\"\n",
    "    job_links = []\n",
    "    for link in a:\n",
    "        if link.has_attr('href'):\n",
    "            job_links.append(l + link.attrs['href'])\n",
    "        else:\n",
    "            pass\n",
    "    #from each job title link getting the job title, Data, location, Salary, job description, category and job type\n",
    "    for j in job_links:\n",
    "        response1 = requests.get(j)\n",
    "        soup1 = BeautifulSoup(response1.text, 'lxml')\n",
    "        # job description:\n",
    "        for d in soup1.find_all(\"div\", {\"class\": \"templatetext\"}):\n",
    "            job_description.append(d.renderContents())\n",
    "    \n",
    "        # job title, Daata, Salary, job type\n",
    "        for k, v in enumerate(soup1.find_all(\"span\", {\"class\": \"lwHBT6d\"})):\n",
    "            if k == 0:\n",
    "                job_title.append(v.text)\n",
    "            elif k == 1:\n",
    "                Date.append(v.text)\n",
    "            elif k == 2:\n",
    "                Salary.append(v.text)\n",
    "            elif k == 3:\n",
    "                job_type.append(v.text)\n",
    "            else:\n",
    "                pass \n",
    "\n",
    "        # location & category\n",
    "        for l, c in enumerate(soup1.find_all(\"strong\", {\"class\": \"lwHBT6d\"})):\n",
    "            if l == 0:\n",
    "                pass\n",
    "            elif l == 1:\n",
    "                location.append(c.text)\n",
    "            elif l == 2:\n",
    "                category.append(c.text)\n",
    "            else:\n",
    "                pass\n",
    "          \n",
    "        "
   ]
  },
  {
   "cell_type": "code",
   "execution_count": 118,
   "metadata": {},
   "outputs": [
    {
     "data": {
      "text/plain": [
       "b'<strong>About the Position</strong><br/>The Environmental Division operates a modern laboratory in Melbourne (Springvale) that is equipped with the latest in analytical technology. The division is seeking a motivated Full-time Client Services Officer\\n        to join our successful Client Services team.<br/><br/>The ALS Client Services team work closely with our clients providing quality service in the form of technical and analytical advice as well as facilitating project delivery through effective\\n        communication and project management.<br/><br/>Responsibilities include but are not limited to:<br/>\\n<ul>\\n<li>Facilitating the resolution of client queries in a timely and professional manner.</li>\\n<li>Preparation of Quotations including follow-up.</li>\\n<li>Analytical and Field data entry.</li>\\n<li>Provide telephone assistance and advice to clients.</li>\\n</ul>\\xc2\\xa0<br/><strong>About you</strong><br/>To be successful you will require:<br/>\\n<ul>\\n<li>Strong customer service focus.</li>\\n<li>Excellent verbal and written communication skills.</li>\\n<li>A proactive \\'can do\\' attitude.</li>\\n<li>Experience in Environmental Laboratories (desirable).</li>\\n<li>Commitment to Quality Management.</li>\\n<li>Strong proficiency in Microsoft Excel, Word and PowerPoint.</li>\\n</ul>It is envisaged that this person will be a self-starter who can learn the business requirements from the ground up and who will actively seek to further their knowledge of the Environmental Analysis Industry.<br/><br/><strong>Benefits &amp; Culture</strong><br/>At\\n        ALS we believe that the people we employ are what makes ALS the great company it is today. We offer many benefits to staff, including and not limited to:<br/>\\n<ul>\\n<li>Health fund discounts with Bupa.</li>\\n<li>Opportunity to salary sacrifice car costs with Autopia.</li>\\n<li>Corporate superannuation benefits with Sunsuper.</li>\\n<li>On-line learning system with extensive modules of choice.</li>\\n<li>Friendly working environment with accessible management.</li>\\n<li>Opportunities to progress and develop your career within ALS including global opportunities for suitable candidates.</li>\\n</ul>\\xc2\\xa0<br/>We actively support a diverse workforce and encourage Aboriginal and Torres Strait Islander people to apply.<br/><br/>If you have the skills and experience and are after a role with challenge and variety, please send in your application.<br/><br/><br/><strong>To apply please click on the \"Apply\" button below and complete our online application form.</strong><br/>\\xc2\\xa0<br/>\\n<p style=\"text-align:center;\"><strong>Applications close\\xc2\\xa0Tuesday 29th January 2019.</strong></p><br/>\\n<div class=\"videoembed\" id=\"FlashContent\"><iframe allowfullscreen=\"\" frameborder=\"0\" height=\"100%\" src=\"https://www.youtube.com/embed/f5_CCDJZ4Uk?rel=0\" title=\"VideoJobAd\" width=\"100%\"></iframe></div>\\n'"
      ]
     },
     "execution_count": 118,
     "metadata": {},
     "output_type": "execute_result"
    }
   ],
   "source": [
    "# checking the description:\n",
    "job_description[453]\n",
    "\n"
   ]
  },
  {
   "cell_type": "code",
   "execution_count": 129,
   "metadata": {},
   "outputs": [
    {
     "data": {
      "text/plain": [
       "620"
      ]
     },
     "execution_count": 129,
     "metadata": {},
     "output_type": "execute_result"
    }
   ],
   "source": [
    "#Checking the lengths\n",
    "len(job_title)"
   ]
  },
  {
   "cell_type": "code",
   "execution_count": 130,
   "metadata": {},
   "outputs": [
    {
     "data": {
      "text/plain": [
       "618"
      ]
     },
     "execution_count": 130,
     "metadata": {},
     "output_type": "execute_result"
    }
   ],
   "source": [
    "len(company_name)"
   ]
  },
  {
   "cell_type": "code",
   "execution_count": 131,
   "metadata": {},
   "outputs": [
    {
     "data": {
      "text/plain": [
       "620"
      ]
     },
     "execution_count": 131,
     "metadata": {},
     "output_type": "execute_result"
    }
   ],
   "source": [
    "len(Date)"
   ]
  },
  {
   "cell_type": "code",
   "execution_count": 132,
   "metadata": {},
   "outputs": [
    {
     "data": {
      "text/plain": [
       "620"
      ]
     },
     "execution_count": 132,
     "metadata": {},
     "output_type": "execute_result"
    }
   ],
   "source": [
    "len(job_type)"
   ]
  },
  {
   "cell_type": "code",
   "execution_count": 135,
   "metadata": {},
   "outputs": [
    {
     "data": {
      "text/plain": [
       "620"
      ]
     },
     "execution_count": 135,
     "metadata": {},
     "output_type": "execute_result"
    }
   ],
   "source": [
    "len(location)"
   ]
  },
  {
   "cell_type": "code",
   "execution_count": 133,
   "metadata": {},
   "outputs": [
    {
     "data": {
      "text/plain": [
       "620"
      ]
     },
     "execution_count": 133,
     "metadata": {},
     "output_type": "execute_result"
    }
   ],
   "source": [
    "len(category)"
   ]
  },
  {
   "cell_type": "code",
   "execution_count": 136,
   "metadata": {},
   "outputs": [
    {
     "data": {
      "text/plain": [
       "620"
      ]
     },
     "execution_count": 136,
     "metadata": {},
     "output_type": "execute_result"
    }
   ],
   "source": [
    "len(Salary)"
   ]
  },
  {
   "cell_type": "code",
   "execution_count": 134,
   "metadata": {},
   "outputs": [
    {
     "data": {
      "text/plain": [
       "618"
      ]
     },
     "execution_count": 134,
     "metadata": {},
     "output_type": "execute_result"
    }
   ],
   "source": [
    "len(company_name)"
   ]
  },
  {
   "cell_type": "code",
   "execution_count": 152,
   "metadata": {},
   "outputs": [],
   "source": [
    "# Same procedure for getting all details for different keyword and appending the values in the same list as above:\n",
    "#keyword: Data Analytics - Melbourne\n",
    "# job_title = []\n",
    "# job_description1 = []\n",
    "# Date = []\n",
    "# Salary = []\n",
    "# job_type = []\n",
    "# location = []\n",
    "# category = []\n",
    "# company_name = []\n",
    "for u in range(1, 1652):\n",
    "    url = \"https://www.seek.com.au/Data-Analytics-jobs/in-All-Melbourne-VIC?page=\" + str(u)\n",
    "    response = requests.get(url)\n",
    "    html = response.text\n",
    "    soup = BeautifulSoup(html, 'lxml')\n",
    "    a = soup.find_all(\"a\", {\"class\": \"_2iNL7wI\"})\n",
    "    \n",
    "    for i, v in enumerate(soup.find_all(\"a\", {\"class\": \"_3AMdmRg\"})):\n",
    "      \n",
    "        if i == 0:\n",
    "            company_name.append(v.text)\n",
    "        elif i == 5:\n",
    "            company_name.append(v.text)\n",
    "        elif i == 10: \n",
    "            company_name.append(v.text)\n",
    "        elif i == 14:\n",
    "            company_name.append(v.text)\n",
    "        elif i == 19:\n",
    "            company_name.append(v.text)\n",
    "        elif i == 24:\n",
    "            company_name.append(v.text)\n",
    "        elif i == 29:\n",
    "            company_name.append(v.text)\n",
    "        elif i == 34:\n",
    "            company_name.append(v.text)\n",
    "        elif i == 39:\n",
    "            company_name.append(v.text)\n",
    "        elif i == 44:\n",
    "            company_name.append(v.text)\n",
    "        elif i == 49:\n",
    "            company_name.append(v.text)\n",
    "        elif i == 54:\n",
    "            company_name.append(v.text)\n",
    "        elif i == 59:\n",
    "            company_name.append(v.text)\n",
    "        elif i == 64:\n",
    "            company_name.append(v.text)\n",
    "        elif i == 69:\n",
    "            company_name.append(v.text)\n",
    "        elif i == 74:\n",
    "            company_name.append(v.text)\n",
    "        elif i == 78:\n",
    "            company_name.append(v.text)\n",
    "        elif i == 83:\n",
    "            company_name.append(v.text)\n",
    "        elif i == 87:\n",
    "            company_name.append(v.text)\n",
    "        elif i == 92:\n",
    "            company_name.append(v.text)\n",
    "        else:\n",
    "            company_name.append(\"NA\")\n",
    "    \n",
    "    l = \"https://www.seek.com.au\"\n",
    "    job_links = []\n",
    "    for link in a:\n",
    "        if link.has_attr('href'):\n",
    "            job_links.append(l + link.attrs['href'])\n",
    "        else:\n",
    "            pass\n",
    "    for j in job_links:\n",
    "        response1 = requests.get(j)\n",
    "        soup1 = BeautifulSoup(response1.text, 'lxml')\n",
    "        try:\n",
    "            d = soup1.find(\"div\", {\"class\": \"templatetext\"})\n",
    "            job_description1.append(d.renderContents())\n",
    "        except:\n",
    "            job_description1.append(\"NA\")              \n",
    "\n",
    "          \n",
    "        for k, v in enumerate(soup1.find_all(\"span\", {\"class\": \"lwHBT6d\"})):\n",
    "            if k == 0:\n",
    "                job_title.append(v.text)\n",
    "            elif k == 1:\n",
    "                Date.append(v.text)\n",
    "            elif k == 2:\n",
    "                Salary.append(v.text)\n",
    "            elif k == 3:\n",
    "                job_type.append(v.text)\n",
    "            else:\n",
    "                pass \n",
    "\n",
    "        for l, c in enumerate(soup1.find_all(\"strong\", {\"class\": \"lwHBT6d\"})):\n",
    "            if l == 0:\n",
    "                pass\n",
    "            elif l == 1:\n",
    "                location.append(c.text)\n",
    "            elif l == 2:\n",
    "                category.append(c.text)\n",
    "            else:\n",
    "                pass\n",
    "        "
   ]
  },
  {
   "cell_type": "code",
   "execution_count": 171,
   "metadata": {},
   "outputs": [
    {
     "data": {
      "text/plain": [
       "2490"
      ]
     },
     "execution_count": 171,
     "metadata": {},
     "output_type": "execute_result"
    }
   ],
   "source": [
    "len(job_title)"
   ]
  },
  {
   "cell_type": "code",
   "execution_count": 159,
   "metadata": {},
   "outputs": [],
   "source": [
    "# Now for Sydney location\n",
    "#keyword-  Data Scientist, Sydney\n",
    "\n",
    "for u in range(1, 211):\n",
    "    url = \"https://www.seek.com.au/Data-Scientist-jobs/in-All-Sydney-NSW?page=\" + str(u)\n",
    "    response = requests.get(url)\n",
    "    html = response.text\n",
    "    soup = BeautifulSoup(html, 'lxml')\n",
    "    a = soup.find_all(\"a\", {\"class\": \"_2iNL7wI\"})\n",
    "    \n",
    "    for i, v in enumerate(soup.find_all(\"a\", {\"class\": \"_3AMdmRg\"})):\n",
    "      \n",
    "        if i == 0:\n",
    "            company_name.append(v.text)\n",
    "        elif i == 5:\n",
    "            company_name.append(v.text)\n",
    "        elif i == 10:\n",
    "            company_name.append(v.text)\n",
    "        elif i == 14:\n",
    "            company_name.append(v.text)\n",
    "        elif i == 19:\n",
    "            company_name.append(v.text)\n",
    "        elif i == 24:\n",
    "            company_name.append(v.text)\n",
    "        elif i == 29:\n",
    "            company_name.append(v.text)\n",
    "        elif i == 34:\n",
    "            company_name.append(v.text)\n",
    "        elif i == 39:\n",
    "            company_name.append(v.text)\n",
    "        elif i == 44:\n",
    "            company_name.append(v.text)\n",
    "        elif i == 49:\n",
    "            company_name.append(v.text)\n",
    "        elif i == 54:\n",
    "            company_name.append(v.text)\n",
    "        elif i == 59:\n",
    "            company_name.append(v.text)\n",
    "        elif i == 64:\n",
    "            company_name.append(v.text)\n",
    "        elif i == 69:\n",
    "            company_name.append(v.text)\n",
    "        elif i == 74:\n",
    "            company_name.append(v.text)\n",
    "        elif i == 78:\n",
    "            company_name.append(v.text)\n",
    "        elif i == 83:\n",
    "            company_name.append(v.text)\n",
    "        elif i == 87:\n",
    "            company_name.append(v.text)\n",
    "        elif i == 92:\n",
    "            company_name.append(v.text)\n",
    "        else:\n",
    "            company_name.append(\"NA\")\n",
    "    \n",
    "    l = \"https://www.seek.com.au\"\n",
    "    job_links = []\n",
    "    for link in a:\n",
    "        if link.has_attr('href'):\n",
    "            job_links.append(l + link.attrs['href'])\n",
    "        else:\n",
    "            pass\n",
    "    for j in job_links:\n",
    "        response1 = requests.get(j)\n",
    "        soup1 = BeautifulSoup(response1.text, 'lxml')\n",
    "        try:\n",
    "            d = soup1.find(\"div\", {\"class=\"_2e4Pi2B\"})\n",
    "            job_description1.append(d.renderContents())\n",
    "        except:\n",
    "            job_description1.append(\"NA\")              \n",
    "\n",
    "          \n",
    "        for k, v in enumerate(soup1.find_all(\"span\", {\"class\": \"lwHBT6d\"})):\n",
    "            if k == 0:\n",
    "                job_title.append(v.text)\n",
    "            elif k == 1:\n",
    "                Date.append(v.text)\n",
    "            elif k == 2:\n",
    "                Salary.append(v.text)\n",
    "            elif k == 3:\n",
    "                job_type.append(v.text)\n",
    "            else:\n",
    "                pass \n",
    "\n",
    "        for l, c in enumerate(soup1.find_all(\"strong\", {\"class\": \"lwHBT6d\"})):\n",
    "            if l == 0:\n",
    "                pass\n",
    "            elif l == 1:\n",
    "                location.append(c.text)\n",
    "            elif l == 2:\n",
    "                category.append(c.text)\n",
    "            else:\n",
    "                pass\n",
    "        "
   ]
  },
  {
   "cell_type": "code",
   "execution_count": 167,
   "metadata": {},
   "outputs": [],
   "source": [
    "# Creating search key list for all key word search\n",
    "search_key = []\n",
    "for i in range(1, 621):\n",
    "    search_key.append(\"Data Science\")\n"
   ]
  },
  {
   "cell_type": "code",
   "execution_count": 168,
   "metadata": {},
   "outputs": [],
   "source": [
    "for i in range(1, 1653):\n",
    "    search_key.append(\"Data Analytics\")"
   ]
  },
  {
   "cell_type": "code",
   "execution_count": 169,
   "metadata": {},
   "outputs": [],
   "source": [
    "for i in range(1, 211):\n",
    "    search_key.append(\"Data Scientist\")"
   ]
  },
  {
   "cell_type": "code",
   "execution_count": 172,
   "metadata": {},
   "outputs": [],
   "source": [
    "for i in range(1, 9):\n",
    "    search_key.append(\"Data Scientist\")"
   ]
  },
  {
   "cell_type": "markdown",
   "metadata": {},
   "source": [
    "### Creating Dataframe "
   ]
  },
  {
   "cell_type": "code",
   "execution_count": 188,
   "metadata": {},
   "outputs": [],
   "source": [
    "dd = pd.DataFrame(data = {'job_title': job_title, 'Date': Date, 'Salary': Salary, 'job_type': job_type,'category': category, 'location': location, 'job_description': job_description1, 'search_key': search_key}, columns = ['job_title', 'Date', 'Salary', 'job_type', 'category', 'location', 'job_description', 'search_key'])"
   ]
  },
  {
   "cell_type": "code",
   "execution_count": null,
   "metadata": {},
   "outputs": [],
   "source": [
    "dd['search_key'] = search_key"
   ]
  },
  {
   "cell_type": "code",
   "execution_count": 177,
   "metadata": {},
   "outputs": [
    {
     "data": {
      "text/plain": [
       "2490"
      ]
     },
     "execution_count": 177,
     "metadata": {},
     "output_type": "execute_result"
    }
   ],
   "source": [
    "len(job_title)"
   ]
  },
  {
   "cell_type": "code",
   "execution_count": 178,
   "metadata": {},
   "outputs": [
    {
     "data": {
      "text/plain": [
       "2490"
      ]
     },
     "execution_count": 178,
     "metadata": {},
     "output_type": "execute_result"
    }
   ],
   "source": [
    "len(job_description1)"
   ]
  },
  {
   "cell_type": "code",
   "execution_count": 179,
   "metadata": {},
   "outputs": [
    {
     "data": {
      "text/plain": [
       "2490"
      ]
     },
     "execution_count": 179,
     "metadata": {},
     "output_type": "execute_result"
    }
   ],
   "source": [
    "len(Date)"
   ]
  },
  {
   "cell_type": "code",
   "execution_count": 185,
   "metadata": {},
   "outputs": [
    {
     "data": {
      "text/plain": [
       "2490"
      ]
     },
     "execution_count": 185,
     "metadata": {},
     "output_type": "execute_result"
    }
   ],
   "source": [
    "len(location)"
   ]
  },
  {
   "cell_type": "code",
   "execution_count": 181,
   "metadata": {},
   "outputs": [
    {
     "data": {
      "text/plain": [
       "2490"
      ]
     },
     "execution_count": 181,
     "metadata": {},
     "output_type": "execute_result"
    }
   ],
   "source": [
    "len(Salary)"
   ]
  },
  {
   "cell_type": "code",
   "execution_count": 183,
   "metadata": {},
   "outputs": [],
   "source": [
    "category.append(\"NA\")"
   ]
  },
  {
   "cell_type": "code",
   "execution_count": 184,
   "metadata": {},
   "outputs": [],
   "source": [
    "location.append(\"NA\")"
   ]
  },
  {
   "cell_type": "code",
   "execution_count": 189,
   "metadata": {},
   "outputs": [
    {
     "data": {
      "text/plain": [
       "(2490, 8)"
      ]
     },
     "execution_count": 189,
     "metadata": {},
     "output_type": "execute_result"
    }
   ],
   "source": [
    "dd.shape"
   ]
  },
  {
   "cell_type": "code",
   "execution_count": 190,
   "metadata": {},
   "outputs": [
    {
     "data": {
      "text/html": [
       "<div>\n",
       "<style scoped>\n",
       "    .dataframe tbody tr th:only-of-type {\n",
       "        vertical-align: middle;\n",
       "    }\n",
       "\n",
       "    .dataframe tbody tr th {\n",
       "        vertical-align: top;\n",
       "    }\n",
       "\n",
       "    .dataframe thead th {\n",
       "        text-align: right;\n",
       "    }\n",
       "</style>\n",
       "<table border=\"1\" class=\"dataframe\">\n",
       "  <thead>\n",
       "    <tr style=\"text-align: right;\">\n",
       "      <th></th>\n",
       "      <th>job_title</th>\n",
       "      <th>Date</th>\n",
       "      <th>Salary</th>\n",
       "      <th>job_type</th>\n",
       "      <th>category</th>\n",
       "      <th>location</th>\n",
       "      <th>job_description</th>\n",
       "      <th>search_key</th>\n",
       "    </tr>\n",
       "  </thead>\n",
       "  <tbody>\n",
       "    <tr>\n",
       "      <th>0</th>\n",
       "      <td>Data Analytics &amp; Data Science Team Leader</td>\n",
       "      <td>25 Jan 2019</td>\n",
       "      <td>$110,172.00 - $119,921.00</td>\n",
       "      <td>Full Time</td>\n",
       "      <td>Government &amp; Defence</td>\n",
       "      <td>Melbourne</td>\n",
       "      <td>b'\\n&lt;p&gt;The mission of the AFP is to provide dy...</td>\n",
       "      <td>Data Science</td>\n",
       "    </tr>\n",
       "    <tr>\n",
       "      <th>1</th>\n",
       "      <td>Data Analytics &amp; Data Science Team Leader</td>\n",
       "      <td>24 Jan 2019</td>\n",
       "      <td>$110,172.00 - $119,921.00</td>\n",
       "      <td>Full Time</td>\n",
       "      <td>Information &amp; Communication Technology</td>\n",
       "      <td>Melbourne</td>\n",
       "      <td>b'\\n&lt;p&gt;The mission of the AFP is to provide dy...</td>\n",
       "      <td>Data Science</td>\n",
       "    </tr>\n",
       "    <tr>\n",
       "      <th>2</th>\n",
       "      <td>Data Science, Data Engineers, Data Analytics -...</td>\n",
       "      <td>25 Jan 2019</td>\n",
       "      <td>Full Time</td>\n",
       "      <td>Share this role</td>\n",
       "      <td>Information &amp; Communication Technology</td>\n",
       "      <td>Melbourne</td>\n",
       "      <td>b'\\n&lt;div&gt;&lt;strong&gt;Expressions of Interests&lt;/str...</td>\n",
       "      <td>Data Science</td>\n",
       "    </tr>\n",
       "    <tr>\n",
       "      <th>3</th>\n",
       "      <td>Machine Learning Data Scientist - Purposeful H...</td>\n",
       "      <td>17 Jan 2019</td>\n",
       "      <td>Full Time</td>\n",
       "      <td>Share this role</td>\n",
       "      <td>Science &amp; Technology</td>\n",
       "      <td>Melbourne</td>\n",
       "      <td>b'A purposeful, Australian owned HealthTech co...</td>\n",
       "      <td>Data Science</td>\n",
       "    </tr>\n",
       "    <tr>\n",
       "      <th>4</th>\n",
       "      <td>Head of Data Science</td>\n",
       "      <td>22 Jan 2019</td>\n",
       "      <td>Competitive Salary + Bonus + Benefits</td>\n",
       "      <td>Full Time</td>\n",
       "      <td>Marketing &amp; Communications</td>\n",
       "      <td>Melbourne</td>\n",
       "      <td>b'\\n&lt;p&gt;&lt;strong&gt;About Us&lt;/strong&gt;&lt;/p&gt;\\n&lt;p&gt;Energ...</td>\n",
       "      <td>Data Science</td>\n",
       "    </tr>\n",
       "  </tbody>\n",
       "</table>\n",
       "</div>"
      ],
      "text/plain": [
       "                                           job_title         Date  \\\n",
       "0          Data Analytics & Data Science Team Leader  25 Jan 2019   \n",
       "1          Data Analytics & Data Science Team Leader  24 Jan 2019   \n",
       "2  Data Science, Data Engineers, Data Analytics -...  25 Jan 2019   \n",
       "3  Machine Learning Data Scientist - Purposeful H...  17 Jan 2019   \n",
       "4                               Head of Data Science  22 Jan 2019   \n",
       "\n",
       "                                  Salary         job_type  \\\n",
       "0              $110,172.00 - $119,921.00        Full Time   \n",
       "1              $110,172.00 - $119,921.00        Full Time   \n",
       "2                              Full Time  Share this role   \n",
       "3                              Full Time  Share this role   \n",
       "4  Competitive Salary + Bonus + Benefits        Full Time   \n",
       "\n",
       "                                 category   location  \\\n",
       "0                    Government & Defence  Melbourne   \n",
       "1  Information & Communication Technology  Melbourne   \n",
       "2  Information & Communication Technology  Melbourne   \n",
       "3                    Science & Technology  Melbourne   \n",
       "4              Marketing & Communications  Melbourne   \n",
       "\n",
       "                                     job_description    search_key  \n",
       "0  b'\\n<p>The mission of the AFP is to provide dy...  Data Science  \n",
       "1  b'\\n<p>The mission of the AFP is to provide dy...  Data Science  \n",
       "2  b'\\n<div><strong>Expressions of Interests</str...  Data Science  \n",
       "3  b'A purposeful, Australian owned HealthTech co...  Data Science  \n",
       "4  b'\\n<p><strong>About Us</strong></p>\\n<p>Energ...  Data Science  "
      ]
     },
     "execution_count": 190,
     "metadata": {},
     "output_type": "execute_result"
    }
   ],
   "source": [
    "dd.head()"
   ]
  },
  {
   "cell_type": "code",
   "execution_count": 191,
   "metadata": {},
   "outputs": [
    {
     "name": "stdout",
     "output_type": "stream",
     "text": [
      "<class 'pandas.core.frame.DataFrame'>\n",
      "RangeIndex: 2490 entries, 0 to 2489\n",
      "Data columns (total 8 columns):\n",
      "job_title          2490 non-null object\n",
      "Date               2490 non-null object\n",
      "Salary             2490 non-null object\n",
      "job_type           2490 non-null object\n",
      "category           2490 non-null object\n",
      "location           2490 non-null object\n",
      "job_description    2490 non-null object\n",
      "search_key         2490 non-null object\n",
      "dtypes: object(8)\n",
      "memory usage: 155.7+ KB\n"
     ]
    }
   ],
   "source": [
    "dd.info()"
   ]
  },
  {
   "cell_type": "code",
   "execution_count": 192,
   "metadata": {},
   "outputs": [
    {
     "data": {
      "text/plain": [
       "Index(['job_title', 'Date', 'Salary', 'job_type', 'category', 'location',\n",
       "       'job_description', 'search_key'],\n",
       "      dtype='object')"
      ]
     },
     "execution_count": 192,
     "metadata": {},
     "output_type": "execute_result"
    }
   ],
   "source": [
    "dd.columns"
   ]
  },
  {
   "cell_type": "markdown",
   "metadata": {},
   "source": [
    "### Converting the dataframe into csv file and saved it"
   ]
  },
  {
   "cell_type": "code",
   "execution_count": 194,
   "metadata": {},
   "outputs": [],
   "source": [
    "dd.to_csv(r'full_seek_data.csv', sep = ',', index = False)"
   ]
  },
  {
   "cell_type": "code",
   "execution_count": 204,
   "metadata": {},
   "outputs": [
    {
     "data": {
      "text/plain": [
       "job_title          0\n",
       "Date               0\n",
       "Salary             0\n",
       "job_type           0\n",
       "category           0\n",
       "location           0\n",
       "job_description    0\n",
       "search_key         0\n",
       "dtype: int64"
      ]
     },
     "execution_count": 204,
     "metadata": {},
     "output_type": "execute_result"
    }
   ],
   "source": [
    "dd.isnull().sum()"
   ]
  },
  {
   "cell_type": "code",
   "execution_count": null,
   "metadata": {},
   "outputs": [],
   "source": []
  }
 ],
 "metadata": {
  "kernelspec": {
   "display_name": "Python 3",
   "language": "python",
   "name": "python3"
  },
  "language_info": {
   "codemirror_mode": {
    "name": "ipython",
    "version": 3
   },
   "file_extension": ".py",
   "mimetype": "text/x-python",
   "name": "python",
   "nbconvert_exporter": "python",
   "pygments_lexer": "ipython3",
   "version": "3.7.1"
  }
 },
 "nbformat": 4,
 "nbformat_minor": 2
}
