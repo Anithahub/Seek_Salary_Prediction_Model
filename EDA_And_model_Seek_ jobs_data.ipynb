{
 "cells": [
  {
   "cell_type": "code",
   "execution_count": 194,
   "metadata": {},
   "outputs": [],
   "source": [
    "import pandas as pd\n",
    "import numpy as np\n",
    "import seaborn as sns\n",
    "from sklearn.model_selection import train_test_split, cross_val_score\n",
    "import matplotlib.pyplot as plt\n",
    "from sklearn.feature_extraction.text import CountVectorizer, TfidfVectorizer\n",
    "from sklearn.naive_bayes import MultinomialNB\n",
    "from sklearn.linear_model import LogisticRegression, LinearRegression\n",
    "from sklearn import svm\n",
    "from sklearn import metrics\n",
    "from textblob import TextBlob, Word\n",
    "from nltk.stem.snowball import SnowballStemmer\n",
    "from sklearn.pipeline import make_pipeline\n",
    "from sklearn.metrics import accuracy_score\n",
    "from sklearn.ensemble import RandomForestRegressor, ExtraTreesRegressor, ExtraTreesClassifier\n",
    "from sklearn.tree import DecisionTreeClassifier\n",
    "from sklearn.neighbors import KNeighborsClassifier\n",
    "\n",
    "%matplotlib inline"
   ]
  },
  {
   "cell_type": "code",
   "execution_count": 215,
   "metadata": {},
   "outputs": [],
   "source": [
    "df = pd.read_csv('final_full_clean_seek_data1.csv')"
   ]
  },
  {
   "cell_type": "code",
   "execution_count": 216,
   "metadata": {},
   "outputs": [
    {
     "data": {
      "text/html": [
       "<div>\n",
       "<style scoped>\n",
       "    .dataframe tbody tr th:only-of-type {\n",
       "        vertical-align: middle;\n",
       "    }\n",
       "\n",
       "    .dataframe tbody tr th {\n",
       "        vertical-align: top;\n",
       "    }\n",
       "\n",
       "    .dataframe thead th {\n",
       "        text-align: right;\n",
       "    }\n",
       "</style>\n",
       "<table border=\"1\" class=\"dataframe\">\n",
       "  <thead>\n",
       "    <tr style=\"text-align: right;\">\n",
       "      <th></th>\n",
       "      <th>job_title</th>\n",
       "      <th>job_type</th>\n",
       "      <th>category</th>\n",
       "      <th>location</th>\n",
       "      <th>search_key</th>\n",
       "      <th>job_description_cleaned</th>\n",
       "      <th>low</th>\n",
       "      <th>high</th>\n",
       "      <th>median_sal</th>\n",
       "    </tr>\n",
       "  </thead>\n",
       "  <tbody>\n",
       "    <tr>\n",
       "      <th>0</th>\n",
       "      <td>Data Analytics &amp; Data Science Team Leader</td>\n",
       "      <td>Full Time</td>\n",
       "      <td>Information &amp; Communication Technology</td>\n",
       "      <td>Melbourne</td>\n",
       "      <td>Data Science</td>\n",
       "      <td>The mission of the AFP is to provide dynamic ...</td>\n",
       "      <td>110172.0</td>\n",
       "      <td>119921.0</td>\n",
       "      <td>115046.5</td>\n",
       "    </tr>\n",
       "    <tr>\n",
       "      <th>1</th>\n",
       "      <td>Consultant, Data Scientist</td>\n",
       "      <td>Full Time</td>\n",
       "      <td>Information &amp; Communication Technology</td>\n",
       "      <td>Melbourne</td>\n",
       "      <td>Data Science</td>\n",
       "      <td>The Data Scientist will be accountable for des...</td>\n",
       "      <td>130000.0</td>\n",
       "      <td>140000.0</td>\n",
       "      <td>135000.0</td>\n",
       "    </tr>\n",
       "    <tr>\n",
       "      <th>2</th>\n",
       "      <td>Data Scientist</td>\n",
       "      <td>Full Time</td>\n",
       "      <td>Education &amp; Training</td>\n",
       "      <td>Melbourne</td>\n",
       "      <td>Data Science</td>\n",
       "      <td>Data Scientist     Fixed term 6 months role ...</td>\n",
       "      <td>90000.0</td>\n",
       "      <td>105000.0</td>\n",
       "      <td>97500.0</td>\n",
       "    </tr>\n",
       "    <tr>\n",
       "      <th>3</th>\n",
       "      <td>Sr. Machine Learning Engineer</td>\n",
       "      <td>Full Time</td>\n",
       "      <td>Science &amp; Technology</td>\n",
       "      <td>Melbourne</td>\n",
       "      <td>Data Science</td>\n",
       "      <td>An exciting opportunity has opened up with a ...</td>\n",
       "      <td>150000.0</td>\n",
       "      <td>230000.0</td>\n",
       "      <td>190000.0</td>\n",
       "    </tr>\n",
       "    <tr>\n",
       "      <th>4</th>\n",
       "      <td>Senior Data Scientist</td>\n",
       "      <td>Contract/Temp</td>\n",
       "      <td>Information &amp; Communication Technology</td>\n",
       "      <td>Melbourne</td>\n",
       "      <td>Data Science</td>\n",
       "      <td>This is an exciting opportunity to join a lead...</td>\n",
       "      <td>216000.0</td>\n",
       "      <td>230400.0</td>\n",
       "      <td>223200.0</td>\n",
       "    </tr>\n",
       "  </tbody>\n",
       "</table>\n",
       "</div>"
      ],
      "text/plain": [
       "                                   job_title       job_type  \\\n",
       "0  Data Analytics & Data Science Team Leader      Full Time   \n",
       "1                 Consultant, Data Scientist      Full Time   \n",
       "2                             Data Scientist      Full Time   \n",
       "3              Sr. Machine Learning Engineer      Full Time   \n",
       "4                      Senior Data Scientist  Contract/Temp   \n",
       "\n",
       "                                 category   location    search_key  \\\n",
       "0  Information & Communication Technology  Melbourne  Data Science   \n",
       "1  Information & Communication Technology  Melbourne  Data Science   \n",
       "2                    Education & Training  Melbourne  Data Science   \n",
       "3                    Science & Technology  Melbourne  Data Science   \n",
       "4  Information & Communication Technology  Melbourne  Data Science   \n",
       "\n",
       "                             job_description_cleaned       low      high  \\\n",
       "0   The mission of the AFP is to provide dynamic ...  110172.0  119921.0   \n",
       "1  The Data Scientist will be accountable for des...  130000.0  140000.0   \n",
       "2    Data Scientist     Fixed term 6 months role ...   90000.0  105000.0   \n",
       "3   An exciting opportunity has opened up with a ...  150000.0  230000.0   \n",
       "4  This is an exciting opportunity to join a lead...  216000.0  230400.0   \n",
       "\n",
       "   median_sal  \n",
       "0    115046.5  \n",
       "1    135000.0  \n",
       "2     97500.0  \n",
       "3    190000.0  \n",
       "4    223200.0  "
      ]
     },
     "execution_count": 216,
     "metadata": {},
     "output_type": "execute_result"
    }
   ],
   "source": [
    "df.head()"
   ]
  },
  {
   "cell_type": "code",
   "execution_count": 4,
   "metadata": {},
   "outputs": [
    {
     "data": {
      "text/plain": [
       "(368, 9)"
      ]
     },
     "execution_count": 4,
     "metadata": {},
     "output_type": "execute_result"
    }
   ],
   "source": [
    "df.shape"
   ]
  },
  {
   "cell_type": "code",
   "execution_count": 5,
   "metadata": {},
   "outputs": [
    {
     "data": {
      "text/plain": [
       "array(['Information & Communication Technology', 'Education & Training',\n",
       "       'Science & Technology', 'Engineering', 'Government & Defence',\n",
       "       'Consulting & Strategy', 'Banking & Financial Services',\n",
       "       'Construction', 'Human Resources & Recruitment', 'Sales',\n",
       "       'Real Estate & Property', 'Marketing & Communications',\n",
       "       'Accounting', 'Call Centre & Customer Service',\n",
       "       'Design & Architecture', 'Mining, Resources & Energy',\n",
       "       'Administration & Office Support', 'Retail & Consumer Products',\n",
       "       'Manufacturing, Transport & Logistics', 'Healthcare & Medical',\n",
       "       'Advertising, Arts & Media', 'Trades & Services',\n",
       "       'Insurance & Superannuation', 'Community Services & Development'],\n",
       "      dtype=object)"
      ]
     },
     "execution_count": 5,
     "metadata": {},
     "output_type": "execute_result"
    }
   ],
   "source": [
    "df.category.unique()"
   ]
  },
  {
   "cell_type": "code",
   "execution_count": 6,
   "metadata": {},
   "outputs": [
    {
     "data": {
      "text/html": [
       "<div>\n",
       "<style scoped>\n",
       "    .dataframe tbody tr th:only-of-type {\n",
       "        vertical-align: middle;\n",
       "    }\n",
       "\n",
       "    .dataframe tbody tr th {\n",
       "        vertical-align: top;\n",
       "    }\n",
       "\n",
       "    .dataframe thead th {\n",
       "        text-align: right;\n",
       "    }\n",
       "</style>\n",
       "<table border=\"1\" class=\"dataframe\">\n",
       "  <thead>\n",
       "    <tr style=\"text-align: right;\">\n",
       "      <th></th>\n",
       "      <th>low</th>\n",
       "      <th>high</th>\n",
       "      <th>median_sal</th>\n",
       "    </tr>\n",
       "  </thead>\n",
       "  <tbody>\n",
       "    <tr>\n",
       "      <th>count</th>\n",
       "      <td>356.000000</td>\n",
       "      <td>367.000000</td>\n",
       "      <td>356.000000</td>\n",
       "    </tr>\n",
       "    <tr>\n",
       "      <th>mean</th>\n",
       "      <td>112529.078652</td>\n",
       "      <td>112302.299728</td>\n",
       "      <td>114150.696629</td>\n",
       "    </tr>\n",
       "    <tr>\n",
       "      <th>std</th>\n",
       "      <td>49283.562980</td>\n",
       "      <td>69485.609809</td>\n",
       "      <td>50602.080683</td>\n",
       "    </tr>\n",
       "    <tr>\n",
       "      <th>min</th>\n",
       "      <td>0.000000</td>\n",
       "      <td>0.000000</td>\n",
       "      <td>0.000000</td>\n",
       "    </tr>\n",
       "    <tr>\n",
       "      <th>25%</th>\n",
       "      <td>80000.000000</td>\n",
       "      <td>79999.000000</td>\n",
       "      <td>83625.000000</td>\n",
       "    </tr>\n",
       "    <tr>\n",
       "      <th>50%</th>\n",
       "      <td>110000.000000</td>\n",
       "      <td>115000.000000</td>\n",
       "      <td>107750.000000</td>\n",
       "    </tr>\n",
       "    <tr>\n",
       "      <th>75%</th>\n",
       "      <td>144000.000000</td>\n",
       "      <td>160000.000000</td>\n",
       "      <td>150000.000000</td>\n",
       "    </tr>\n",
       "    <tr>\n",
       "      <th>max</th>\n",
       "      <td>288000.000000</td>\n",
       "      <td>288000.000000</td>\n",
       "      <td>268800.000000</td>\n",
       "    </tr>\n",
       "  </tbody>\n",
       "</table>\n",
       "</div>"
      ],
      "text/plain": [
       "                 low           high     median_sal\n",
       "count     356.000000     367.000000     356.000000\n",
       "mean   112529.078652  112302.299728  114150.696629\n",
       "std     49283.562980   69485.609809   50602.080683\n",
       "min         0.000000       0.000000       0.000000\n",
       "25%     80000.000000   79999.000000   83625.000000\n",
       "50%    110000.000000  115000.000000  107750.000000\n",
       "75%    144000.000000  160000.000000  150000.000000\n",
       "max    288000.000000  288000.000000  268800.000000"
      ]
     },
     "execution_count": 6,
     "metadata": {},
     "output_type": "execute_result"
    }
   ],
   "source": [
    "df.describe()"
   ]
  },
  {
   "cell_type": "code",
   "execution_count": 7,
   "metadata": {},
   "outputs": [
    {
     "data": {
      "text/plain": [
       "array(['Full Time', 'Contract/Temp', 'Part Time', 'Share this role'],\n",
       "      dtype=object)"
      ]
     },
     "execution_count": 7,
     "metadata": {},
     "output_type": "execute_result"
    }
   ],
   "source": [
    "df.job_type.unique()"
   ]
  },
  {
   "cell_type": "code",
   "execution_count": 8,
   "metadata": {},
   "outputs": [
    {
     "name": "stdout",
     "output_type": "stream",
     "text": [
      "<class 'pandas.core.frame.DataFrame'>\n",
      "RangeIndex: 368 entries, 0 to 367\n",
      "Data columns (total 9 columns):\n",
      "job_title                  368 non-null object\n",
      "job_type                   368 non-null object\n",
      "category                   368 non-null object\n",
      "location                   368 non-null object\n",
      "search_key                 368 non-null object\n",
      "job_description_cleaned    368 non-null object\n",
      "low                        356 non-null float64\n",
      "high                       367 non-null float64\n",
      "median_sal                 356 non-null float64\n",
      "dtypes: float64(3), object(6)\n",
      "memory usage: 26.0+ KB\n"
     ]
    }
   ],
   "source": [
    "df.info()"
   ]
  },
  {
   "cell_type": "code",
   "execution_count": 217,
   "metadata": {},
   "outputs": [],
   "source": [
    "med = df.median_sal.median()"
   ]
  },
  {
   "cell_type": "code",
   "execution_count": 218,
   "metadata": {},
   "outputs": [
    {
     "data": {
      "text/plain": [
       "107750.0"
      ]
     },
     "execution_count": 218,
     "metadata": {},
     "output_type": "execute_result"
    }
   ],
   "source": [
    "med"
   ]
  },
  {
   "cell_type": "markdown",
   "metadata": {},
   "source": [
    "#### Salary Distribution"
   ]
  },
  {
   "cell_type": "code",
   "execution_count": 220,
   "metadata": {},
   "outputs": [
    {
     "data": {
      "text/plain": [
       "array([[<matplotlib.axes._subplots.AxesSubplot object at 0x000002317472DA90>]],\n",
       "      dtype=object)"
      ]
     },
     "execution_count": 220,
     "metadata": {},
     "output_type": "execute_result"
    },
    {
     "data": {
      "image/png": "[encoded data removed]",
      "text/plain": [
       "<Figure size 432x288 with 1 Axes>"
      ]
     },
     "metadata": {
      "needs_background": "light"
     },
     "output_type": "display_data"
    }
   ],
   "source": [
    "plt.title = (\"Salary Distribution\")\n",
    "df.hist('median_sal')\n"
   ]
  },
  {
   "cell_type": "markdown",
   "metadata": {},
   "source": [
    "#### Median Salary across different job types "
   ]
  },
  {
   "cell_type": "code",
   "execution_count": 221,
   "metadata": {},
   "outputs": [
    {
     "name": "stderr",
     "output_type": "stream",
     "text": [
      "C:\\Users\\r_ani\\Anaconda3\\lib\\site-packages\\scipy\\stats\\stats.py:1713: FutureWarning: Using a non-tuple sequence for multidimensional indexing is deprecated; use `arr[tuple(seq)]` instead of `arr[seq]`. In the future this will be interpreted as an array index, `arr[np.array(seq)]`, which will result either in an error or a different result.\n",
      "  return np.add.reduce(sorted[indexer] * weights, axis=axis) / sumval\n"
     ]
    },
    {
     "data": {
      "text/plain": [
       "<matplotlib.axes._subplots.AxesSubplot at 0x23174667908>"
      ]
     },
     "execution_count": 221,
     "metadata": {},
     "output_type": "execute_result"
    },
    {
     "data": {
      "image/png": "[encoded data removed]",
      "text/plain": [
       "<Figure size 432x288 with 1 Axes>"
      ]
     },
     "metadata": {
      "needs_background": "light"
     },
     "output_type": "display_data"
    }
   ],
   "source": [
    "sns.violinplot(x = df.job_type, y = df.median_sal)"
   ]
  },
  {
   "cell_type": "code",
   "execution_count": 1,
   "metadata": {},
   "outputs": [],
   "source": [
    "#### Contract/ Temp job has high median Salary"
   ]
  },
  {
   "cell_type": "code",
   "execution_count": 222,
   "metadata": {},
   "outputs": [],
   "source": [
    "#Function to classify salary using median value:\n",
    "def sal_type(sal):\n",
    "    if sal > med:\n",
    "        sal = 'high'\n",
    "    else:\n",
    "        sal = 'low'\n",
    "    return sal"
   ]
  },
  {
   "cell_type": "code",
   "execution_count": 223,
   "metadata": {},
   "outputs": [],
   "source": [
    "# Applying the function to median salary to classify the salary:\n",
    "df['salary_type'] = df.median_sal.map(sal_type)"
   ]
  },
  {
   "cell_type": "code",
   "execution_count": 224,
   "metadata": {},
   "outputs": [
    {
     "data": {
      "text/html": [
       "<div>\n",
       "<style scoped>\n",
       "    .dataframe tbody tr th:only-of-type {\n",
       "        vertical-align: middle;\n",
       "    }\n",
       "\n",
       "    .dataframe tbody tr th {\n",
       "        vertical-align: top;\n",
       "    }\n",
       "\n",
       "    .dataframe thead th {\n",
       "        text-align: right;\n",
       "    }\n",
       "</style>\n",
       "<table border=\"1\" class=\"dataframe\">\n",
       "  <thead>\n",
       "    <tr style=\"text-align: right;\">\n",
       "      <th></th>\n",
       "      <th>job_title</th>\n",
       "      <th>job_type</th>\n",
       "      <th>category</th>\n",
       "      <th>location</th>\n",
       "      <th>search_key</th>\n",
       "      <th>job_description_cleaned</th>\n",
       "      <th>low</th>\n",
       "      <th>high</th>\n",
       "      <th>median_sal</th>\n",
       "      <th>salary_type</th>\n",
       "    </tr>\n",
       "  </thead>\n",
       "  <tbody>\n",
       "    <tr>\n",
       "      <th>0</th>\n",
       "      <td>Data Analytics &amp; Data Science Team Leader</td>\n",
       "      <td>Full Time</td>\n",
       "      <td>Information &amp; Communication Technology</td>\n",
       "      <td>Melbourne</td>\n",
       "      <td>Data Science</td>\n",
       "      <td>The mission of the AFP is to provide dynamic ...</td>\n",
       "      <td>110172.0</td>\n",
       "      <td>119921.0</td>\n",
       "      <td>115046.5</td>\n",
       "      <td>high</td>\n",
       "    </tr>\n",
       "    <tr>\n",
       "      <th>1</th>\n",
       "      <td>Consultant, Data Scientist</td>\n",
       "      <td>Full Time</td>\n",
       "      <td>Information &amp; Communication Technology</td>\n",
       "      <td>Melbourne</td>\n",
       "      <td>Data Science</td>\n",
       "      <td>The Data Scientist will be accountable for des...</td>\n",
       "      <td>130000.0</td>\n",
       "      <td>140000.0</td>\n",
       "      <td>135000.0</td>\n",
       "      <td>high</td>\n",
       "    </tr>\n",
       "    <tr>\n",
       "      <th>2</th>\n",
       "      <td>Data Scientist</td>\n",
       "      <td>Full Time</td>\n",
       "      <td>Education &amp; Training</td>\n",
       "      <td>Melbourne</td>\n",
       "      <td>Data Science</td>\n",
       "      <td>Data Scientist     Fixed term 6 months role ...</td>\n",
       "      <td>90000.0</td>\n",
       "      <td>105000.0</td>\n",
       "      <td>97500.0</td>\n",
       "      <td>low</td>\n",
       "    </tr>\n",
       "    <tr>\n",
       "      <th>3</th>\n",
       "      <td>Sr. Machine Learning Engineer</td>\n",
       "      <td>Full Time</td>\n",
       "      <td>Science &amp; Technology</td>\n",
       "      <td>Melbourne</td>\n",
       "      <td>Data Science</td>\n",
       "      <td>An exciting opportunity has opened up with a ...</td>\n",
       "      <td>150000.0</td>\n",
       "      <td>230000.0</td>\n",
       "      <td>190000.0</td>\n",
       "      <td>high</td>\n",
       "    </tr>\n",
       "    <tr>\n",
       "      <th>4</th>\n",
       "      <td>Senior Data Scientist</td>\n",
       "      <td>Contract/Temp</td>\n",
       "      <td>Information &amp; Communication Technology</td>\n",
       "      <td>Melbourne</td>\n",
       "      <td>Data Science</td>\n",
       "      <td>This is an exciting opportunity to join a lead...</td>\n",
       "      <td>216000.0</td>\n",
       "      <td>230400.0</td>\n",
       "      <td>223200.0</td>\n",
       "      <td>high</td>\n",
       "    </tr>\n",
       "  </tbody>\n",
       "</table>\n",
       "</div>"
      ],
      "text/plain": [
       "                                   job_title       job_type  \\\n",
       "0  Data Analytics & Data Science Team Leader      Full Time   \n",
       "1                 Consultant, Data Scientist      Full Time   \n",
       "2                             Data Scientist      Full Time   \n",
       "3              Sr. Machine Learning Engineer      Full Time   \n",
       "4                      Senior Data Scientist  Contract/Temp   \n",
       "\n",
       "                                 category   location    search_key  \\\n",
       "0  Information & Communication Technology  Melbourne  Data Science   \n",
       "1  Information & Communication Technology  Melbourne  Data Science   \n",
       "2                    Education & Training  Melbourne  Data Science   \n",
       "3                    Science & Technology  Melbourne  Data Science   \n",
       "4  Information & Communication Technology  Melbourne  Data Science   \n",
       "\n",
       "                             job_description_cleaned       low      high  \\\n",
       "0   The mission of the AFP is to provide dynamic ...  110172.0  119921.0   \n",
       "1  The Data Scientist will be accountable for des...  130000.0  140000.0   \n",
       "2    Data Scientist     Fixed term 6 months role ...   90000.0  105000.0   \n",
       "3   An exciting opportunity has opened up with a ...  150000.0  230000.0   \n",
       "4  This is an exciting opportunity to join a lead...  216000.0  230400.0   \n",
       "\n",
       "   median_sal salary_type  \n",
       "0    115046.5        high  \n",
       "1    135000.0        high  \n",
       "2     97500.0         low  \n",
       "3    190000.0        high  \n",
       "4    223200.0        high  "
      ]
     },
     "execution_count": 224,
     "metadata": {},
     "output_type": "execute_result"
    }
   ],
   "source": [
    "df.head()"
   ]
  },
  {
   "cell_type": "code",
   "execution_count": 16,
   "metadata": {},
   "outputs": [
    {
     "data": {
      "text/plain": [
       "array(['Data Science', 'Data Analytics', 'Data Scientist', 'Data Analyst'],\n",
       "      dtype=object)"
      ]
     },
     "execution_count": 16,
     "metadata": {},
     "output_type": "execute_result"
    }
   ],
   "source": [
    "df.search_key.unique()"
   ]
  },
  {
   "cell_type": "code",
   "execution_count": 225,
   "metadata": {},
   "outputs": [
    {
     "data": {
      "text/plain": [
       "<matplotlib.axes._subplots.AxesSubplot at 0x2317446c400>"
      ]
     },
     "execution_count": 225,
     "metadata": {},
     "output_type": "execute_result"
    },
    {
     "data": {
      "image/png": "[encoded data removed]",
      "text/plain": [
       "<Figure size 432x288 with 1 Axes>"
      ]
     },
     "metadata": {
      "needs_background": "light"
     },
     "output_type": "display_data"
    }
   ],
   "source": [
    "sns.countplot(df.job_type, hue = df.salary_type)"
   ]
  },
  {
   "cell_type": "code",
   "execution_count": 43,
   "metadata": {},
   "outputs": [],
   "source": [
    "#### The above graph explains that pay will be high in contract type role when compared to full time"
   ]
  },
  {
   "cell_type": "code",
   "execution_count": 19,
   "metadata": {},
   "outputs": [
    {
     "data": {
      "text/plain": [
       "array(['Data Analytics & Data Science Team Leader',\n",
       "       'Consultant, Data Scientist', 'Data Scientist',\n",
       "       'Sr. Machine Learning Engineer', 'Senior Data Scientist',\n",
       "       'Data Engineer', 'Data Modeller', 'Big Data Architect',\n",
       "       'Lead Data Scientist', 'Data Integration Engineer ',\n",
       "       'Platform Engineer - Hortonworks / Python',\n",
       "       'Business Analyst | Digital ',\n",
       "       'Senior Full-Stack Software Engineer (Java/PHP/Node)',\n",
       "       'Data Architect - MongoDB',\n",
       "       'Business Analyst | $600-$750 | Global Impact',\n",
       "       'SURVEY STATISTICIAN/METHODOLOGIST',\n",
       "       'Business Intelligence/ ETL Developer', 'Senior Devops Engineer',\n",
       "       'Environmental Advisor - Western Suburbs - Major Rail Project',\n",
       "       'Manager Systems Intelligence and Analytics', 'Kafka Specialist',\n",
       "       'Data Analyst ', 'BI Developer/Analyst', 'Geodetic Surveyor',\n",
       "       'Sustainability Advisor - Western Suburbs - Major Rail project',\n",
       "       'Data Analyst (SAS & SQL)', 'Systems Analyst, Fulltime, Essendon',\n",
       "       'Biological Scientist', 'Information Security Analyst',\n",
       "       'Research Security Services Coordinator',\n",
       "       'Snr Python Developer - Wealth Management',\n",
       "       'Integration Analyst (Clinical Healthcare Systems) - Permanent - Brisbane Based',\n",
       "       '.NET developer', 'Data Analyst',\n",
       "       'Microsoft SQL Database Administrator Developer DBA',\n",
       "       'Senior Java Developer (CONTRACT)',\n",
       "       'Project Surveyor - Cadastral - Consultancy',\n",
       "       'BI Manager (Hands-on)',\n",
       "       'Senior Consultant - Analytics & Big Data',\n",
       "       'Customer Analyst and Insights ',\n",
       "       'Associate Director Data Analytics',\n",
       "       ' BI, Data & Analytics BDM / Regional Sales Expert',\n",
       "       'Senior Associate, Data Analytics', 'Data Focused ScrumMaster ',\n",
       "       'Lead Big Data Architect - Tier 1 Consultancy - Melbourne c$160-190K Neg',\n",
       "       'Senior Machine Learning Engineer',\n",
       "       'Australian National Audit Office 2020 Graduate Program',\n",
       "       'MDM Lead ', 'Senior Data Analyst - Data Migration',\n",
       "       'Director Reporting & Business Assurance',\n",
       "       'Senior Project Consultant - Quantitative',\n",
       "       'Senior Tableau Analyst',\n",
       "       'SAP Asset Data Analyst / SAP Maintenance Planner / SAP Master Data Analyst',\n",
       "       'MS BI Consultant -Azure - Melbourne ', 'Senior Tableau Developer',\n",
       "       'Manager - Data and Business Intelligence',\n",
       "       'Senior Pre-Sales Consultant - Canberra',\n",
       "       'Pre-Sales Consultant - Perth',\n",
       "       'Administration Support Officer (FCD.158)',\n",
       "       'Enterprise Change Manager', 'Scrum Master',\n",
       "       'Customer Insights & Segmentation Lead', 'Data Specialist ',\n",
       "       'Qlikview Business Intelligence Developer', 'IT Delivery Manager',\n",
       "       'Customer Data Analyst',\n",
       "       'Security Lead/Security Solution Strategist',\n",
       "       'Business Development Manager / Sales Executive - Logistics',\n",
       "       'DevOps Engineer', 'Data and Reporting Manager',\n",
       "       'Senior Data Consultant ', 'Lead Data Security Analyst',\n",
       "       'Senior Quantitative Account Manager - Best of the boutiques!',\n",
       "       'Big Data Engineer', 'Digital Marketing Specialist',\n",
       "       'Business Development Manager', 'Commercial Analyst',\n",
       "       'Logistics Manager', 'Data Analyst / Technical BA',\n",
       "       'Senior Data Analyst', 'Customer Analyst',\n",
       "       'Technical Business Analyst - Investments', 'Social Media Manager',\n",
       "       'Network Data Transition & Reporting Analyst', 'MS Excel SME ',\n",
       "       'Data Migration/Reporting Specialist Melbourne CBD',\n",
       "       'Consultant - Quantitative Insights',\n",
       "       'Production Database Administrator', 'Business Analyst',\n",
       "       'Business lntelligence Developer', 'Product Analyst - Investments',\n",
       "       'Clinical Coder', 'DLP Security Analyst', 'IT Storage Consultant',\n",
       "       'SAS Fraud Analyst', 'MSBI/Azure Developer',\n",
       "       'Reporting and Compliance Officer', 'Performance Analyst ',\n",
       "       'Senior Data Governance Manager', 'IT Implementation Engineer ',\n",
       "       'eDiscovery Analyst',\n",
       "       'Enterprise Account Director - Education Sector',\n",
       "       'Cryptologic Systems Operator',\n",
       "       'Business Development Manager - BFSI', 'Customer Insights Manager',\n",
       "       'Business Analyst (Process)', 'Analyst',\n",
       "       'Senior Data Analyst - Based in Canberra',\n",
       "       'Senior Analyst (Market Research)', 'Cyber Security Analyst ',\n",
       "       'GMC (Quadient) Architect', 'Appian Developer / Senior Developer',\n",
       "       'Sales Reporting - Part Time', 'Operations Delivery Manager',\n",
       "       'Merchandise Allocator', 'Business Analyst, Technical',\n",
       "       'Solutions Architect - Data Warehouse / Azure',\n",
       "       'Level 3 Support Engineer', 'Senior Development Lead',\n",
       "       'Senior Business Analyst', 'Revenue Analyst',\n",
       "       'Analyst / Accountant - 6-8 week temp assignment',\n",
       "       'Business Systems Analyst', 'Infrastructure Analyst',\n",
       "       'Quality Advisor - Multi-Site - Aged Care - NFP',\n",
       "       'Senior Agile Business Analyst',\n",
       "       'Commercial Analyst | Financial Modelling | Technology Company',\n",
       "       'PMO lead', 'FINANCE BUSINESS PARTNER', 'Transport Analyst',\n",
       "       'Process Improvement Analyst', 'Windows System Analyst',\n",
       "       'Finance Analyst | Digital Media | Northern Suburbs | $120k',\n",
       "       'Senior Agile Business Analyst - CRM', 'Unit Pricing Analyst',\n",
       "       'Integrated Asset Systems', 'Senior Analyst - Risk',\n",
       "       'Manager, Strategic Finance',\n",
       "       'Business Analyst - Financial Advice /Wrap Platform - 6 month contract $800 pd',\n",
       "       'BI Analyst', 'Service Desk Analyst - EUC / SCCM / SOE Deployment',\n",
       "       'Business Intelligence Manager',\n",
       "       'Reporting and Performance Analyst',\n",
       "       'Commercial Analyst / Modeller ', 'Strategic Intelligence Analyst',\n",
       "       'Integrated Asset Management Systems',\n",
       "       'Financial Planning & Systems Manager | Circa $130k',\n",
       "       'Commercial Business Analyst',\n",
       "       'Group Accountant | $80,000 - $90,000 + super | Bayside Location',\n",
       "       'Commercial Analyst | International Business | South-East ',\n",
       "       'Security Analyst', 'Data Analyst/Scientist',\n",
       "       'Data Scientist - Customer Analytics in Financial Services!',\n",
       "       'Machine Learning Engineer / Scientist - Optimisation experience',\n",
       "       'Data Scientist, Analytics, Machine Learning - Data Scientist, Data Statistician',\n",
       "       'Credit Risk Analytics- Data Scientist',\n",
       "       'Principal Data Scientist ',\n",
       "       'Data Scientist- Credit Risk Projects',\n",
       "       'Data Scientist - Financial Markets',\n",
       "       'Junior Data Scientist, Conversational AI, Western Subs, Sydney',\n",
       "       'Senior Data Scientist - Retail',\n",
       "       'Senior Data Scientist - Location & Segment Analytics',\n",
       "       'Data Scientist ',\n",
       "       'Big Data Engineer (Contract) : Sydney : 6 Month Contract : Excellent Rate',\n",
       "       'Data Administrator / Data Engineer',\n",
       "       'Senior Data Science (Loyalty) :: $170K + Super + Bonus :: Sydney',\n",
       "       'Insights Analyst – Online Video Streaming',\n",
       "       'Data Platform Engineer | US Tech Startup | Sydney CBD',\n",
       "       'Data Engineering Manager', 'Full Stack Engineer - Python',\n",
       "       'Senior Data Engineer - Location & Segment Analytics',\n",
       "       'Data Steward ',\n",
       "       'Operations Research/Modelling & Simulation/Data Analysis',\n",
       "       'Data Steward - Governance & Data Management ',\n",
       "       'Data Engineer - Machine Learning', 'Retail Sales Analyst',\n",
       "       'Senior Analyst - Scorecards', 'Sanctions Analyst',\n",
       "       'Systems Analyst', 'Financial Analyst', 'Junior Credit Analyst',\n",
       "       'Business Analyst - Identity Access Management',\n",
       "       'Financial Analyst - Supply Chain',\n",
       "       'Finance Process and Efficiency Analyst',\n",
       "       'Business Analyst / Scrum Master', 'Business Analyst (Functional)',\n",
       "       'Senior Financial Analyst - Supply Chain',\n",
       "       'Principal Policy Analyst', 'Business Analyst - E-commerce',\n",
       "       'Agile Business Analyst - IT Consultancy',\n",
       "       'Risk & Compliance Analyst', 'Investment Analyst- Sydney',\n",
       "       'Sysadmin and developer operations support', 'Trade Spend Analyst',\n",
       "       'Budget Analyst ', 'Financial Commercial Business Analyst',\n",
       "       'Business Analyst - Research and Revenue Accounting Services',\n",
       "       'Family & Administration Support Officer',\n",
       "       'SOLAR ELECTRICAL ENGINEER', 'Software Engineer',\n",
       "       'Research and Evaluation Officer',\n",
       "       'Junior Digital Project Manager',\n",
       "       'Marketing Coordinator - 12 month FTC - northern subburbs',\n",
       "       'Product Lead',\n",
       "       'Applications Developer, Enterprise Data Warehouse (EDW)',\n",
       "       'Digital Marketing & Social Media Coordinator',\n",
       "       'Project Analyst / Junior BA - Service Desk Implementation',\n",
       "       'Project Assurance and Reporting Analyst ',\n",
       "       'Production Supervisor | Manufacturing | Building Products',\n",
       "       'Credit Analyst', 'Technical Analyst | Financial Services',\n",
       "       'Management Accountant', 'Senior Policy Officer',\n",
       "       'Compliance Manager',\n",
       "       'Product & Insights Analyst - Lead Role Sports Technology',\n",
       "       'Research Fellow, Monash Centre for Scholarship in Health Education',\n",
       "       '\"Japanese-speaking\" Customer Support Associate - Finance',\n",
       "       'MS BI Consultant - up to $130,000', 'Financial Accountant FTC',\n",
       "       'Business Development Manager - Telstra', 'Financial Controller',\n",
       "       '\"Japanese-speaking\" Business Administration/Sales Support',\n",
       "       'BTB - Telecommunications Hardware Provisioning Technician',\n",
       "       'Finance Analyst', 'Customer Success Manager',\n",
       "       'Grants & Financial Risk Analyst',\n",
       "       'Mid / Senior .Net Software Developer ',\n",
       "       'Senior Quantitative Developer, Investment Solutions - 6 Month Contract',\n",
       "       'Business Development Manager ICT Solutions', 'Cost Accountant',\n",
       "       'Finance Executive', 'Financial Planning/Client Services Manager',\n",
       "       'Microsoft Dynamics 365 F&O Technical Architect',\n",
       "       'Credit Risk Modeling Analyst - Scorecards ',\n",
       "       'Business Analyst - 2 month contract', 'Senior Commercial Analyst',\n",
       "       'Security Lead', 'Business Analyst - Finance Implementation',\n",
       "       'Senior Strategic Planner',\n",
       "       'Senior Analyst (Lifecycle Marketing Campaign)',\n",
       "       'RTO Data Officer', 'Supply Planner', 'Finance Officer'],\n",
       "      dtype=object)"
      ]
     },
     "execution_count": 19,
     "metadata": {},
     "output_type": "execute_result"
    }
   ],
   "source": [
    "df.job_title.unique()"
   ]
  },
  {
   "cell_type": "code",
   "execution_count": 70,
   "metadata": {},
   "outputs": [
    {
     "name": "stderr",
     "output_type": "stream",
     "text": [
      "C:\\Users\\r_ani\\Anaconda3\\lib\\site-packages\\ipykernel_launcher.py:1: SettingWithCopyWarning: \n",
      "A value is trying to be set on a copy of a slice from a DataFrame\n",
      "\n",
      "See the caveats in the documentation: http://pandas.pydata.org/pandas-docs/stable/indexing.html#indexing-view-versus-copy\n",
      "  \"\"\"Entry point for launching an IPython kernel.\n"
     ]
    }
   ],
   "source": [
    "df.job_title[331] = 'Senior Machine Learning Engineer'"
   ]
  },
  {
   "cell_type": "code",
   "execution_count": 20,
   "metadata": {},
   "outputs": [
    {
     "data": {
      "text/plain": [
       "<matplotlib.axes._subplots.AxesSubplot at 0x23162a6d7f0>"
      ]
     },
     "execution_count": 20,
     "metadata": {},
     "output_type": "execute_result"
    },
    {
     "data": {
      "image/png": "[encoded data removed]",
      "text/plain": [
       "<Figure size 432x288 with 1 Axes>"
      ]
     },
     "metadata": {
      "needs_background": "light"
     },
     "output_type": "display_data"
    }
   ],
   "source": [
    "sns.countplot(df.location, hue = df.salary_type)"
   ]
  },
  {
   "cell_type": "markdown",
   "metadata": {},
   "source": [
    "#### Since my search for jobs were focussed on melbourne, high volumes show up in Melbourne.\n",
    "#### Have to note that though the volume of jobs are less in Sydney, the salary for most of the jobs are high when compared to Melbourne"
   ]
  },
  {
   "cell_type": "code",
   "execution_count": 227,
   "metadata": {},
   "outputs": [
    {
     "data": {
      "text/plain": [
       "<matplotlib.axes._subplots.AxesSubplot at 0x231744b8cf8>"
      ]
     },
     "execution_count": 227,
     "metadata": {},
     "output_type": "execute_result"
    },
    {
     "data": {
      "image/png": "[encoded data removed]",
      "text/plain": [
       "<Figure size 864x576 with 1 Axes>"
      ]
     },
     "metadata": {
      "needs_background": "light"
     },
     "output_type": "display_data"
    }
   ],
   "source": [
    "plt.figure(figsize=(12,8))\n",
    "df.category.value_counts().plot(kind = 'barh', color = 'green')"
   ]
  },
  {
   "cell_type": "markdown",
   "metadata": {},
   "source": [
    "#### The above graph shows the median salary in different job categories: Information and communications, Accounting, Banking, Finance, & Marketing Communications have high data related jobs & median salary."
   ]
  },
  {
   "cell_type": "code",
   "execution_count": 79,
   "metadata": {},
   "outputs": [],
   "source": [
    "df.to_csv('final_full_clean_seek_data2.csv', index = False)"
   ]
  },
  {
   "cell_type": "code",
   "execution_count": 57,
   "metadata": {},
   "outputs": [],
   "source": [
    "df = pd.read_csv('final_full_clean_seek_data2.csv')"
   ]
  },
  {
   "cell_type": "code",
   "execution_count": 103,
   "metadata": {},
   "outputs": [],
   "source": [
    "#df.job_type = df.job_type.map({'Full Time': 3, 'Contract/Temp': 2, 'Part Time': 1, 'Share this role': 0})"
   ]
  },
  {
   "cell_type": "code",
   "execution_count": 104,
   "metadata": {},
   "outputs": [
    {
     "data": {
      "text/plain": [
       "array([3, 2, 1, 0], dtype=int64)"
      ]
     },
     "execution_count": 104,
     "metadata": {},
     "output_type": "execute_result"
    }
   ],
   "source": [
    "#df.job_type.unique()"
   ]
  },
  {
   "cell_type": "code",
   "execution_count": 23,
   "metadata": {},
   "outputs": [
    {
     "data": {
      "text/html": [
       "<div>\n",
       "<style scoped>\n",
       "    .dataframe tbody tr th:only-of-type {\n",
       "        vertical-align: middle;\n",
       "    }\n",
       "\n",
       "    .dataframe tbody tr th {\n",
       "        vertical-align: top;\n",
       "    }\n",
       "\n",
       "    .dataframe thead th {\n",
       "        text-align: right;\n",
       "    }\n",
       "</style>\n",
       "<table border=\"1\" class=\"dataframe\">\n",
       "  <thead>\n",
       "    <tr style=\"text-align: right;\">\n",
       "      <th></th>\n",
       "      <th>job_title</th>\n",
       "      <th>job_type</th>\n",
       "      <th>category</th>\n",
       "      <th>location</th>\n",
       "      <th>search_key</th>\n",
       "      <th>job_description_cleaned</th>\n",
       "      <th>low</th>\n",
       "      <th>high</th>\n",
       "      <th>median_sal</th>\n",
       "      <th>salary_type</th>\n",
       "    </tr>\n",
       "  </thead>\n",
       "  <tbody>\n",
       "    <tr>\n",
       "      <th>0</th>\n",
       "      <td>Data Analytics &amp; Data Science Team Leader</td>\n",
       "      <td>Full Time</td>\n",
       "      <td>Information &amp; Communication Technology</td>\n",
       "      <td>Melbourne</td>\n",
       "      <td>Data Science</td>\n",
       "      <td>The mission of the AFP is to provide dynamic ...</td>\n",
       "      <td>110172.0</td>\n",
       "      <td>119921.0</td>\n",
       "      <td>115046.5</td>\n",
       "      <td>high</td>\n",
       "    </tr>\n",
       "    <tr>\n",
       "      <th>1</th>\n",
       "      <td>Consultant, Data Scientist</td>\n",
       "      <td>Full Time</td>\n",
       "      <td>Information &amp; Communication Technology</td>\n",
       "      <td>Melbourne</td>\n",
       "      <td>Data Science</td>\n",
       "      <td>The Data Scientist will be accountable for des...</td>\n",
       "      <td>130000.0</td>\n",
       "      <td>140000.0</td>\n",
       "      <td>135000.0</td>\n",
       "      <td>high</td>\n",
       "    </tr>\n",
       "  </tbody>\n",
       "</table>\n",
       "</div>"
      ],
      "text/plain": [
       "                                   job_title   job_type  \\\n",
       "0  Data Analytics & Data Science Team Leader  Full Time   \n",
       "1                 Consultant, Data Scientist  Full Time   \n",
       "\n",
       "                                 category   location    search_key  \\\n",
       "0  Information & Communication Technology  Melbourne  Data Science   \n",
       "1  Information & Communication Technology  Melbourne  Data Science   \n",
       "\n",
       "                             job_description_cleaned       low      high  \\\n",
       "0   The mission of the AFP is to provide dynamic ...  110172.0  119921.0   \n",
       "1  The Data Scientist will be accountable for des...  130000.0  140000.0   \n",
       "\n",
       "   median_sal salary_type  \n",
       "0    115046.5        high  \n",
       "1    135000.0        high  "
      ]
     },
     "execution_count": 23,
     "metadata": {},
     "output_type": "execute_result"
    }
   ],
   "source": [
    "df.head(2)"
   ]
  },
  {
   "cell_type": "code",
   "execution_count": null,
   "metadata": {},
   "outputs": [],
   "source": [
    "##Factors that impact salary:"
   ]
  },
  {
   "cell_type": "code",
   "execution_count": 58,
   "metadata": {},
   "outputs": [],
   "source": [
    "X = df['job_description_cleaned']"
   ]
  },
  {
   "cell_type": "code",
   "execution_count": 59,
   "metadata": {},
   "outputs": [],
   "source": [
    "df.salary_type = df.salary_type.map({'high': 1, 'low': 0})"
   ]
  },
  {
   "cell_type": "code",
   "execution_count": 60,
   "metadata": {},
   "outputs": [
    {
     "data": {
      "text/plain": [
       "0    190\n",
       "1    178\n",
       "Name: salary_type, dtype: int64"
      ]
     },
     "execution_count": 60,
     "metadata": {},
     "output_type": "execute_result"
    }
   ],
   "source": [
    "df.salary_type.value_counts()"
   ]
  },
  {
   "cell_type": "code",
   "execution_count": 61,
   "metadata": {},
   "outputs": [],
   "source": [
    "y = df.salary_type"
   ]
  },
  {
   "cell_type": "code",
   "execution_count": 62,
   "metadata": {},
   "outputs": [
    {
     "data": {
      "text/plain": [
       "0.5163043478260869"
      ]
     },
     "execution_count": 62,
     "metadata": {},
     "output_type": "execute_result"
    }
   ],
   "source": [
    "#baseline accuracy\n",
    "1. - np.mean(y)"
   ]
  },
  {
   "cell_type": "code",
   "execution_count": 63,
   "metadata": {},
   "outputs": [
    {
     "data": {
      "text/plain": [
       "Melbourne    325\n",
       "Sydney        43\n",
       "Name: location, dtype: int64"
      ]
     },
     "execution_count": 63,
     "metadata": {},
     "output_type": "execute_result"
    }
   ],
   "source": [
    "df.location.value_counts()"
   ]
  },
  {
   "cell_type": "code",
   "execution_count": 108,
   "metadata": {},
   "outputs": [],
   "source": [
    "#df.location = df.location.map({'Melbourne': 1, 'Sydney': 2})"
   ]
  },
  {
   "cell_type": "code",
   "execution_count": 64,
   "metadata": {},
   "outputs": [],
   "source": [
    "X_train, X_test, y_train, y_test = train_test_split(X, y, random_state = 1, stratify = y, test_size = .33)"
   ]
  },
  {
   "cell_type": "code",
   "execution_count": 65,
   "metadata": {},
   "outputs": [
    {
     "name": "stdout",
     "output_type": "stream",
     "text": [
      "246\n"
     ]
    }
   ],
   "source": [
    "print(len(X_train))"
   ]
  },
  {
   "cell_type": "code",
   "execution_count": 66,
   "metadata": {},
   "outputs": [
    {
     "name": "stdout",
     "output_type": "stream",
     "text": [
      "122\n"
     ]
    }
   ],
   "source": [
    "print(len(X_test))"
   ]
  },
  {
   "cell_type": "markdown",
   "metadata": {},
   "source": [
    "#### Tokenization of Job Description using CountVectorizer:"
   ]
  },
  {
   "cell_type": "code",
   "execution_count": 67,
   "metadata": {},
   "outputs": [],
   "source": [
    "vect = CountVectorizer()\n",
    "\n",
    "X_train_dtm = vect.fit_transform(X_train)\n",
    "X_test_dtm = vect.transform(X_test)"
   ]
  },
  {
   "cell_type": "code",
   "execution_count": 68,
   "metadata": {},
   "outputs": [
    {
     "data": {
      "text/plain": [
       "(246, 5871)"
      ]
     },
     "execution_count": 68,
     "metadata": {},
     "output_type": "execute_result"
    }
   ],
   "source": [
    "X_train_dtm.shape"
   ]
  },
  {
   "cell_type": "code",
   "execution_count": 69,
   "metadata": {},
   "outputs": [
    {
     "data": {
      "text/plain": [
       "['00',\n",
       " '000',\n",
       " '00102',\n",
       " '0010506',\n",
       " '0010558',\n",
       " '0010769',\n",
       " '0010844',\n",
       " '0046220',\n",
       " '0054',\n",
       " '005idatascientist',\n",
       " '019',\n",
       " '02',\n",
       " '020',\n",
       " '0282',\n",
       " '0282512110',\n",
       " '03',\n",
       " '0377',\n",
       " '0396421684',\n",
       " '0396913661',\n",
       " '0408',\n",
       " '0410',\n",
       " '043',\n",
       " '0431161367',\n",
       " '0438877295',\n",
       " '0452411968',\n",
       " '0481868551',\n",
       " '06',\n",
       " '07',\n",
       " '08',\n",
       " '09',\n",
       " '0979',\n",
       " '10',\n",
       " '100',\n",
       " '1000',\n",
       " '10000',\n",
       " '100k',\n",
       " '100million',\n",
       " '102',\n",
       " '1020',\n",
       " '1025',\n",
       " '1061574',\n",
       " '108',\n",
       " '10pm',\n",
       " '11',\n",
       " '110',\n",
       " '111',\n",
       " '1120',\n",
       " '114',\n",
       " '1164',\n",
       " '119',\n",
       " '12',\n",
       " '120k',\n",
       " '121',\n",
       " '122',\n",
       " '129',\n",
       " '12m',\n",
       " '13',\n",
       " '130',\n",
       " '1300',\n",
       " '1370',\n",
       " '138',\n",
       " '14',\n",
       " '140k',\n",
       " '145',\n",
       " '148',\n",
       " '15',\n",
       " '150',\n",
       " '157',\n",
       " '160',\n",
       " '17',\n",
       " '170',\n",
       " '170k',\n",
       " '172',\n",
       " '18',\n",
       " '180',\n",
       " '1800',\n",
       " '19',\n",
       " '190',\n",
       " '1926',\n",
       " '1936',\n",
       " '1957',\n",
       " '1962',\n",
       " '1995',\n",
       " '1st',\n",
       " '20',\n",
       " '2000',\n",
       " '200058325',\n",
       " '200185243',\n",
       " '2005',\n",
       " '2006',\n",
       " '2008',\n",
       " '2014',\n",
       " '2015',\n",
       " '2016',\n",
       " '2017',\n",
       " '2018',\n",
       " '2019',\n",
       " '2020',\n",
       " '2020technical',\n",
       " '205',\n",
       " '2051',\n",
       " '20th',\n",
       " '21st',\n",
       " '22',\n",
       " '238',\n",
       " '24',\n",
       " '25',\n",
       " '250',\n",
       " '260',\n",
       " '2603',\n",
       " '27',\n",
       " '272',\n",
       " '276147904',\n",
       " '2777',\n",
       " '280',\n",
       " '288',\n",
       " '29338',\n",
       " '295',\n",
       " '2b',\n",
       " '2fte',\n",
       " '2nd',\n",
       " '30',\n",
       " '300',\n",
       " '302',\n",
       " '31',\n",
       " '3100',\n",
       " '3139',\n",
       " '3147',\n",
       " '32',\n",
       " '3222',\n",
       " '329',\n",
       " '332',\n",
       " '3324',\n",
       " '33395609',\n",
       " '34',\n",
       " '346',\n",
       " '350',\n",
       " '3523',\n",
       " '3631',\n",
       " '365',\n",
       " '3661',\n",
       " '3663',\n",
       " '3666',\n",
       " '378095',\n",
       " '3858',\n",
       " '3905',\n",
       " '3a',\n",
       " '3b',\n",
       " '3month',\n",
       " '3nf',\n",
       " '3pl',\n",
       " '3rd',\n",
       " '40',\n",
       " '400',\n",
       " '4006',\n",
       " '413b10bb',\n",
       " '420',\n",
       " '4223',\n",
       " '4262',\n",
       " '436',\n",
       " '440',\n",
       " '4410',\n",
       " '45',\n",
       " '4519',\n",
       " '456',\n",
       " '46',\n",
       " '48',\n",
       " '4th',\n",
       " '50',\n",
       " '500',\n",
       " '5003',\n",
       " '509',\n",
       " '5099',\n",
       " '50k',\n",
       " '510',\n",
       " '511576',\n",
       " '5313',\n",
       " '546',\n",
       " '55',\n",
       " '5628',\n",
       " '587790',\n",
       " '59pm',\n",
       " '60',\n",
       " '600',\n",
       " '60259',\n",
       " '60k',\n",
       " '61',\n",
       " '613',\n",
       " '61314963',\n",
       " '642',\n",
       " '643',\n",
       " '650',\n",
       " '6518',\n",
       " '6521',\n",
       " '6537',\n",
       " '6584',\n",
       " '66',\n",
       " '663',\n",
       " '6663',\n",
       " '6776',\n",
       " '678',\n",
       " '68966',\n",
       " '69',\n",
       " '6999',\n",
       " '6bp',\n",
       " '70',\n",
       " '700',\n",
       " '709',\n",
       " '7203',\n",
       " '723',\n",
       " '7329',\n",
       " '7370',\n",
       " '7416',\n",
       " '7456',\n",
       " '75',\n",
       " '7688',\n",
       " '7711',\n",
       " '7720',\n",
       " '7724',\n",
       " '7732',\n",
       " '7766',\n",
       " '7800',\n",
       " '79',\n",
       " '792jr',\n",
       " '7yrs',\n",
       " '80',\n",
       " '800',\n",
       " '8091',\n",
       " '80k',\n",
       " '810',\n",
       " '8100',\n",
       " '8101',\n",
       " '8188',\n",
       " '8211',\n",
       " '8227',\n",
       " '823',\n",
       " '8246',\n",
       " '8249',\n",
       " '830',\n",
       " '8319',\n",
       " '8330',\n",
       " '8381',\n",
       " '84',\n",
       " '848',\n",
       " '8489',\n",
       " '850',\n",
       " '8506',\n",
       " '8549',\n",
       " '86',\n",
       " '8611',\n",
       " '8613',\n",
       " '86282143',\n",
       " '86282152',\n",
       " '8637',\n",
       " '8640',\n",
       " '896',\n",
       " '8986',\n",
       " '90',\n",
       " '900',\n",
       " '9000',\n",
       " '9016',\n",
       " '902sr',\n",
       " '9085',\n",
       " '9092',\n",
       " '90k',\n",
       " '90th',\n",
       " '91',\n",
       " '91010398',\n",
       " '9131',\n",
       " '915',\n",
       " '9200',\n",
       " '921',\n",
       " '9236',\n",
       " '925',\n",
       " '9258',\n",
       " '9262',\n",
       " '9267',\n",
       " '9269',\n",
       " '9270',\n",
       " '9279',\n",
       " '9280',\n",
       " '93',\n",
       " '9381',\n",
       " '948',\n",
       " '9499',\n",
       " '95',\n",
       " '9514',\n",
       " '9538',\n",
       " '959jo',\n",
       " '9602',\n",
       " '96029890',\n",
       " '9604',\n",
       " '9607',\n",
       " '9617',\n",
       " '9623',\n",
       " '9626',\n",
       " '9635',\n",
       " '963jd',\n",
       " '9687',\n",
       " '9691',\n",
       " '9706',\n",
       " '9819',\n",
       " '9823',\n",
       " '9890',\n",
       " '9905',\n",
       " '9918',\n",
       " '9948',\n",
       " '9949',\n",
       " '9982',\n",
       " '99828478',\n",
       " '__caret',\n",
       " 'a2018',\n",
       " 'a4lltd5jl96z',\n",
       " 'abilities',\n",
       " 'ability',\n",
       " 'able',\n",
       " 'aboriginal',\n",
       " 'about',\n",
       " 'aboutyou',\n",
       " 'above',\n",
       " 'abreast',\n",
       " 'abroadunderstanding',\n",
       " 'abs',\n",
       " 'academia',\n",
       " 'academic',\n",
       " 'academics',\n",
       " 'acceleration',\n",
       " 'accelerators',\n",
       " 'accept',\n",
       " 'acceptance',\n",
       " 'accepted',\n",
       " 'accepting',\n",
       " 'access',\n",
       " 'accessibility',\n",
       " 'accessories',\n",
       " 'accessory',\n",
       " 'accommodate',\n",
       " 'accommodation',\n",
       " 'accompanied',\n",
       " 'accompanies',\n",
       " 'accomplish',\n",
       " 'accomplished',\n",
       " 'accordance',\n",
       " 'according',\n",
       " 'accordingly',\n",
       " 'account',\n",
       " 'accountabilities',\n",
       " 'accountability',\n",
       " 'accountable',\n",
       " 'accountant',\n",
       " 'accountants',\n",
       " 'accounting',\n",
       " 'accounts',\n",
       " 'accredited',\n",
       " 'accruals',\n",
       " 'accuracy',\n",
       " 'accurate',\n",
       " 'accuratedataentry',\n",
       " 'accurately',\n",
       " 'ace',\n",
       " 'achieve',\n",
       " 'achieved',\n",
       " 'achievement',\n",
       " 'achieving',\n",
       " 'acknowledge',\n",
       " 'acquired',\n",
       " 'acquisition',\n",
       " 'acquittals',\n",
       " 'acrobat',\n",
       " 'across',\n",
       " 'acrworld',\n",
       " 'act',\n",
       " 'acting',\n",
       " 'action',\n",
       " 'actionable',\n",
       " 'actions',\n",
       " 'active',\n",
       " 'actively',\n",
       " 'activities',\n",
       " 'activity',\n",
       " 'acts',\n",
       " 'actual',\n",
       " 'actuals',\n",
       " 'actuarial',\n",
       " 'acuarial',\n",
       " 'acumen',\n",
       " 'acurity',\n",
       " 'ad',\n",
       " 'adam',\n",
       " 'adaps',\n",
       " 'adapsit',\n",
       " 'adapt',\n",
       " 'adaptability',\n",
       " 'adaptable',\n",
       " 'adapting',\n",
       " 'adaptive',\n",
       " 'adata',\n",
       " 'add',\n",
       " 'added',\n",
       " 'adding',\n",
       " 'addition',\n",
       " 'additional',\n",
       " 'additionally',\n",
       " 'address',\n",
       " 'addresses',\n",
       " 'addressing',\n",
       " 'adept',\n",
       " 'adequate',\n",
       " 'adequately',\n",
       " 'adf',\n",
       " 'adfs',\n",
       " 'adhered',\n",
       " 'adherence',\n",
       " 'adhering',\n",
       " 'adhoc',\n",
       " 'adigital',\n",
       " 'aditi',\n",
       " 'adjustment',\n",
       " 'admin',\n",
       " 'administer',\n",
       " 'administering',\n",
       " 'administration',\n",
       " 'administrational',\n",
       " 'administrative',\n",
       " 'administrator',\n",
       " 'adminstration',\n",
       " 'adobe',\n",
       " 'adopted',\n",
       " 'adoption',\n",
       " 'ads',\n",
       " 'adults',\n",
       " 'adv',\n",
       " 'advance',\n",
       " 'advanced',\n",
       " 'advancement',\n",
       " 'advancements',\n",
       " 'advances',\n",
       " 'advancing',\n",
       " 'advantage',\n",
       " 'advantageous',\n",
       " 'advantages',\n",
       " 'advert',\n",
       " 'advertised',\n",
       " 'advertisement',\n",
       " 'advertising',\n",
       " 'advice',\n",
       " 'advise',\n",
       " 'adviser',\n",
       " 'advising',\n",
       " 'advisor',\n",
       " 'advisors',\n",
       " 'advisory',\n",
       " 'advocacy',\n",
       " 'adwords',\n",
       " 'aedt',\n",
       " 'aesthetic',\n",
       " 'affect',\n",
       " 'affected',\n",
       " 'affecting',\n",
       " 'affiliate',\n",
       " 'affiliates',\n",
       " 'affinity',\n",
       " 'afif',\n",
       " 'afp',\n",
       " 'afpband',\n",
       " 'afraid',\n",
       " 'after',\n",
       " 'afternoon',\n",
       " 'aftersales',\n",
       " 'again',\n",
       " 'against',\n",
       " 'age',\n",
       " 'aged',\n",
       " 'agencies',\n",
       " 'agency',\n",
       " 'agenda',\n",
       " 'agendas',\n",
       " 'agent',\n",
       " 'agents',\n",
       " 'ages',\n",
       " 'aggarwal',\n",
       " 'aggressive',\n",
       " 'agile',\n",
       " 'agility',\n",
       " 'aging',\n",
       " 'aglobal',\n",
       " 'ago',\n",
       " 'agree',\n",
       " 'agreed',\n",
       " 'agreement',\n",
       " 'agreements',\n",
       " 'agricultural',\n",
       " 'ahead',\n",
       " 'ahuja',\n",
       " 'ai',\n",
       " 'aid',\n",
       " 'aim',\n",
       " 'ajax',\n",
       " 'al',\n",
       " 'aladdin',\n",
       " 'alangley',\n",
       " 'alert',\n",
       " 'alerting',\n",
       " 'alerts',\n",
       " 'alex',\n",
       " 'alexander',\n",
       " 'alexandergrey',\n",
       " 'alfred',\n",
       " 'alfredhealth',\n",
       " 'algorithms',\n",
       " 'aligned',\n",
       " 'aligning',\n",
       " 'alignment',\n",
       " 'aligns',\n",
       " 'alike',\n",
       " 'all',\n",
       " 'alliance',\n",
       " 'allied',\n",
       " 'allocate',\n",
       " 'allocated',\n",
       " 'allocation',\n",
       " 'allocations',\n",
       " 'allocator',\n",
       " 'allow',\n",
       " 'allowances',\n",
       " 'allowed',\n",
       " 'allowing',\n",
       " 'allows',\n",
       " 'almost',\n",
       " 'alone',\n",
       " 'along',\n",
       " 'alongside',\n",
       " 'already',\n",
       " 'also',\n",
       " 'alternate',\n",
       " 'alternative',\n",
       " 'alternatively',\n",
       " 'alteryx',\n",
       " 'although',\n",
       " 'alumni',\n",
       " 'always',\n",
       " 'am',\n",
       " 'amajor',\n",
       " 'amazing',\n",
       " 'amazon',\n",
       " 'ambiguity',\n",
       " 'ambiguous',\n",
       " 'ambitions',\n",
       " 'ambitious',\n",
       " 'ambulatory',\n",
       " 'amerchandise',\n",
       " 'aml',\n",
       " 'among',\n",
       " 'amongst',\n",
       " 'amount',\n",
       " 'amounts',\n",
       " 'amp',\n",
       " 'an',\n",
       " 'analyse',\n",
       " 'analysed',\n",
       " 'analyses',\n",
       " 'analysesand',\n",
       " 'analysing',\n",
       " 'analysis',\n",
       " 'analysisroles',\n",
       " 'analyst',\n",
       " 'analystand',\n",
       " 'analystrole',\n",
       " 'analysts',\n",
       " 'analystwithin',\n",
       " 'analytic',\n",
       " 'analytical',\n",
       " 'analyticalanalytical',\n",
       " 'analytically',\n",
       " 'analytics',\n",
       " 'analyze',\n",
       " 'analyzing',\n",
       " 'and',\n",
       " 'andcontinualreleases',\n",
       " 'anddatauploads',\n",
       " 'anddetailed',\n",
       " 'andensurethat',\n",
       " 'andgeneralr',\n",
       " 'andperformthe',\n",
       " 'andreas',\n",
       " 'andsupport',\n",
       " 'angular',\n",
       " 'angularjs',\n",
       " 'animation',\n",
       " 'ankita',\n",
       " 'annual',\n",
       " 'annually',\n",
       " 'annum',\n",
       " 'anomalies',\n",
       " 'anomaly',\n",
       " 'another',\n",
       " 'ansible',\n",
       " 'answer',\n",
       " 'answered',\n",
       " 'answers',\n",
       " 'anti',\n",
       " 'antibiotics',\n",
       " 'anticipate',\n",
       " 'antimicrobial',\n",
       " 'antivirus',\n",
       " 'anu',\n",
       " 'any',\n",
       " 'anybody',\n",
       " 'anyone',\n",
       " 'anywhere',\n",
       " 'anz',\n",
       " 'apache',\n",
       " 'apart',\n",
       " 'api',\n",
       " 'apigee',\n",
       " 'apis',\n",
       " 'app',\n",
       " 'apparel',\n",
       " 'appian',\n",
       " 'applicability',\n",
       " 'applicable',\n",
       " 'applicant',\n",
       " 'applicants',\n",
       " 'application',\n",
       " 'applications',\n",
       " 'applicatoins',\n",
       " 'applied',\n",
       " 'apply',\n",
       " 'applying',\n",
       " 'applyplease',\n",
       " 'appoint',\n",
       " 'appointees',\n",
       " 'appointing',\n",
       " 'appointment',\n",
       " 'appraisal',\n",
       " 'appraisals',\n",
       " 'appreciate',\n",
       " 'appreciated',\n",
       " 'appreciation',\n",
       " 'approach',\n",
       " 'approachable',\n",
       " 'approaches',\n",
       " 'appropriate',\n",
       " 'appropriately',\n",
       " 'approval',\n",
       " 'approved',\n",
       " 'approvedskills',\n",
       " 'approving',\n",
       " 'approx',\n",
       " 'approximately',\n",
       " 'apps',\n",
       " 'apra',\n",
       " 'aps',\n",
       " 'apscareers',\n",
       " 'aptitude',\n",
       " 'aptrack',\n",
       " 'arbitration',\n",
       " 'arching',\n",
       " 'architect',\n",
       " 'architecting',\n",
       " 'architects',\n",
       " 'architectural',\n",
       " 'architecturally',\n",
       " 'architecture',\n",
       " 'architectures',\n",
       " 'architecturewhilst',\n",
       " 'archiving',\n",
       " 'are',\n",
       " 'area',\n",
       " 'areas',\n",
       " 'arededicated',\n",
       " 'arena',\n",
       " 'ari',\n",
       " 'arise',\n",
       " 'arisen',\n",
       " 'armadale',\n",
       " 'armaguard',\n",
       " 'armaguardsupports',\n",
       " 'around',\n",
       " 'arrangements',\n",
       " 'array',\n",
       " 'art',\n",
       " 'articles',\n",
       " 'articulate',\n",
       " 'articulating',\n",
       " 'artificial',\n",
       " 'arzel',\n",
       " 'as',\n",
       " 'asap',\n",
       " 'ashley',\n",
       " 'asia',\n",
       " 'asian',\n",
       " 'ask',\n",
       " 'asked',\n",
       " 'asp',\n",
       " 'aspect',\n",
       " 'aspectpersonnel',\n",
       " 'aspects',\n",
       " 'aspirations',\n",
       " 'aspiring',\n",
       " 'aspx',\n",
       " 'assays',\n",
       " 'assemble',\n",
       " 'assembly',\n",
       " 'assertive',\n",
       " 'assess',\n",
       " 'assessing',\n",
       " 'assessment',\n",
       " 'assessments',\n",
       " 'asset',\n",
       " 'assets',\n",
       " 'assigned',\n",
       " 'assignment',\n",
       " 'assignments',\n",
       " 'assist',\n",
       " 'assistance',\n",
       " 'assistant',\n",
       " 'assisted',\n",
       " 'assisting',\n",
       " 'assists',\n",
       " 'associate',\n",
       " 'associated',\n",
       " 'associates',\n",
       " 'associations',\n",
       " 'assume',\n",
       " 'assumptions',\n",
       " 'assurance',\n",
       " 'astoncarter',\n",
       " 'astute',\n",
       " 'asx',\n",
       " 'async',\n",
       " 'at',\n",
       " 'ateam',\n",
       " 'atechnically',\n",
       " 'athanassenas',\n",
       " 'atlassian',\n",
       " 'atm',\n",
       " 'ato',\n",
       " 'atos',\n",
       " 'ats',\n",
       " 'attach',\n",
       " 'attached',\n",
       " 'attainment',\n",
       " 'attendance',\n",
       " 'attending',\n",
       " 'attention',\n",
       " 'attitude',\n",
       " 'attract',\n",
       " 'attracting',\n",
       " 'attraction',\n",
       " 'attractive',\n",
       " 'attributable',\n",
       " 'attributed',\n",
       " 'attributes',\n",
       " 'attribution',\n",
       " 'au',\n",
       " 'auckland',\n",
       " 'audacious',\n",
       " 'audience',\n",
       " 'audiences',\n",
       " 'audit',\n",
       " 'audited',\n",
       " 'auditing',\n",
       " 'auditor',\n",
       " 'auditors',\n",
       " 'audits',\n",
       " 'aus',\n",
       " 'aus094814',\n",
       " 'aussie',\n",
       " 'austcorp',\n",
       " 'australasiaand',\n",
       " 'australasiais',\n",
       " 'australia',\n",
       " 'australian',\n",
       " 'australians',\n",
       " 'australias',\n",
       " 'authentication',\n",
       " 'authoritative',\n",
       " 'authorities',\n",
       " 'authority',\n",
       " 'auto',\n",
       " 'autocad',\n",
       " 'automate',\n",
       " 'automated',\n",
       " 'automating',\n",
       " 'automation',\n",
       " 'automotive',\n",
       " 'autonomous',\n",
       " 'autonomously',\n",
       " 'autonomy',\n",
       " 'av',\n",
       " 'availability',\n",
       " 'available',\n",
       " 'avoid',\n",
       " 'await',\n",
       " 'award',\n",
       " 'awarded',\n",
       " 'awards',\n",
       " 'aware',\n",
       " 'awareness',\n",
       " 'away',\n",
       " 'awesome',\n",
       " 'aws',\n",
       " 'ax',\n",
       " 'axway',\n",
       " 'azure',\n",
       " 'b2b',\n",
       " 'ba',\n",
       " 'baby',\n",
       " 'bachelor',\n",
       " 'bachelors',\n",
       " 'back',\n",
       " 'backed',\n",
       " 'backend',\n",
       " 'backfill',\n",
       " 'backfilling',\n",
       " 'background',\n",
       " 'backgrounds',\n",
       " 'backing',\n",
       " 'backlog',\n",
       " 'backup',\n",
       " 'backups',\n",
       " 'bacterial',\n",
       " 'balance',\n",
       " 'balancing',\n",
       " 'bamboo',\n",
       " 'band',\n",
       " 'bank',\n",
       " 'banker',\n",
       " 'bankers',\n",
       " 'banking',\n",
       " 'bankruptcy',\n",
       " 'bargains',\n",
       " 'barra',\n",
       " 'barriers',\n",
       " 'bars',\n",
       " 'bas',\n",
       " 'base',\n",
       " 'based',\n",
       " 'baseline',\n",
       " 'bash',\n",
       " 'basic',\n",
       " 'basics',\n",
       " 'basis',\n",
       " 'batch',\n",
       " 'batches',\n",
       " 'batterytransportation',\n",
       " 'battle',\n",
       " 'bau',\n",
       " 'bayes',\n",
       " 'bayesian',\n",
       " 'bdm',\n",
       " 'be',\n",
       " 'beat',\n",
       " 'beautiful',\n",
       " 'beautifully',\n",
       " 'because',\n",
       " 'become',\n",
       " 'becontacted',\n",
       " 'been',\n",
       " 'before',\n",
       " 'began',\n",
       " 'begin',\n",
       " 'beginning',\n",
       " 'behalf',\n",
       " 'behavior',\n",
       " 'behaviour',\n",
       " 'behavioural',\n",
       " 'behaviours',\n",
       " 'behind',\n",
       " 'being',\n",
       " 'believe',\n",
       " 'bell',\n",
       " 'belong',\n",
       " 'below',\n",
       " 'belt',\n",
       " 'benchmark',\n",
       " 'benchmarking',\n",
       " 'bend',\n",
       " 'beneficial',\n",
       " 'benefit',\n",
       " 'benefits',\n",
       " 'berlei',\n",
       " 'besides',\n",
       " 'bespoke',\n",
       " 'best',\n",
       " 'betfair',\n",
       " 'better',\n",
       " 'between',\n",
       " 'bevan',\n",
       " 'beverage',\n",
       " 'bexton',\n",
       " 'bextonits',\n",
       " 'beyond',\n",
       " 'bgp',\n",
       " 'bi',\n",
       " 'biannual',\n",
       " 'bid',\n",
       " 'biddable',\n",
       " 'big',\n",
       " 'bigdata',\n",
       " 'bigger',\n",
       " 'biggest',\n",
       " 'billing',\n",
       " 'billion',\n",
       " 'bin',\n",
       " 'biochemical',\n",
       " 'bioinformatics',\n",
       " 'biological',\n",
       " 'biswas',\n",
       " 'bit',\n",
       " 'bitbucket',\n",
       " 'blackbook',\n",
       " 'blackburn',\n",
       " 'blend',\n",
       " 'blended',\n",
       " 'blog',\n",
       " 'bloomberg',\n",
       " 'blue',\n",
       " 'bluefin',\n",
       " 'bluefinresources',\n",
       " 'bluescope',\n",
       " 'bo',\n",
       " 'board',\n",
       " 'boarding',\n",
       " 'boards',\n",
       " 'boasting',\n",
       " 'bodies',\n",
       " 'body',\n",
       " 'boils',\n",
       " 'bold',\n",
       " 'boldness',\n",
       " 'bonds',\n",
       " 'bono',\n",
       " 'bonus',\n",
       " 'bonuses',\n",
       " 'bookies',\n",
       " 'booking',\n",
       " 'bookmakers',\n",
       " 'bookmark',\n",
       " 'books',\n",
       " 'boosting',\n",
       " 'boot',\n",
       " 'border',\n",
       " 'both',\n",
       " 'bothsupplier',\n",
       " 'bottom',\n",
       " 'boundaries',\n",
       " 'boutique',\n",
       " 'bower',\n",
       " 'bowling',\n",
       " 'boxes',\n",
       " 'bpm',\n",
       " 'bpmn',\n",
       " 'brad',\n",
       " 'braeden',\n",
       " 'branch',\n",
       " 'brand',\n",
       " 'brandon',\n",
       " 'brands',\n",
       " 'branson',\n",
       " 'breaches',\n",
       " 'break',\n",
       " 'breaker',\n",
       " 'breakers',\n",
       " 'breakthroughs',\n",
       " 'breed',\n",
       " 'brewer',\n",
       " 'brick',\n",
       " 'bridge',\n",
       " 'brief',\n",
       " 'briefs',\n",
       " 'bright',\n",
       " 'brightest',\n",
       " 'brilliant',\n",
       " 'bring',\n",
       " 'bringing',\n",
       " 'brisbane',\n",
       " 'broad',\n",
       " 'broader',\n",
       " 'broadly',\n",
       " 'broken',\n",
       " 'brown',\n",
       " 'browser',\n",
       " 'brw',\n",
       " 'brydie',\n",
       " 'bs',\n",
       " 'bsc',\n",
       " 'btl',\n",
       " 'budget',\n",
       " 'budgetary',\n",
       " 'budgeted',\n",
       " 'budgeting',\n",
       " 'budgets',\n",
       " 'bug',\n",
       " 'build',\n",
       " 'builder',\n",
       " 'building',\n",
       " 'builds',\n",
       " 'built',\n",
       " ...]"
      ]
     },
     "execution_count": 69,
     "metadata": {},
     "output_type": "execute_result"
    }
   ],
   "source": [
    "vect.get_feature_names()"
   ]
  },
  {
   "cell_type": "code",
   "execution_count": 70,
   "metadata": {},
   "outputs": [
    {
     "data": {
      "text/plain": [
       "(246, 41689)"
      ]
     },
     "execution_count": 70,
     "metadata": {},
     "output_type": "execute_result"
    }
   ],
   "source": [
    "#using 1 gram and 2 gram\n",
    "vect = CountVectorizer(ngram_range=(1, 2))\n",
    "X_train_dtm = vect.fit_transform(X_train)\n",
    "X_train_dtm.shape"
   ]
  },
  {
   "cell_type": "code",
   "execution_count": 71,
   "metadata": {},
   "outputs": [
    {
     "data": {
      "text/plain": [
       "246"
      ]
     },
     "execution_count": 71,
     "metadata": {},
     "output_type": "execute_result"
    }
   ],
   "source": [
    "X_train.shape[0]"
   ]
  },
  {
   "cell_type": "code",
   "execution_count": 72,
   "metadata": {},
   "outputs": [
    {
     "name": "stdout",
     "output_type": "stream",
     "text": [
      "['your strengths', 'your strong', 'your success', 'your suitability', 'your supply', 'your talent', 'your team', 'your teammates', 'your thing', 'your time', 'your tool', 'your toolkit', 'your versatile', 'your work', 'your written', 'your xc3', 'yourcvvia', 'yourcvvia the', 'youre', 'youre interested', 'yourself', 'yourself an', 'yourself because', 'yourself build', 'yourself in', 'yourself on', 'yourself reliable', 'yourself suitable', 'yourself tele', 'yourself the', 'yourself to', 'yrs', 'yrs exp', 'zale', 'zale stobbs', 'zealand', 'zealand and', 'zealand family', 'zealand hong', 'zealand office', 'zealand region', 'zealand will', 'zealand years', 'zero', 'zero harm', 'zoe', 'zoe crouch', 'zoe winn', 'zwinn', 'zwinn projectresourcepartners']\n"
     ]
    }
   ],
   "source": [
    "print(vect.get_feature_names()[-50:])"
   ]
  },
  {
   "cell_type": "code",
   "execution_count": 73,
   "metadata": {},
   "outputs": [
    {
     "name": "stdout",
     "output_type": "stream",
     "text": [
      "0.7049180327868853\n"
     ]
    }
   ],
   "source": [
    "##predicting using countvectorizer:\n",
    "vect = CountVectorizer()\n",
    "\n",
    "#creating document-term matrices\n",
    "X_train_dtm = vect.fit_transform(X_train)\n",
    "X_test_dtm = vect.transform(X_test)\n",
    "\n",
    "#using naive bayes to predict the salary:\n",
    "nb = MultinomialNB()\n",
    "nb.fit(X_train_dtm, y_train)\n",
    "y_pred = nb.predict(X_test_dtm)\n",
    "\n",
    "# Accuracy Calculation:\n",
    "print(metrics.accuracy_score(y_test, y_pred))"
   ]
  },
  {
   "cell_type": "code",
   "execution_count": 74,
   "metadata": {},
   "outputs": [],
   "source": [
    "#Creating a function to accept vectorizer and calculate accuracy:\n",
    "def tokenizer_text(vect):\n",
    "    X_train_dtm = vect.fit_transform(X_train)\n",
    "    print(\"Features: \", X_train_dtm.shape[1])\n",
    "    X_test_dtm = vect.transform(X_test)\n",
    "    nb = MultinomialNB()\n",
    "    nb.fit(X_train_dtm, y_train)\n",
    "    y_pred = nb.predict(X_test_dtm)\n",
    "    print('Accuracy: ', metrics.accuracy_score(y_test, y_pred))"
   ]
  },
  {
   "cell_type": "code",
   "execution_count": 75,
   "metadata": {},
   "outputs": [
    {
     "name": "stdout",
     "output_type": "stream",
     "text": [
      "Features:  41689\n",
      "Accuracy:  0.6885245901639344\n"
     ]
    }
   ],
   "source": [
    "# with 1 gram, 2 gram\n",
    "vect = CountVectorizer(ngram_range=(1,2))\n",
    "tokenizer_text(vect)"
   ]
  },
  {
   "cell_type": "markdown",
   "metadata": {},
   "source": [
    "#### Removing stopwords:\n"
   ]
  },
  {
   "cell_type": "code",
   "execution_count": 76,
   "metadata": {},
   "outputs": [
    {
     "name": "stdout",
     "output_type": "stream",
     "text": [
      "Features:  5642\n",
      "Accuracy:  0.6967213114754098\n"
     ]
    }
   ],
   "source": [
    "#Using countvectorizer:\n",
    "vect = CountVectorizer(stop_words='english')\n",
    "\n",
    "# validation\n",
    "tokenizer_text(vect)"
   ]
  },
  {
   "cell_type": "code",
   "execution_count": 77,
   "metadata": {},
   "outputs": [
    {
     "name": "stdout",
     "output_type": "stream",
     "text": [
      "Features:  100\n",
      "Accuracy:  0.6475409836065574\n"
     ]
    }
   ],
   "source": [
    "#using max features option limiting to 100 features:\n",
    "vect = CountVectorizer(stop_words='english', max_features=100)\n",
    "tokenizer_text(vect)"
   ]
  },
  {
   "cell_type": "code",
   "execution_count": 78,
   "metadata": {},
   "outputs": [
    {
     "name": "stdout",
     "output_type": "stream",
     "text": [
      "Features:  15571\n",
      "Accuracy:  0.7049180327868853\n"
     ]
    }
   ],
   "source": [
    "#minimum frequency of words/documents that appear only twice:\n",
    "vect = CountVectorizer(ngram_range=(1,2), min_df =2)\n",
    "tokenizer_text(vect)"
   ]
  },
  {
   "cell_type": "code",
   "execution_count": 79,
   "metadata": {},
   "outputs": [],
   "source": [
    "##slightly better. Now will try Textblob and lemmatizer:\n",
    "\n",
    "# Defining a function which accepts text and returns list of lemmas:\n",
    "def text_lemmas(text):\n",
    "    text = str(text).lower()\n",
    "    words = TextBlob(text).words\n",
    "    return [word.lemmatize() for word in words]"
   ]
  },
  {
   "cell_type": "code",
   "execution_count": 80,
   "metadata": {},
   "outputs": [
    {
     "name": "stdout",
     "output_type": "stream",
     "text": [
      "Features:  5636\n",
      "Accuracy:  0.6639344262295082\n"
     ]
    }
   ],
   "source": [
    "#using lemmass in countvectorizer\n",
    "vect = CountVectorizer(analyzer=text_lemmas)\n",
    "tokenizer_text(vect)"
   ]
  },
  {
   "cell_type": "markdown",
   "metadata": {},
   "source": [
    "#### TF-IDF:"
   ]
  },
  {
   "cell_type": "code",
   "execution_count": 81,
   "metadata": {},
   "outputs": [
    {
     "data": {
      "text/plain": [
       "(246, 5642)"
      ]
     },
     "execution_count": 81,
     "metadata": {},
     "output_type": "execute_result"
    }
   ],
   "source": [
    "vect = TfidfVectorizer(stop_words='english')\n",
    "dtm = vect.fit_transform(X_train)\n",
    "features = vect.get_feature_names()\n",
    "dtm.shape"
   ]
  },
  {
   "cell_type": "code",
   "execution_count": 83,
   "metadata": {},
   "outputs": [
    {
     "name": "stdout",
     "output_type": "stream",
     "text": [
      "Features:  5642\n",
      "Accuracy:  0.7295081967213115\n"
     ]
    }
   ],
   "source": [
    "#using analyser(lemmas, 1 gram & 2gram) using Mutinomial naive bayes:\n",
    "vect = TfidfVectorizer(stop_words='english')\n",
    "tokenizer_text(vect)"
   ]
  },
  {
   "cell_type": "code",
   "execution_count": 84,
   "metadata": {},
   "outputs": [],
   "source": [
    "# turning into dataframe\n",
    "X_train = pd.DataFrame(vect.transform(X_train).todense(), columns = vect.get_feature_names())"
   ]
  },
  {
   "cell_type": "code",
   "execution_count": 85,
   "metadata": {},
   "outputs": [
    {
     "data": {
      "text/html": [
       "<div>\n",
       "<style scoped>\n",
       "    .dataframe tbody tr th:only-of-type {\n",
       "        vertical-align: middle;\n",
       "    }\n",
       "\n",
       "    .dataframe tbody tr th {\n",
       "        vertical-align: top;\n",
       "    }\n",
       "\n",
       "    .dataframe thead th {\n",
       "        text-align: right;\n",
       "    }\n",
       "</style>\n",
       "<table border=\"1\" class=\"dataframe\">\n",
       "  <thead>\n",
       "    <tr style=\"text-align: right;\">\n",
       "      <th></th>\n",
       "      <th>00</th>\n",
       "      <th>000</th>\n",
       "      <th>00102</th>\n",
       "      <th>0010506</th>\n",
       "      <th>0010558</th>\n",
       "      <th>0010769</th>\n",
       "      <th>0010844</th>\n",
       "      <th>0046220</th>\n",
       "      <th>0054</th>\n",
       "      <th>005idatascientist</th>\n",
       "      <th>...</th>\n",
       "      <th>youll</th>\n",
       "      <th>young</th>\n",
       "      <th>yourcvvia</th>\n",
       "      <th>youre</th>\n",
       "      <th>yrs</th>\n",
       "      <th>zale</th>\n",
       "      <th>zealand</th>\n",
       "      <th>zero</th>\n",
       "      <th>zoe</th>\n",
       "      <th>zwinn</th>\n",
       "    </tr>\n",
       "  </thead>\n",
       "  <tbody>\n",
       "    <tr>\n",
       "      <th>0</th>\n",
       "      <td>0.0</td>\n",
       "      <td>0.0</td>\n",
       "      <td>0.0</td>\n",
       "      <td>0.0</td>\n",
       "      <td>0.0</td>\n",
       "      <td>0.0</td>\n",
       "      <td>0.0</td>\n",
       "      <td>0.0</td>\n",
       "      <td>0.0</td>\n",
       "      <td>0.0</td>\n",
       "      <td>...</td>\n",
       "      <td>0.0</td>\n",
       "      <td>0.0</td>\n",
       "      <td>0.0</td>\n",
       "      <td>0.0</td>\n",
       "      <td>0.0</td>\n",
       "      <td>0.0</td>\n",
       "      <td>0.0</td>\n",
       "      <td>0.0</td>\n",
       "      <td>0.0</td>\n",
       "      <td>0.0</td>\n",
       "    </tr>\n",
       "    <tr>\n",
       "      <th>1</th>\n",
       "      <td>0.0</td>\n",
       "      <td>0.0</td>\n",
       "      <td>0.0</td>\n",
       "      <td>0.0</td>\n",
       "      <td>0.0</td>\n",
       "      <td>0.0</td>\n",
       "      <td>0.0</td>\n",
       "      <td>0.0</td>\n",
       "      <td>0.0</td>\n",
       "      <td>0.0</td>\n",
       "      <td>...</td>\n",
       "      <td>0.0</td>\n",
       "      <td>0.0</td>\n",
       "      <td>0.0</td>\n",
       "      <td>0.0</td>\n",
       "      <td>0.0</td>\n",
       "      <td>0.0</td>\n",
       "      <td>0.0</td>\n",
       "      <td>0.0</td>\n",
       "      <td>0.0</td>\n",
       "      <td>0.0</td>\n",
       "    </tr>\n",
       "    <tr>\n",
       "      <th>2</th>\n",
       "      <td>0.0</td>\n",
       "      <td>0.0</td>\n",
       "      <td>0.0</td>\n",
       "      <td>0.0</td>\n",
       "      <td>0.0</td>\n",
       "      <td>0.0</td>\n",
       "      <td>0.0</td>\n",
       "      <td>0.0</td>\n",
       "      <td>0.0</td>\n",
       "      <td>0.0</td>\n",
       "      <td>...</td>\n",
       "      <td>0.0</td>\n",
       "      <td>0.0</td>\n",
       "      <td>0.0</td>\n",
       "      <td>0.0</td>\n",
       "      <td>0.0</td>\n",
       "      <td>0.0</td>\n",
       "      <td>0.0</td>\n",
       "      <td>0.0</td>\n",
       "      <td>0.0</td>\n",
       "      <td>0.0</td>\n",
       "    </tr>\n",
       "    <tr>\n",
       "      <th>3</th>\n",
       "      <td>0.0</td>\n",
       "      <td>0.0</td>\n",
       "      <td>0.0</td>\n",
       "      <td>0.0</td>\n",
       "      <td>0.0</td>\n",
       "      <td>0.0</td>\n",
       "      <td>0.0</td>\n",
       "      <td>0.0</td>\n",
       "      <td>0.0</td>\n",
       "      <td>0.0</td>\n",
       "      <td>...</td>\n",
       "      <td>0.0</td>\n",
       "      <td>0.0</td>\n",
       "      <td>0.0</td>\n",
       "      <td>0.0</td>\n",
       "      <td>0.0</td>\n",
       "      <td>0.0</td>\n",
       "      <td>0.0</td>\n",
       "      <td>0.0</td>\n",
       "      <td>0.0</td>\n",
       "      <td>0.0</td>\n",
       "    </tr>\n",
       "    <tr>\n",
       "      <th>4</th>\n",
       "      <td>0.0</td>\n",
       "      <td>0.0</td>\n",
       "      <td>0.0</td>\n",
       "      <td>0.0</td>\n",
       "      <td>0.0</td>\n",
       "      <td>0.0</td>\n",
       "      <td>0.0</td>\n",
       "      <td>0.0</td>\n",
       "      <td>0.0</td>\n",
       "      <td>0.0</td>\n",
       "      <td>...</td>\n",
       "      <td>0.0</td>\n",
       "      <td>0.0</td>\n",
       "      <td>0.0</td>\n",
       "      <td>0.0</td>\n",
       "      <td>0.0</td>\n",
       "      <td>0.0</td>\n",
       "      <td>0.0</td>\n",
       "      <td>0.0</td>\n",
       "      <td>0.0</td>\n",
       "      <td>0.0</td>\n",
       "    </tr>\n",
       "  </tbody>\n",
       "</table>\n",
       "<p>5 rows × 5642 columns</p>\n",
       "</div>"
      ],
      "text/plain": [
       "    00  000  00102  0010506  0010558  0010769  0010844  0046220  0054  \\\n",
       "0  0.0  0.0    0.0      0.0      0.0      0.0      0.0      0.0   0.0   \n",
       "1  0.0  0.0    0.0      0.0      0.0      0.0      0.0      0.0   0.0   \n",
       "2  0.0  0.0    0.0      0.0      0.0      0.0      0.0      0.0   0.0   \n",
       "3  0.0  0.0    0.0      0.0      0.0      0.0      0.0      0.0   0.0   \n",
       "4  0.0  0.0    0.0      0.0      0.0      0.0      0.0      0.0   0.0   \n",
       "\n",
       "   005idatascientist  ...    youll  young  yourcvvia  youre  yrs  zale  \\\n",
       "0                0.0  ...      0.0    0.0        0.0    0.0  0.0   0.0   \n",
       "1                0.0  ...      0.0    0.0        0.0    0.0  0.0   0.0   \n",
       "2                0.0  ...      0.0    0.0        0.0    0.0  0.0   0.0   \n",
       "3                0.0  ...      0.0    0.0        0.0    0.0  0.0   0.0   \n",
       "4                0.0  ...      0.0    0.0        0.0    0.0  0.0   0.0   \n",
       "\n",
       "   zealand  zero  zoe  zwinn  \n",
       "0      0.0   0.0  0.0    0.0  \n",
       "1      0.0   0.0  0.0    0.0  \n",
       "2      0.0   0.0  0.0    0.0  \n",
       "3      0.0   0.0  0.0    0.0  \n",
       "4      0.0   0.0  0.0    0.0  \n",
       "\n",
       "[5 rows x 5642 columns]"
      ]
     },
     "execution_count": 85,
     "metadata": {},
     "output_type": "execute_result"
    }
   ],
   "source": [
    "X_train.head()"
   ]
  },
  {
   "cell_type": "code",
   "execution_count": 87,
   "metadata": {},
   "outputs": [],
   "source": [
    "word_count = X_train.sum(axis = 0)"
   ]
  },
  {
   "cell_type": "code",
   "execution_count": 88,
   "metadata": {},
   "outputs": [],
   "source": [
    "d = word_count.sort_values(ascending = False).head(10)"
   ]
  },
  {
   "cell_type": "code",
   "execution_count": 93,
   "metadata": {},
   "outputs": [
    {
     "data": {
      "text/plain": [
       "data          20.493428\n",
       "experience    13.463320\n",
       "business      13.276250\n",
       "xe2           11.136073\n",
       "x80           11.020104\n",
       "role           9.512946\n",
       "skills         9.285152\n",
       "team           8.538150\n",
       "management     7.899540\n",
       "work           7.579928\n",
       "dtype: float64"
      ]
     },
     "execution_count": 93,
     "metadata": {},
     "output_type": "execute_result"
    }
   ],
   "source": [
    "d"
   ]
  },
  {
   "cell_type": "code",
   "execution_count": 97,
   "metadata": {},
   "outputs": [
    {
     "data": {
      "text/plain": [
       "(246, 5642)"
      ]
     },
     "execution_count": 97,
     "metadata": {},
     "output_type": "execute_result"
    }
   ],
   "source": [
    "X_train.shape"
   ]
  },
  {
   "cell_type": "code",
   "execution_count": 98,
   "metadata": {},
   "outputs": [],
   "source": [
    "features_job = X_train[['data', 'experience', 'business', 'role', 'team', 'management', 'work']]"
   ]
  },
  {
   "cell_type": "code",
   "execution_count": 106,
   "metadata": {},
   "outputs": [],
   "source": [
    "X_test = pd.DataFrame(vect.transform(X_test).todense(),\n",
    "                      columns=vect.get_feature_names())"
   ]
  },
  {
   "cell_type": "code",
   "execution_count": 108,
   "metadata": {},
   "outputs": [
    {
     "data": {
      "text/plain": [
       "(122, 5642)"
      ]
     },
     "execution_count": 108,
     "metadata": {},
     "output_type": "execute_result"
    }
   ],
   "source": [
    "X_test.shape"
   ]
  },
  {
   "cell_type": "code",
   "execution_count": 109,
   "metadata": {},
   "outputs": [],
   "source": [
    "feature_test = X_test[['data', 'experience', 'business', 'role', 'team', 'management', 'work']]"
   ]
  },
  {
   "cell_type": "code",
   "execution_count": 110,
   "metadata": {},
   "outputs": [
    {
     "data": {
      "text/html": [
       "<div>\n",
       "<style scoped>\n",
       "    .dataframe tbody tr th:only-of-type {\n",
       "        vertical-align: middle;\n",
       "    }\n",
       "\n",
       "    .dataframe tbody tr th {\n",
       "        vertical-align: top;\n",
       "    }\n",
       "\n",
       "    .dataframe thead th {\n",
       "        text-align: right;\n",
       "    }\n",
       "</style>\n",
       "<table border=\"1\" class=\"dataframe\">\n",
       "  <thead>\n",
       "    <tr style=\"text-align: right;\">\n",
       "      <th></th>\n",
       "      <th>data</th>\n",
       "      <th>experience</th>\n",
       "      <th>business</th>\n",
       "      <th>role</th>\n",
       "      <th>team</th>\n",
       "      <th>management</th>\n",
       "      <th>work</th>\n",
       "    </tr>\n",
       "  </thead>\n",
       "  <tbody>\n",
       "    <tr>\n",
       "      <th>0</th>\n",
       "      <td>0.023029</td>\n",
       "      <td>0.048360</td>\n",
       "      <td>0.081730</td>\n",
       "      <td>0.051846</td>\n",
       "      <td>0.053811</td>\n",
       "      <td>0.000000</td>\n",
       "      <td>0.000000</td>\n",
       "    </tr>\n",
       "    <tr>\n",
       "      <th>1</th>\n",
       "      <td>0.091533</td>\n",
       "      <td>0.160180</td>\n",
       "      <td>0.000000</td>\n",
       "      <td>0.034345</td>\n",
       "      <td>0.035647</td>\n",
       "      <td>0.000000</td>\n",
       "      <td>0.039103</td>\n",
       "    </tr>\n",
       "    <tr>\n",
       "      <th>2</th>\n",
       "      <td>0.075039</td>\n",
       "      <td>0.000000</td>\n",
       "      <td>0.000000</td>\n",
       "      <td>0.042234</td>\n",
       "      <td>0.021918</td>\n",
       "      <td>0.026936</td>\n",
       "      <td>0.048085</td>\n",
       "    </tr>\n",
       "    <tr>\n",
       "      <th>3</th>\n",
       "      <td>0.063340</td>\n",
       "      <td>0.044337</td>\n",
       "      <td>0.024977</td>\n",
       "      <td>0.023766</td>\n",
       "      <td>0.000000</td>\n",
       "      <td>0.030315</td>\n",
       "      <td>0.027059</td>\n",
       "    </tr>\n",
       "    <tr>\n",
       "      <th>4</th>\n",
       "      <td>0.030436</td>\n",
       "      <td>0.095872</td>\n",
       "      <td>0.108018</td>\n",
       "      <td>0.068522</td>\n",
       "      <td>0.000000</td>\n",
       "      <td>0.000000</td>\n",
       "      <td>0.000000</td>\n",
       "    </tr>\n",
       "  </tbody>\n",
       "</table>\n",
       "</div>"
      ],
      "text/plain": [
       "       data  experience  business      role      team  management      work\n",
       "0  0.023029    0.048360  0.081730  0.051846  0.053811    0.000000  0.000000\n",
       "1  0.091533    0.160180  0.000000  0.034345  0.035647    0.000000  0.039103\n",
       "2  0.075039    0.000000  0.000000  0.042234  0.021918    0.026936  0.048085\n",
       "3  0.063340    0.044337  0.024977  0.023766  0.000000    0.030315  0.027059\n",
       "4  0.030436    0.095872  0.108018  0.068522  0.000000    0.000000  0.000000"
      ]
     },
     "execution_count": 110,
     "metadata": {},
     "output_type": "execute_result"
    }
   ],
   "source": [
    "feature_test.head()"
   ]
  },
  {
   "cell_type": "markdown",
   "metadata": {},
   "source": [
    "#### Pipeline with tfIdf and Logistic regression model"
   ]
  },
  {
   "cell_type": "code",
   "execution_count": 3,
   "metadata": {},
   "outputs": [],
   "source": [
    "#Building a pipeline with tfid as the accuracy score for tfidf is better than couuntvectorizer and trying out on logistic regression:\n",
    "model = make_pipeline(TfidfVectorizer(stop_words = 'english', sublinear_tf = True, max_df=0.5, max_features=1000), LogisticRegression(),)"
   ]
  },
  {
   "cell_type": "code",
   "execution_count": 52,
   "metadata": {},
   "outputs": [
    {
     "name": "stdout",
     "output_type": "stream",
     "text": [
      "0.7049180327868853\n",
      "Number of features: 1000\n"
     ]
    },
    {
     "name": "stderr",
     "output_type": "stream",
     "text": [
      "C:\\Users\\r_ani\\Anaconda3\\lib\\site-packages\\sklearn\\linear_model\\logistic.py:433: FutureWarning: Default solver will be changed to 'lbfgs' in 0.22. Specify a solver to silence this warning.\n",
      "  FutureWarning)\n"
     ]
    }
   ],
   "source": [
    "model.fit(X_train, y_train)\n",
    "y_pred = model.predict(X_test)\n",
    "print(accuracy_score(y_test, y_pred))\n",
    "print(\"Number of features:\", len(model.steps[0][1].get_feature_names()))"
   ]
  },
  {
   "cell_type": "code",
   "execution_count": 53,
   "metadata": {},
   "outputs": [
    {
     "data": {
      "text/plain": [
       "CountVectorizer(analyzer='word', binary=False, decode_error='strict',\n",
       "        dtype=<class 'numpy.int64'>, encoding='utf-8', input='content',\n",
       "        lowercase=True, max_df=1.0, max_features=None, min_df=1,\n",
       "        ngram_range=(1, 1), preprocessor=None, stop_words='english',\n",
       "        strip_accents=None, token_pattern='(?u)\\\\b\\\\w\\\\w+\\\\b',\n",
       "        tokenizer=None, vocabulary=None)"
      ]
     },
     "execution_count": 53,
     "metadata": {},
     "output_type": "execute_result"
    }
   ],
   "source": [
    "cvec = CountVectorizer(stop_words='english')\n",
    "cvec.fit(X_train)"
   ]
  },
  {
   "cell_type": "code",
   "execution_count": 55,
   "metadata": {},
   "outputs": [],
   "source": [
    "# turning into dataframe\n",
    "X_train = pd.DataFrame(cvec.transform(X_train).todense(), columns = cvec.get_feature_names())"
   ]
  },
  {
   "cell_type": "code",
   "execution_count": 183,
   "metadata": {},
   "outputs": [
    {
     "data": {
      "text/html": [
       "<div>\n",
       "<style scoped>\n",
       "    .dataframe tbody tr th:only-of-type {\n",
       "        vertical-align: middle;\n",
       "    }\n",
       "\n",
       "    .dataframe tbody tr th {\n",
       "        vertical-align: top;\n",
       "    }\n",
       "\n",
       "    .dataframe thead th {\n",
       "        text-align: right;\n",
       "    }\n",
       "</style>\n",
       "<table border=\"1\" class=\"dataframe\">\n",
       "  <thead>\n",
       "    <tr style=\"text-align: right;\">\n",
       "      <th></th>\n",
       "      <th>00</th>\n",
       "      <th>000</th>\n",
       "      <th>00102</th>\n",
       "      <th>0010506</th>\n",
       "      <th>0010558</th>\n",
       "      <th>0010769</th>\n",
       "      <th>0010844</th>\n",
       "      <th>0046220</th>\n",
       "      <th>0054</th>\n",
       "      <th>005idatascientist</th>\n",
       "      <th>...</th>\n",
       "      <th>youll</th>\n",
       "      <th>young</th>\n",
       "      <th>yourcvvia</th>\n",
       "      <th>youre</th>\n",
       "      <th>yrs</th>\n",
       "      <th>zale</th>\n",
       "      <th>zealand</th>\n",
       "      <th>zero</th>\n",
       "      <th>zoe</th>\n",
       "      <th>zwinn</th>\n",
       "    </tr>\n",
       "  </thead>\n",
       "  <tbody>\n",
       "    <tr>\n",
       "      <th>0</th>\n",
       "      <td>0</td>\n",
       "      <td>0</td>\n",
       "      <td>0</td>\n",
       "      <td>0</td>\n",
       "      <td>0</td>\n",
       "      <td>0</td>\n",
       "      <td>0</td>\n",
       "      <td>0</td>\n",
       "      <td>0</td>\n",
       "      <td>0</td>\n",
       "      <td>...</td>\n",
       "      <td>0</td>\n",
       "      <td>0</td>\n",
       "      <td>0</td>\n",
       "      <td>0</td>\n",
       "      <td>0</td>\n",
       "      <td>0</td>\n",
       "      <td>0</td>\n",
       "      <td>0</td>\n",
       "      <td>0</td>\n",
       "      <td>0</td>\n",
       "    </tr>\n",
       "    <tr>\n",
       "      <th>1</th>\n",
       "      <td>0</td>\n",
       "      <td>0</td>\n",
       "      <td>0</td>\n",
       "      <td>0</td>\n",
       "      <td>0</td>\n",
       "      <td>0</td>\n",
       "      <td>0</td>\n",
       "      <td>0</td>\n",
       "      <td>0</td>\n",
       "      <td>0</td>\n",
       "      <td>...</td>\n",
       "      <td>0</td>\n",
       "      <td>0</td>\n",
       "      <td>0</td>\n",
       "      <td>0</td>\n",
       "      <td>0</td>\n",
       "      <td>0</td>\n",
       "      <td>0</td>\n",
       "      <td>0</td>\n",
       "      <td>0</td>\n",
       "      <td>0</td>\n",
       "    </tr>\n",
       "    <tr>\n",
       "      <th>2</th>\n",
       "      <td>0</td>\n",
       "      <td>0</td>\n",
       "      <td>0</td>\n",
       "      <td>0</td>\n",
       "      <td>0</td>\n",
       "      <td>0</td>\n",
       "      <td>0</td>\n",
       "      <td>0</td>\n",
       "      <td>0</td>\n",
       "      <td>0</td>\n",
       "      <td>...</td>\n",
       "      <td>0</td>\n",
       "      <td>0</td>\n",
       "      <td>0</td>\n",
       "      <td>0</td>\n",
       "      <td>0</td>\n",
       "      <td>0</td>\n",
       "      <td>0</td>\n",
       "      <td>0</td>\n",
       "      <td>0</td>\n",
       "      <td>0</td>\n",
       "    </tr>\n",
       "    <tr>\n",
       "      <th>3</th>\n",
       "      <td>0</td>\n",
       "      <td>0</td>\n",
       "      <td>0</td>\n",
       "      <td>0</td>\n",
       "      <td>0</td>\n",
       "      <td>0</td>\n",
       "      <td>0</td>\n",
       "      <td>0</td>\n",
       "      <td>0</td>\n",
       "      <td>0</td>\n",
       "      <td>...</td>\n",
       "      <td>0</td>\n",
       "      <td>0</td>\n",
       "      <td>0</td>\n",
       "      <td>0</td>\n",
       "      <td>0</td>\n",
       "      <td>0</td>\n",
       "      <td>0</td>\n",
       "      <td>0</td>\n",
       "      <td>0</td>\n",
       "      <td>0</td>\n",
       "    </tr>\n",
       "    <tr>\n",
       "      <th>4</th>\n",
       "      <td>0</td>\n",
       "      <td>0</td>\n",
       "      <td>0</td>\n",
       "      <td>0</td>\n",
       "      <td>0</td>\n",
       "      <td>0</td>\n",
       "      <td>0</td>\n",
       "      <td>0</td>\n",
       "      <td>0</td>\n",
       "      <td>0</td>\n",
       "      <td>...</td>\n",
       "      <td>0</td>\n",
       "      <td>0</td>\n",
       "      <td>0</td>\n",
       "      <td>0</td>\n",
       "      <td>0</td>\n",
       "      <td>0</td>\n",
       "      <td>0</td>\n",
       "      <td>0</td>\n",
       "      <td>0</td>\n",
       "      <td>0</td>\n",
       "    </tr>\n",
       "  </tbody>\n",
       "</table>\n",
       "<p>5 rows × 5642 columns</p>\n",
       "</div>"
      ],
      "text/plain": [
       "   00  000  00102  0010506  0010558  0010769  0010844  0046220  0054  \\\n",
       "0   0    0      0        0        0        0        0        0     0   \n",
       "1   0    0      0        0        0        0        0        0     0   \n",
       "2   0    0      0        0        0        0        0        0     0   \n",
       "3   0    0      0        0        0        0        0        0     0   \n",
       "4   0    0      0        0        0        0        0        0     0   \n",
       "\n",
       "   005idatascientist  ...    youll  young  yourcvvia  youre  yrs  zale  \\\n",
       "0                  0  ...        0      0          0      0    0     0   \n",
       "1                  0  ...        0      0          0      0    0     0   \n",
       "2                  0  ...        0      0          0      0    0     0   \n",
       "3                  0  ...        0      0          0      0    0     0   \n",
       "4                  0  ...        0      0          0      0    0     0   \n",
       "\n",
       "   zealand  zero  zoe  zwinn  \n",
       "0        0     0    0      0  \n",
       "1        0     0    0      0  \n",
       "2        0     0    0      0  \n",
       "3        0     0    0      0  \n",
       "4        0     0    0      0  \n",
       "\n",
       "[5 rows x 5642 columns]"
      ]
     },
     "execution_count": 183,
     "metadata": {},
     "output_type": "execute_result"
    }
   ],
   "source": [
    "X_train.head()"
   ]
  },
  {
   "cell_type": "code",
   "execution_count": 184,
   "metadata": {},
   "outputs": [],
   "source": [
    "word_count = X_train.sum(axis = 0)"
   ]
  },
  {
   "cell_type": "code",
   "execution_count": 210,
   "metadata": {},
   "outputs": [],
   "source": [
    "d = word_count.sort_values(ascending = False).head(10)"
   ]
  },
  {
   "cell_type": "code",
   "execution_count": 211,
   "metadata": {},
   "outputs": [
    {
     "data": {
      "text/plain": [
       "data          1149\n",
       "experience     744\n",
       "business       648\n",
       "xe2            533\n",
       "x80            521\n",
       "skills         504\n",
       "role           498\n",
       "team           451\n",
       "work           379\n",
       "management     348\n",
       "dtype: int64"
      ]
     },
     "execution_count": 211,
     "metadata": {},
     "output_type": "execute_result"
    }
   ],
   "source": [
    "d"
   ]
  },
  {
   "cell_type": "code",
   "execution_count": 188,
   "metadata": {},
   "outputs": [],
   "source": [
    "X_test = pd.DataFrame(cvec.transform(X_test).todense(),\n",
    "                      columns=cvec.get_feature_names())"
   ]
  },
  {
   "cell_type": "markdown",
   "metadata": {},
   "source": [
    "#### Logistic Regression Model"
   ]
  },
  {
   "cell_type": "code",
   "execution_count": 225,
   "metadata": {},
   "outputs": [
    {
     "name": "stderr",
     "output_type": "stream",
     "text": [
      "C:\\Users\\r_ani\\Anaconda3\\lib\\site-packages\\sklearn\\linear_model\\logistic.py:433: FutureWarning: Default solver will be changed to 'lbfgs' in 0.22. Specify a solver to silence this warning.\n",
      "  FutureWarning)\n"
     ]
    },
    {
     "data": {
      "text/plain": [
       "LogisticRegression(C=1.0, class_weight=None, dual=False, fit_intercept=True,\n",
       "          intercept_scaling=1, max_iter=100, multi_class='warn',\n",
       "          n_jobs=None, penalty='l2', random_state=None, solver='warn',\n",
       "          tol=0.0001, verbose=0, warm_start=False)"
      ]
     },
     "execution_count": 225,
     "metadata": {},
     "output_type": "execute_result"
    }
   ],
   "source": [
    "#logistic regression\n",
    "lg = LogisticRegression()\n",
    "lg.fit(X_train, y_train)"
   ]
  },
  {
   "cell_type": "code",
   "execution_count": 226,
   "metadata": {},
   "outputs": [
    {
     "data": {
      "text/plain": [
       "0.6557377049180327"
      ]
     },
     "execution_count": 226,
     "metadata": {},
     "output_type": "execute_result"
    }
   ],
   "source": [
    "lg.score(X_test, y_test)"
   ]
  },
  {
   "cell_type": "code",
   "execution_count": 227,
   "metadata": {},
   "outputs": [],
   "source": [
    "yhat = lg.predict(X_test)"
   ]
  },
  {
   "cell_type": "markdown",
   "metadata": {},
   "source": [
    "#### Other Classification Models"
   ]
  },
  {
   "cell_type": "code",
   "execution_count": 196,
   "metadata": {},
   "outputs": [
    {
     "data": {
      "text/plain": [
       "BaggingClassifier(base_estimator=None, bootstrap=True,\n",
       "         bootstrap_features=False, max_features=1.0, max_samples=1.0,\n",
       "         n_estimators=10, n_jobs=None, oob_score=False, random_state=None,\n",
       "         verbose=0, warm_start=False)"
      ]
     },
     "execution_count": 196,
     "metadata": {},
     "output_type": "execute_result"
    }
   ],
   "source": [
    "from sklearn.ensemble import ExtraTreesClassifier, BaggingClassifier, RandomForestClassifier\n",
    "bg = BaggingClassifier()\n",
    "et = ExtraTreesClassifier()\n",
    "bg.fit(X_train, y_train)"
   ]
  },
  {
   "cell_type": "code",
   "execution_count": 193,
   "metadata": {},
   "outputs": [
    {
     "data": {
      "text/plain": [
       "0.5983606557377049"
      ]
     },
     "execution_count": 193,
     "metadata": {},
     "output_type": "execute_result"
    }
   ],
   "source": [
    "bg.score(X_test, y_test)"
   ]
  },
  {
   "cell_type": "code",
   "execution_count": 194,
   "metadata": {},
   "outputs": [
    {
     "name": "stderr",
     "output_type": "stream",
     "text": [
      "C:\\Users\\r_ani\\Anaconda3\\lib\\site-packages\\sklearn\\ensemble\\forest.py:246: FutureWarning: The default value of n_estimators will change from 10 in version 0.20 to 100 in 0.22.\n",
      "  \"10 in version 0.20 to 100 in 0.22.\", FutureWarning)\n"
     ]
    },
    {
     "data": {
      "text/plain": [
       "ExtraTreesClassifier(bootstrap=False, class_weight=None, criterion='gini',\n",
       "           max_depth=None, max_features='auto', max_leaf_nodes=None,\n",
       "           min_impurity_decrease=0.0, min_impurity_split=None,\n",
       "           min_samples_leaf=1, min_samples_split=2,\n",
       "           min_weight_fraction_leaf=0.0, n_estimators=10, n_jobs=None,\n",
       "           oob_score=False, random_state=None, verbose=0, warm_start=False)"
      ]
     },
     "execution_count": 194,
     "metadata": {},
     "output_type": "execute_result"
    }
   ],
   "source": [
    "et.fit(X_train, y_train)"
   ]
  },
  {
   "cell_type": "code",
   "execution_count": 195,
   "metadata": {},
   "outputs": [
    {
     "data": {
      "text/plain": [
       "0.5983606557377049"
      ]
     },
     "execution_count": 195,
     "metadata": {},
     "output_type": "execute_result"
    }
   ],
   "source": [
    "et.score(X_test, y_test)"
   ]
  },
  {
   "cell_type": "code",
   "execution_count": 197,
   "metadata": {},
   "outputs": [
    {
     "name": "stderr",
     "output_type": "stream",
     "text": [
      "C:\\Users\\r_ani\\Anaconda3\\lib\\site-packages\\sklearn\\ensemble\\forest.py:246: FutureWarning: The default value of n_estimators will change from 10 in version 0.20 to 100 in 0.22.\n",
      "  \"10 in version 0.20 to 100 in 0.22.\", FutureWarning)\n"
     ]
    },
    {
     "data": {
      "text/plain": [
       "RandomForestClassifier(bootstrap=True, class_weight=None, criterion='gini',\n",
       "            max_depth=None, max_features='auto', max_leaf_nodes=None,\n",
       "            min_impurity_decrease=0.0, min_impurity_split=None,\n",
       "            min_samples_leaf=1, min_samples_split=2,\n",
       "            min_weight_fraction_leaf=0.0, n_estimators=10, n_jobs=None,\n",
       "            oob_score=False, random_state=None, verbose=0,\n",
       "            warm_start=False)"
      ]
     },
     "execution_count": 197,
     "metadata": {},
     "output_type": "execute_result"
    }
   ],
   "source": [
    "rf = RandomForestClassifier()\n",
    "rf.fit(X_train, y_train)"
   ]
  },
  {
   "cell_type": "code",
   "execution_count": 198,
   "metadata": {},
   "outputs": [
    {
     "data": {
      "text/plain": [
       "0.6229508196721312"
      ]
     },
     "execution_count": 198,
     "metadata": {},
     "output_type": "execute_result"
    }
   ],
   "source": [
    "rf.score(X_test, y_test)"
   ]
  },
  {
   "cell_type": "code",
   "execution_count": 204,
   "metadata": {},
   "outputs": [
    {
     "name": "stderr",
     "output_type": "stream",
     "text": [
      "C:\\Users\\r_ani\\Anaconda3\\lib\\site-packages\\sklearn\\linear_model\\logistic.py:433: FutureWarning: Default solver will be changed to 'lbfgs' in 0.22. Specify a solver to silence this warning.\n",
      "  FutureWarning)\n",
      "C:\\Users\\r_ani\\Anaconda3\\lib\\site-packages\\sklearn\\linear_model\\logistic.py:433: FutureWarning: Default solver will be changed to 'lbfgs' in 0.22. Specify a solver to silence this warning.\n",
      "  FutureWarning)\n",
      "C:\\Users\\r_ani\\Anaconda3\\lib\\site-packages\\sklearn\\linear_model\\logistic.py:433: FutureWarning: Default solver will be changed to 'lbfgs' in 0.22. Specify a solver to silence this warning.\n",
      "  FutureWarning)\n",
      "C:\\Users\\r_ani\\Anaconda3\\lib\\site-packages\\sklearn\\linear_model\\logistic.py:433: FutureWarning: Default solver will be changed to 'lbfgs' in 0.22. Specify a solver to silence this warning.\n",
      "  FutureWarning)\n",
      "C:\\Users\\r_ani\\Anaconda3\\lib\\site-packages\\sklearn\\linear_model\\logistic.py:433: FutureWarning: Default solver will be changed to 'lbfgs' in 0.22. Specify a solver to silence this warning.\n",
      "  FutureWarning)\n",
      "C:\\Users\\r_ani\\Anaconda3\\lib\\site-packages\\sklearn\\svm\\base.py:196: FutureWarning: The default value of gamma will change from 'auto' to 'scale' in version 0.22 to account better for unscaled features. Set gamma explicitly to 'auto' or 'scale' to avoid this warning.\n",
      "  \"avoid this warning.\", FutureWarning)\n"
     ]
    },
    {
     "name": "stdout",
     "output_type": "stream",
     "text": [
      "0.643295918367347\n"
     ]
    },
    {
     "name": "stderr",
     "output_type": "stream",
     "text": [
      "C:\\Users\\r_ani\\Anaconda3\\lib\\site-packages\\sklearn\\svm\\base.py:196: FutureWarning: The default value of gamma will change from 'auto' to 'scale' in version 0.22 to account better for unscaled features. Set gamma explicitly to 'auto' or 'scale' to avoid this warning.\n",
      "  \"avoid this warning.\", FutureWarning)\n",
      "C:\\Users\\r_ani\\Anaconda3\\lib\\site-packages\\sklearn\\svm\\base.py:196: FutureWarning: The default value of gamma will change from 'auto' to 'scale' in version 0.22 to account better for unscaled features. Set gamma explicitly to 'auto' or 'scale' to avoid this warning.\n",
      "  \"avoid this warning.\", FutureWarning)\n",
      "C:\\Users\\r_ani\\Anaconda3\\lib\\site-packages\\sklearn\\svm\\base.py:196: FutureWarning: The default value of gamma will change from 'auto' to 'scale' in version 0.22 to account better for unscaled features. Set gamma explicitly to 'auto' or 'scale' to avoid this warning.\n",
      "  \"avoid this warning.\", FutureWarning)\n",
      "C:\\Users\\r_ani\\Anaconda3\\lib\\site-packages\\sklearn\\svm\\base.py:196: FutureWarning: The default value of gamma will change from 'auto' to 'scale' in version 0.22 to account better for unscaled features. Set gamma explicitly to 'auto' or 'scale' to avoid this warning.\n",
      "  \"avoid this warning.\", FutureWarning)\n"
     ]
    },
    {
     "name": "stdout",
     "output_type": "stream",
     "text": [
      "0.6220544217687075\n"
     ]
    }
   ],
   "source": [
    "# Cross validation with logistic Regression\n",
    "logistic = LogisticRegression()\n",
    "print(cross_val_score(logistic, X_train, y_train, cv=5, scoring='accuracy').mean())\n",
    "\n",
    "\n",
    "# Let's try a SVM\n",
    "clf = svm.SVC()\n",
    "print(cross_val_score(clf, X_train, y_train, cv=5, scoring='accuracy').mean())"
   ]
  },
  {
   "cell_type": "code",
   "execution_count": 134,
   "metadata": {},
   "outputs": [],
   "source": [
    "#Logistic regression with TFID vectorizer gave 70.5%\n",
    "#Multinomial Nb with TFID vectorizer gave 72.9\n",
    "from sklearn.metrics import roc_curve, auc"
   ]
  },
  {
   "cell_type": "code",
   "execution_count": 135,
   "metadata": {},
   "outputs": [
    {
     "data": {
      "image/png": "[encoded data removed]",
      "text/plain": [
       "<Figure size 576x576 with 1 Axes>"
      ]
     },
     "metadata": {
      "needs_background": "light"
     },
     "output_type": "display_data"
    }
   ],
   "source": [
    "fpr, tpr, _ = roc_curve(y_test, y_pred)\n",
    "roc_auc = auc(fpr, tpr)\n",
    "\n",
    "# Plot of a ROC curve for class 1 (has_cancer)\n",
    "plt.figure(figsize=[8,8])\n",
    "plt.plot(fpr, tpr, label='ROC curve (area = %0.2f)' % roc_auc, linewidth=4)\n",
    "plt.plot([0, 1], [0, 1], 'k--', linewidth=4)\n",
    "plt.xlim([-0.05, 1.0])\n",
    "plt.ylim([-0.05, 1.05])\n",
    "plt.xlabel('False Positive Rate', fontsize=18)\n",
    "plt.ylabel('True Positive Rate', fontsize=18)\n",
    "plt.title('Salary Prediction', fontsize=18)\n",
    "plt.legend(loc=\"lower right\")\n",
    "plt.show()"
   ]
  },
  {
   "cell_type": "markdown",
   "metadata": {},
   "source": [
    "#### The above ROC curve gives 72% accuracy in salary prediction"
   ]
  },
  {
   "cell_type": "code",
   "execution_count": 234,
   "metadata": {},
   "outputs": [
    {
     "data": {
      "text/html": [
       "<div>\n",
       "<style scoped>\n",
       "    .dataframe tbody tr th:only-of-type {\n",
       "        vertical-align: middle;\n",
       "    }\n",
       "\n",
       "    .dataframe tbody tr th {\n",
       "        vertical-align: top;\n",
       "    }\n",
       "\n",
       "    .dataframe thead th {\n",
       "        text-align: right;\n",
       "    }\n",
       "</style>\n",
       "<table border=\"1\" class=\"dataframe\">\n",
       "  <thead>\n",
       "    <tr style=\"text-align: right;\">\n",
       "      <th></th>\n",
       "      <th>job_title</th>\n",
       "      <th>job_type</th>\n",
       "      <th>category</th>\n",
       "      <th>location</th>\n",
       "      <th>search_key</th>\n",
       "      <th>job_description_cleaned</th>\n",
       "      <th>low</th>\n",
       "      <th>high</th>\n",
       "      <th>median_sal</th>\n",
       "      <th>salary_type</th>\n",
       "    </tr>\n",
       "  </thead>\n",
       "  <tbody>\n",
       "    <tr>\n",
       "      <th>0</th>\n",
       "      <td>Data Analytics &amp; Data Science Team Leader</td>\n",
       "      <td>Full Time</td>\n",
       "      <td>Information &amp; Communication Technology</td>\n",
       "      <td>Melbourne</td>\n",
       "      <td>Data Science</td>\n",
       "      <td>The mission of the AFP is to provide dynamic ...</td>\n",
       "      <td>110172.0</td>\n",
       "      <td>119921.0</td>\n",
       "      <td>115046.5</td>\n",
       "      <td>NaN</td>\n",
       "    </tr>\n",
       "    <tr>\n",
       "      <th>1</th>\n",
       "      <td>Consultant, Data Scientist</td>\n",
       "      <td>Full Time</td>\n",
       "      <td>Information &amp; Communication Technology</td>\n",
       "      <td>Melbourne</td>\n",
       "      <td>Data Science</td>\n",
       "      <td>The Data Scientist will be accountable for des...</td>\n",
       "      <td>130000.0</td>\n",
       "      <td>140000.0</td>\n",
       "      <td>135000.0</td>\n",
       "      <td>NaN</td>\n",
       "    </tr>\n",
       "    <tr>\n",
       "      <th>2</th>\n",
       "      <td>Data Scientist</td>\n",
       "      <td>Full Time</td>\n",
       "      <td>Education &amp; Training</td>\n",
       "      <td>Melbourne</td>\n",
       "      <td>Data Science</td>\n",
       "      <td>Data Scientist     Fixed term 6 months role ...</td>\n",
       "      <td>90000.0</td>\n",
       "      <td>105000.0</td>\n",
       "      <td>97500.0</td>\n",
       "      <td>NaN</td>\n",
       "    </tr>\n",
       "    <tr>\n",
       "      <th>3</th>\n",
       "      <td>Senior Machine Learning Engineer</td>\n",
       "      <td>Full Time</td>\n",
       "      <td>Science &amp; Technology</td>\n",
       "      <td>Melbourne</td>\n",
       "      <td>Data Science</td>\n",
       "      <td>An exciting opportunity has opened up with a ...</td>\n",
       "      <td>150000.0</td>\n",
       "      <td>230000.0</td>\n",
       "      <td>190000.0</td>\n",
       "      <td>NaN</td>\n",
       "    </tr>\n",
       "    <tr>\n",
       "      <th>4</th>\n",
       "      <td>Senior Data Scientist</td>\n",
       "      <td>Contract/Temp</td>\n",
       "      <td>Information &amp; Communication Technology</td>\n",
       "      <td>Melbourne</td>\n",
       "      <td>Data Science</td>\n",
       "      <td>This is an exciting opportunity to join a lead...</td>\n",
       "      <td>216000.0</td>\n",
       "      <td>230400.0</td>\n",
       "      <td>223200.0</td>\n",
       "      <td>NaN</td>\n",
       "    </tr>\n",
       "  </tbody>\n",
       "</table>\n",
       "</div>"
      ],
      "text/plain": [
       "                                   job_title       job_type  \\\n",
       "0  Data Analytics & Data Science Team Leader      Full Time   \n",
       "1                 Consultant, Data Scientist      Full Time   \n",
       "2                             Data Scientist      Full Time   \n",
       "3           Senior Machine Learning Engineer      Full Time   \n",
       "4                      Senior Data Scientist  Contract/Temp   \n",
       "\n",
       "                                 category   location    search_key  \\\n",
       "0  Information & Communication Technology  Melbourne  Data Science   \n",
       "1  Information & Communication Technology  Melbourne  Data Science   \n",
       "2                    Education & Training  Melbourne  Data Science   \n",
       "3                    Science & Technology  Melbourne  Data Science   \n",
       "4  Information & Communication Technology  Melbourne  Data Science   \n",
       "\n",
       "                             job_description_cleaned       low      high  \\\n",
       "0   The mission of the AFP is to provide dynamic ...  110172.0  119921.0   \n",
       "1  The Data Scientist will be accountable for des...  130000.0  140000.0   \n",
       "2    Data Scientist     Fixed term 6 months role ...   90000.0  105000.0   \n",
       "3   An exciting opportunity has opened up with a ...  150000.0  230000.0   \n",
       "4  This is an exciting opportunity to join a lead...  216000.0  230400.0   \n",
       "\n",
       "   median_sal  salary_type  \n",
       "0    115046.5          NaN  \n",
       "1    135000.0          NaN  \n",
       "2     97500.0          NaN  \n",
       "3    190000.0          NaN  \n",
       "4    223200.0          NaN  "
      ]
     },
     "execution_count": 234,
     "metadata": {},
     "output_type": "execute_result"
    }
   ],
   "source": [
    "df.head()"
   ]
  },
  {
   "cell_type": "code",
   "execution_count": 236,
   "metadata": {},
   "outputs": [
    {
     "data": {
      "text/plain": [
       "array(['Data Analytics & Data Science Team Leader',\n",
       "       'Consultant, Data Scientist', 'Data Scientist',\n",
       "       'Senior Machine Learning Engineer', 'Senior Data Scientist',\n",
       "       'Data Engineer', 'Data Modeller', 'Big Data Architect',\n",
       "       'Lead Data Scientist', 'Data Integration Engineer ',\n",
       "       'Platform Engineer - Hortonworks / Python',\n",
       "       'Business Analyst | Digital ',\n",
       "       'Senior Full-Stack Software Engineer (Java/PHP/Node)',\n",
       "       'Data Architect - MongoDB', 'Business Analyst',\n",
       "       'SURVEY STATISTICIAN/METHODOLOGIST',\n",
       "       'Business Intelligence/ ETL Developer', 'Business Analyst Senior',\n",
       "       'Senior Devops Engineer',\n",
       "       'Environmental Advisor - Western Suburbs - Major Rail Project',\n",
       "       'Manager Systems Intelligence and Analytics', 'Kafka Specialist',\n",
       "       'Data Analyst ', 'BI Developer/Analyst', 'Geodetic Surveyor',\n",
       "       'Sustainability Advisor - Western Suburbs - Major Rail project',\n",
       "       'Data Analyst (SAS & SQL)', 'Systems Analyst, Fulltime, Essendon',\n",
       "       'Biological Scientist', 'Information Security Analyst',\n",
       "       'Research Security Services Coordinator',\n",
       "       'Snr Python Developer - Wealth Management',\n",
       "       'Integration Analyst (Clinical Healthcare Systems) - Permanent - Brisbane Based',\n",
       "       '.NET developer', 'Data Analyst',\n",
       "       'Microsoft SQL Database Administrator Developer DBA',\n",
       "       'Senior Java Developer (CONTRACT)',\n",
       "       'Project Surveyor - Cadastral - Consultancy',\n",
       "       'BI Manager (Hands-on)',\n",
       "       'Senior Consultant - Analytics & Big Data',\n",
       "       'Customer Analyst and Insights ',\n",
       "       'Associate Director Data Analytics',\n",
       "       ' BI, Data & Analytics BDM / Regional Sales Expert',\n",
       "       'Senior Associate, Data Analytics', 'Data Focused ScrumMaster ',\n",
       "       'Lead Big Data Architect - Tier 1 Consultancy - Melbourne c$160-190K Neg',\n",
       "       'Australian National Audit Office 2020 Graduate Program',\n",
       "       'MDM Lead ', 'Senior Data Analyst - Data Migration',\n",
       "       'Director Reporting & Business Assurance',\n",
       "       'Senior Project Consultant - Quantitative',\n",
       "       'Senior Tableau Analyst',\n",
       "       'SAP Asset Data Analyst / SAP Maintenance Planner / SAP Master Data Analyst',\n",
       "       'MS BI Consultant -Azure - Melbourne ', 'Senior Tableau Developer',\n",
       "       'Manager - Data and Business Intelligence',\n",
       "       'Senior Pre-Sales Consultant - Canberra',\n",
       "       'Pre-Sales Consultant - Perth',\n",
       "       'Administration Support Officer (FCD.158)',\n",
       "       'Enterprise Change Manager', 'Scrum Master',\n",
       "       'Customer Insights & Segmentation Lead', 'Data Specialist ',\n",
       "       'Qlikview Business Intelligence Developer', 'IT Delivery Manager',\n",
       "       'Customer Data Analyst',\n",
       "       'Security Lead/Security Solution Strategist',\n",
       "       'Business Development Manager / Sales Executive - Logistics',\n",
       "       'DevOps Engineer', 'Data and Reporting Manager',\n",
       "       'Senior Data Consultant ', 'Lead Data Security Analyst',\n",
       "       'Senior Quantitative Account Manager - Best of the boutiques!',\n",
       "       'Big Data Engineer', 'Digital Marketing Specialist',\n",
       "       'Business Development Manager', 'Commercial Analyst',\n",
       "       'Logistics Manager', 'Data Analyst / Technical BA',\n",
       "       'Senior Data Analyst', 'Customer Analyst',\n",
       "       'Technical Business Analyst - Investments', 'Social Media Manager',\n",
       "       'Network Data Transition & Reporting Analyst', 'MS Excel SME ',\n",
       "       'Data Migration/Reporting Specialist Melbourne CBD',\n",
       "       'Consultant - Quantitative Insights',\n",
       "       'Production Database Administrator',\n",
       "       'Business lntelligence Developer', 'Product Analyst - Investments',\n",
       "       'Clinical Coder', 'DLP Security Analyst', 'IT Storage Consultant',\n",
       "       'SAS Fraud Analyst', 'MSBI/Azure Developer',\n",
       "       'Reporting and Compliance Officer', 'Performance Analyst ',\n",
       "       'Senior Data Governance Manager', 'IT Implementation Engineer ',\n",
       "       'eDiscovery Analyst',\n",
       "       'Enterprise Account Director - Education Sector',\n",
       "       'Cryptologic Systems Operator',\n",
       "       'Business Development Manager - BFSI', 'Customer Insights Manager',\n",
       "       'Business Analyst (Process)', 'Analyst',\n",
       "       'Senior Data Analyst - Based in Canberra',\n",
       "       'Senior Analyst (Market Research)', 'Cyber Security Analyst ',\n",
       "       'GMC (Quadient) Architect', 'Appian Developer / Senior Developer',\n",
       "       'Sales Reporting - Part Time', 'Operations Delivery Manager',\n",
       "       'Merchandise Allocator', 'Business Analyst, Technical',\n",
       "       'Solutions Architect - Data Warehouse / Azure',\n",
       "       'Level 3 Support Engineer', 'Senior Development Lead',\n",
       "       'Senior Business Analyst', 'Revenue Analyst',\n",
       "       'Analyst / Accountant - 6-8 week temp assignment',\n",
       "       'Business Systems Analyst', 'Infrastructure Analyst',\n",
       "       'Quality Advisor - Multi-Site - Aged Care - NFP',\n",
       "       'Senior Agile Business Analyst',\n",
       "       'Commercial Analyst | Financial Modelling | Technology Company',\n",
       "       'PMO lead', 'Business Analyst, Global Impact',\n",
       "       'FINANCE BUSINESS PARTNER', 'Transport Analyst',\n",
       "       'Process Improvement Analyst', 'Windows System Analyst',\n",
       "       'Finance Analyst | Digital Media | Northern Suburbs | $120k',\n",
       "       'Senior Agile Business Analyst - CRM', 'Unit Pricing Analyst',\n",
       "       'Integrated Asset Systems', 'Senior Analyst - Risk',\n",
       "       'Manager, Strategic Finance',\n",
       "       'Business Analyst - Financial Advice /Wrap Platform - 6 month contract $800 pd',\n",
       "       'BI Analyst', 'Service Desk Analyst - EUC / SCCM / SOE Deployment',\n",
       "       'Business Intelligence Manager',\n",
       "       'Reporting and Performance Analyst',\n",
       "       'Commercial Analyst / Modeller ', 'Strategic Intelligence Analyst',\n",
       "       'Integrated Asset Management Systems',\n",
       "       'Financial Planning & Systems Manager',\n",
       "       'Commercial Business Analyst',\n",
       "       'Group Accountant | $80,000 - $90,000 + super | Bayside Location',\n",
       "       'Commercial Analyst | International Business | South-East ',\n",
       "       'Security Analyst', 'Data Analyst/Scientist',\n",
       "       'Data Scientist - Customer Analytics in Financial Services!',\n",
       "       'Machine Learning Engineer / Scientist - Optimisation experience',\n",
       "       'Data Scientist, Analytics, Machine Learning - Data Scientist, Data Statistician',\n",
       "       'Credit Risk Analytics- Data Scientist',\n",
       "       'Principal Data Scientist ',\n",
       "       'Data Scientist- Credit Risk Projects',\n",
       "       'Data Scientist - Financial Markets',\n",
       "       'Junior Data Scientist, Conversational AI, Western Subs, Sydney',\n",
       "       'Senior Data Scientist - Retail',\n",
       "       'Senior Data Scientist - Location & Segment Analytics',\n",
       "       'Data Scientist ',\n",
       "       'Big Data Engineer (Contract) : Sydney : 6 Month Contract : Excellent Rate',\n",
       "       'Data Administrator / Data Engineer',\n",
       "       'Senior Data Science(Loyalty)',\n",
       "       'Insights Analyst – Online Video Streaming',\n",
       "       'Data Platform Engineer | US Tech Startup | Sydney CBD',\n",
       "       'Data Engineering Manager', 'Full Stack Engineer - Python',\n",
       "       'Senior Data Engineer - Location & Segment Analytics',\n",
       "       'Data Steward ',\n",
       "       'Operations Research/Modelling & Simulation/Data Analysis',\n",
       "       'Data Steward - Governance & Data Management ',\n",
       "       'Data Engineer - Machine Learning', 'Retail Sales Analyst',\n",
       "       'Senior Analyst - Scorecards', 'Sanctions Analyst',\n",
       "       'Systems Analyst', 'Financial Analyst', 'Junior Credit Analyst',\n",
       "       'Business Analyst - Identity Access Management',\n",
       "       'Financial Analyst - Supply Chain',\n",
       "       'Finance Process and Efficiency Analyst',\n",
       "       'Business Analyst / Scrum Master', 'Business Analyst (Functional)',\n",
       "       'Senior Financial Analyst - Supply Chain',\n",
       "       'Principal Policy Analyst', 'Business Analyst - E-commerce',\n",
       "       'Agile Business Analyst - IT Consultancy',\n",
       "       'Risk & Compliance Analyst', 'Investment Analyst- Sydney',\n",
       "       'Sysadmin and developer operations support', 'Trade Spend Analyst',\n",
       "       'Budget Analyst ', 'Financial Commercial Business Analyst',\n",
       "       'Business Analyst - Research and Revenue Accounting Services',\n",
       "       'Family & Administration Support Officer',\n",
       "       'SOLAR ELECTRICAL ENGINEER', 'Software Engineer',\n",
       "       'Research and Evaluation Officer',\n",
       "       'Junior Digital Project Manager',\n",
       "       'Marketing Coordinator - 12 month FTC - northern subburbs',\n",
       "       'Product Lead',\n",
       "       'Applications Developer, Enterprise Data Warehouse (EDW)',\n",
       "       'Digital Marketing & Social Media Coordinator',\n",
       "       'Project Analyst / Junior BA - Service Desk Implementation',\n",
       "       'Project Assurance and Reporting Analyst ',\n",
       "       'Production Supervisor | Manufacturing | Building Products',\n",
       "       'Credit Analyst', 'Technical Analyst | Financial Services',\n",
       "       'Management Accountant', 'Senior Policy Officer',\n",
       "       'Compliance Manager',\n",
       "       'Product & Insights Analyst - Lead Role Sports Technology',\n",
       "       'Research Fellow, Monash Centre for Scholarship in Health Education',\n",
       "       '\"Japanese-speaking\" Customer Support Associate - Finance',\n",
       "       'MS BI Consultant', 'Financial Accountant FTC',\n",
       "       'Business Development Manager - Telstra', 'Financial Controller',\n",
       "       '\"Japanese-speaking\" Business Administration/Sales Support',\n",
       "       'BTB - Telecommunications Hardware Provisioning Technician',\n",
       "       'Finance Analyst', 'Customer Success Manager',\n",
       "       'Grants & Financial Risk Analyst',\n",
       "       'Mid / Senior .Net Software Developer ',\n",
       "       'Senior Quantitative Developer, Investment Solutions - 6 Month Contract',\n",
       "       'Business Development Manager ICT Solutions', 'Cost Accountant',\n",
       "       'Finance Executive', 'Financial Planning/Client Services Manager',\n",
       "       'Microsoft Dynamics 365 F&O Technical Architect',\n",
       "       'Credit Risk Modeling Analyst - Scorecards ',\n",
       "       'Business Analyst - 2 month contract', 'Senior Commercial Analyst',\n",
       "       'Security Lead', 'Business Analyst - Finance Implementation',\n",
       "       'Senior Strategic Planner',\n",
       "       'Senior Analyst (Lifecycle Marketing Campaign)',\n",
       "       'RTO Data Officer', 'Supply Planner', 'Finance Officer'],\n",
       "      dtype=object)"
      ]
     },
     "execution_count": 236,
     "metadata": {},
     "output_type": "execute_result"
    }
   ],
   "source": [
    "df.job_title.unique()"
   ]
  },
  {
   "cell_type": "markdown",
   "metadata": {},
   "source": [
    "#### Taking the top features using TFID and using other parameters as shown which has impact on salary \n",
    "#### like location, job type and job title will predict the median salary of job using regression techniques."
   ]
  },
  {
   "cell_type": "code",
   "execution_count": 99,
   "metadata": {},
   "outputs": [],
   "source": [
    "d = pd.read_csv('final_full_clean_seek_data2.csv')"
   ]
  },
  {
   "cell_type": "code",
   "execution_count": 100,
   "metadata": {},
   "outputs": [
    {
     "data": {
      "text/html": [
       "<div>\n",
       "<style scoped>\n",
       "    .dataframe tbody tr th:only-of-type {\n",
       "        vertical-align: middle;\n",
       "    }\n",
       "\n",
       "    .dataframe tbody tr th {\n",
       "        vertical-align: top;\n",
       "    }\n",
       "\n",
       "    .dataframe thead th {\n",
       "        text-align: right;\n",
       "    }\n",
       "</style>\n",
       "<table border=\"1\" class=\"dataframe\">\n",
       "  <thead>\n",
       "    <tr style=\"text-align: right;\">\n",
       "      <th></th>\n",
       "      <th>job_title</th>\n",
       "      <th>job_type</th>\n",
       "      <th>category</th>\n",
       "      <th>location</th>\n",
       "      <th>search_key</th>\n",
       "      <th>job_description_cleaned</th>\n",
       "      <th>low</th>\n",
       "      <th>high</th>\n",
       "      <th>median_sal</th>\n",
       "      <th>salary_type</th>\n",
       "    </tr>\n",
       "  </thead>\n",
       "  <tbody>\n",
       "    <tr>\n",
       "      <th>0</th>\n",
       "      <td>Data Analytics &amp; Data Science Team Leader</td>\n",
       "      <td>Full Time</td>\n",
       "      <td>Information &amp; Communication Technology</td>\n",
       "      <td>Melbourne</td>\n",
       "      <td>Data Science</td>\n",
       "      <td>The mission of the AFP is to provide dynamic ...</td>\n",
       "      <td>110172.0</td>\n",
       "      <td>119921.0</td>\n",
       "      <td>115046.5</td>\n",
       "      <td>high</td>\n",
       "    </tr>\n",
       "    <tr>\n",
       "      <th>1</th>\n",
       "      <td>Consultant, Data Scientist</td>\n",
       "      <td>Full Time</td>\n",
       "      <td>Information &amp; Communication Technology</td>\n",
       "      <td>Melbourne</td>\n",
       "      <td>Data Science</td>\n",
       "      <td>The Data Scientist will be accountable for des...</td>\n",
       "      <td>130000.0</td>\n",
       "      <td>140000.0</td>\n",
       "      <td>135000.0</td>\n",
       "      <td>high</td>\n",
       "    </tr>\n",
       "  </tbody>\n",
       "</table>\n",
       "</div>"
      ],
      "text/plain": [
       "                                   job_title   job_type  \\\n",
       "0  Data Analytics & Data Science Team Leader  Full Time   \n",
       "1                 Consultant, Data Scientist  Full Time   \n",
       "\n",
       "                                 category   location    search_key  \\\n",
       "0  Information & Communication Technology  Melbourne  Data Science   \n",
       "1  Information & Communication Technology  Melbourne  Data Science   \n",
       "\n",
       "                             job_description_cleaned       low      high  \\\n",
       "0   The mission of the AFP is to provide dynamic ...  110172.0  119921.0   \n",
       "1  The Data Scientist will be accountable for des...  130000.0  140000.0   \n",
       "\n",
       "   median_sal salary_type  \n",
       "0    115046.5        high  \n",
       "1    135000.0        high  "
      ]
     },
     "execution_count": 100,
     "metadata": {},
     "output_type": "execute_result"
    }
   ],
   "source": [
    "d.head(2)"
   ]
  },
  {
   "cell_type": "code",
   "execution_count": null,
   "metadata": {},
   "outputs": [],
   "source": [
    "#Mapping and decoding the variables."
   ]
  },
  {
   "cell_type": "code",
   "execution_count": 101,
   "metadata": {},
   "outputs": [],
   "source": [
    "d.job_type = d.job_type.map({'Full Time': 3, 'Contract/Temp': 2, 'Part Time': 1, 'Share this role': 0})"
   ]
  },
  {
   "cell_type": "code",
   "execution_count": 102,
   "metadata": {},
   "outputs": [],
   "source": [
    "d.salary_type = d.salary_type.map({'high': 1, 'low': 0})"
   ]
  },
  {
   "cell_type": "code",
   "execution_count": 103,
   "metadata": {},
   "outputs": [],
   "source": [
    "d.location = d.location.map({'Melbourne': 1, 'Sydney': 2})"
   ]
  },
  {
   "cell_type": "code",
   "execution_count": 104,
   "metadata": {},
   "outputs": [
    {
     "data": {
      "text/plain": [
       "(246, 7)"
      ]
     },
     "execution_count": 104,
     "metadata": {},
     "output_type": "execute_result"
    }
   ],
   "source": [
    "features_job.shape"
   ]
  },
  {
   "cell_type": "code",
   "execution_count": 105,
   "metadata": {},
   "outputs": [
    {
     "data": {
      "text/plain": [
       "(368, 10)"
      ]
     },
     "execution_count": 105,
     "metadata": {},
     "output_type": "execute_result"
    }
   ],
   "source": [
    "d.shape"
   ]
  },
  {
   "cell_type": "code",
   "execution_count": 112,
   "metadata": {},
   "outputs": [],
   "source": [
    "features_selected = pd.concat([features_job, feature_test], ignore_index= True, sort = False)"
   ]
  },
  {
   "cell_type": "code",
   "execution_count": 113,
   "metadata": {},
   "outputs": [
    {
     "data": {
      "text/html": [
       "<div>\n",
       "<style scoped>\n",
       "    .dataframe tbody tr th:only-of-type {\n",
       "        vertical-align: middle;\n",
       "    }\n",
       "\n",
       "    .dataframe tbody tr th {\n",
       "        vertical-align: top;\n",
       "    }\n",
       "\n",
       "    .dataframe thead th {\n",
       "        text-align: right;\n",
       "    }\n",
       "</style>\n",
       "<table border=\"1\" class=\"dataframe\">\n",
       "  <thead>\n",
       "    <tr style=\"text-align: right;\">\n",
       "      <th></th>\n",
       "      <th>data</th>\n",
       "      <th>experience</th>\n",
       "      <th>business</th>\n",
       "      <th>role</th>\n",
       "      <th>team</th>\n",
       "      <th>management</th>\n",
       "      <th>work</th>\n",
       "    </tr>\n",
       "  </thead>\n",
       "  <tbody>\n",
       "    <tr>\n",
       "      <th>0</th>\n",
       "      <td>0.000000</td>\n",
       "      <td>0.092339</td>\n",
       "      <td>0.138716</td>\n",
       "      <td>0.065996</td>\n",
       "      <td>0.000000</td>\n",
       "      <td>0.084181</td>\n",
       "      <td>0.037570</td>\n",
       "    </tr>\n",
       "    <tr>\n",
       "      <th>1</th>\n",
       "      <td>0.000000</td>\n",
       "      <td>0.101579</td>\n",
       "      <td>0.038149</td>\n",
       "      <td>0.018150</td>\n",
       "      <td>0.000000</td>\n",
       "      <td>0.069453</td>\n",
       "      <td>0.020664</td>\n",
       "    </tr>\n",
       "    <tr>\n",
       "      <th>2</th>\n",
       "      <td>0.017047</td>\n",
       "      <td>0.035798</td>\n",
       "      <td>0.040334</td>\n",
       "      <td>0.019189</td>\n",
       "      <td>0.059750</td>\n",
       "      <td>0.024477</td>\n",
       "      <td>0.000000</td>\n",
       "    </tr>\n",
       "    <tr>\n",
       "      <th>3</th>\n",
       "      <td>0.014652</td>\n",
       "      <td>0.046152</td>\n",
       "      <td>0.069332</td>\n",
       "      <td>0.016493</td>\n",
       "      <td>0.034236</td>\n",
       "      <td>0.084149</td>\n",
       "      <td>0.000000</td>\n",
       "    </tr>\n",
       "    <tr>\n",
       "      <th>4</th>\n",
       "      <td>0.015773</td>\n",
       "      <td>0.000000</td>\n",
       "      <td>0.074636</td>\n",
       "      <td>0.035509</td>\n",
       "      <td>0.000000</td>\n",
       "      <td>0.000000</td>\n",
       "      <td>0.020214</td>\n",
       "    </tr>\n",
       "  </tbody>\n",
       "</table>\n",
       "</div>"
      ],
      "text/plain": [
       "       data  experience  business      role      team  management      work\n",
       "0  0.000000    0.092339  0.138716  0.065996  0.000000    0.084181  0.037570\n",
       "1  0.000000    0.101579  0.038149  0.018150  0.000000    0.069453  0.020664\n",
       "2  0.017047    0.035798  0.040334  0.019189  0.059750    0.024477  0.000000\n",
       "3  0.014652    0.046152  0.069332  0.016493  0.034236    0.084149  0.000000\n",
       "4  0.015773    0.000000  0.074636  0.035509  0.000000    0.000000  0.020214"
      ]
     },
     "execution_count": 113,
     "metadata": {},
     "output_type": "execute_result"
    }
   ],
   "source": [
    "features_selected.head()"
   ]
  },
  {
   "cell_type": "code",
   "execution_count": 114,
   "metadata": {},
   "outputs": [
    {
     "data": {
      "text/plain": [
       "(368, 7)"
      ]
     },
     "execution_count": 114,
     "metadata": {},
     "output_type": "execute_result"
    }
   ],
   "source": [
    "features_selected.shape"
   ]
  },
  {
   "cell_type": "code",
   "execution_count": 115,
   "metadata": {},
   "outputs": [],
   "source": [
    "# merging these features with our job table:\n",
    "raw_data = pd.concat([d, features_selected], axis =1)"
   ]
  },
  {
   "cell_type": "code",
   "execution_count": 116,
   "metadata": {},
   "outputs": [
    {
     "data": {
      "text/html": [
       "<div>\n",
       "<style scoped>\n",
       "    .dataframe tbody tr th:only-of-type {\n",
       "        vertical-align: middle;\n",
       "    }\n",
       "\n",
       "    .dataframe tbody tr th {\n",
       "        vertical-align: top;\n",
       "    }\n",
       "\n",
       "    .dataframe thead th {\n",
       "        text-align: right;\n",
       "    }\n",
       "</style>\n",
       "<table border=\"1\" class=\"dataframe\">\n",
       "  <thead>\n",
       "    <tr style=\"text-align: right;\">\n",
       "      <th></th>\n",
       "      <th>job_title</th>\n",
       "      <th>job_type</th>\n",
       "      <th>category</th>\n",
       "      <th>location</th>\n",
       "      <th>search_key</th>\n",
       "      <th>job_description_cleaned</th>\n",
       "      <th>low</th>\n",
       "      <th>high</th>\n",
       "      <th>median_sal</th>\n",
       "      <th>salary_type</th>\n",
       "      <th>data</th>\n",
       "      <th>experience</th>\n",
       "      <th>business</th>\n",
       "      <th>role</th>\n",
       "      <th>team</th>\n",
       "      <th>management</th>\n",
       "      <th>work</th>\n",
       "    </tr>\n",
       "  </thead>\n",
       "  <tbody>\n",
       "    <tr>\n",
       "      <th>0</th>\n",
       "      <td>Data Analytics &amp; Data Science Team Leader</td>\n",
       "      <td>3</td>\n",
       "      <td>Information &amp; Communication Technology</td>\n",
       "      <td>1</td>\n",
       "      <td>Data Science</td>\n",
       "      <td>The mission of the AFP is to provide dynamic ...</td>\n",
       "      <td>110172.0</td>\n",
       "      <td>119921.0</td>\n",
       "      <td>115046.5</td>\n",
       "      <td>1</td>\n",
       "      <td>0.000000</td>\n",
       "      <td>0.092339</td>\n",
       "      <td>0.138716</td>\n",
       "      <td>0.065996</td>\n",
       "      <td>0.000000</td>\n",
       "      <td>0.084181</td>\n",
       "      <td>0.037570</td>\n",
       "    </tr>\n",
       "    <tr>\n",
       "      <th>1</th>\n",
       "      <td>Consultant, Data Scientist</td>\n",
       "      <td>3</td>\n",
       "      <td>Information &amp; Communication Technology</td>\n",
       "      <td>1</td>\n",
       "      <td>Data Science</td>\n",
       "      <td>The Data Scientist will be accountable for des...</td>\n",
       "      <td>130000.0</td>\n",
       "      <td>140000.0</td>\n",
       "      <td>135000.0</td>\n",
       "      <td>1</td>\n",
       "      <td>0.000000</td>\n",
       "      <td>0.101579</td>\n",
       "      <td>0.038149</td>\n",
       "      <td>0.018150</td>\n",
       "      <td>0.000000</td>\n",
       "      <td>0.069453</td>\n",
       "      <td>0.020664</td>\n",
       "    </tr>\n",
       "    <tr>\n",
       "      <th>2</th>\n",
       "      <td>Data Scientist</td>\n",
       "      <td>3</td>\n",
       "      <td>Education &amp; Training</td>\n",
       "      <td>1</td>\n",
       "      <td>Data Science</td>\n",
       "      <td>Data Scientist     Fixed term 6 months role ...</td>\n",
       "      <td>90000.0</td>\n",
       "      <td>105000.0</td>\n",
       "      <td>97500.0</td>\n",
       "      <td>0</td>\n",
       "      <td>0.017047</td>\n",
       "      <td>0.035798</td>\n",
       "      <td>0.040334</td>\n",
       "      <td>0.019189</td>\n",
       "      <td>0.059750</td>\n",
       "      <td>0.024477</td>\n",
       "      <td>0.000000</td>\n",
       "    </tr>\n",
       "    <tr>\n",
       "      <th>3</th>\n",
       "      <td>Senior Machine Learning Engineer</td>\n",
       "      <td>3</td>\n",
       "      <td>Science &amp; Technology</td>\n",
       "      <td>1</td>\n",
       "      <td>Data Science</td>\n",
       "      <td>An exciting opportunity has opened up with a ...</td>\n",
       "      <td>150000.0</td>\n",
       "      <td>230000.0</td>\n",
       "      <td>190000.0</td>\n",
       "      <td>1</td>\n",
       "      <td>0.014652</td>\n",
       "      <td>0.046152</td>\n",
       "      <td>0.069332</td>\n",
       "      <td>0.016493</td>\n",
       "      <td>0.034236</td>\n",
       "      <td>0.084149</td>\n",
       "      <td>0.000000</td>\n",
       "    </tr>\n",
       "    <tr>\n",
       "      <th>4</th>\n",
       "      <td>Senior Data Scientist</td>\n",
       "      <td>2</td>\n",
       "      <td>Information &amp; Communication Technology</td>\n",
       "      <td>1</td>\n",
       "      <td>Data Science</td>\n",
       "      <td>This is an exciting opportunity to join a lead...</td>\n",
       "      <td>216000.0</td>\n",
       "      <td>230400.0</td>\n",
       "      <td>223200.0</td>\n",
       "      <td>1</td>\n",
       "      <td>0.015773</td>\n",
       "      <td>0.000000</td>\n",
       "      <td>0.074636</td>\n",
       "      <td>0.035509</td>\n",
       "      <td>0.000000</td>\n",
       "      <td>0.000000</td>\n",
       "      <td>0.020214</td>\n",
       "    </tr>\n",
       "  </tbody>\n",
       "</table>\n",
       "</div>"
      ],
      "text/plain": [
       "                                   job_title  job_type  \\\n",
       "0  Data Analytics & Data Science Team Leader         3   \n",
       "1                 Consultant, Data Scientist         3   \n",
       "2                             Data Scientist         3   \n",
       "3           Senior Machine Learning Engineer         3   \n",
       "4                      Senior Data Scientist         2   \n",
       "\n",
       "                                 category  location    search_key  \\\n",
       "0  Information & Communication Technology         1  Data Science   \n",
       "1  Information & Communication Technology         1  Data Science   \n",
       "2                    Education & Training         1  Data Science   \n",
       "3                    Science & Technology         1  Data Science   \n",
       "4  Information & Communication Technology         1  Data Science   \n",
       "\n",
       "                             job_description_cleaned       low      high  \\\n",
       "0   The mission of the AFP is to provide dynamic ...  110172.0  119921.0   \n",
       "1  The Data Scientist will be accountable for des...  130000.0  140000.0   \n",
       "2    Data Scientist     Fixed term 6 months role ...   90000.0  105000.0   \n",
       "3   An exciting opportunity has opened up with a ...  150000.0  230000.0   \n",
       "4  This is an exciting opportunity to join a lead...  216000.0  230400.0   \n",
       "\n",
       "   median_sal  salary_type      data  experience  business      role  \\\n",
       "0    115046.5            1  0.000000    0.092339  0.138716  0.065996   \n",
       "1    135000.0            1  0.000000    0.101579  0.038149  0.018150   \n",
       "2     97500.0            0  0.017047    0.035798  0.040334  0.019189   \n",
       "3    190000.0            1  0.014652    0.046152  0.069332  0.016493   \n",
       "4    223200.0            1  0.015773    0.000000  0.074636  0.035509   \n",
       "\n",
       "       team  management      work  \n",
       "0  0.000000    0.084181  0.037570  \n",
       "1  0.000000    0.069453  0.020664  \n",
       "2  0.059750    0.024477  0.000000  \n",
       "3  0.034236    0.084149  0.000000  \n",
       "4  0.000000    0.000000  0.020214  "
      ]
     },
     "execution_count": 116,
     "metadata": {},
     "output_type": "execute_result"
    }
   ],
   "source": [
    "raw_data.head()"
   ]
  },
  {
   "cell_type": "code",
   "execution_count": 121,
   "metadata": {},
   "outputs": [],
   "source": [
    "raw_data.drop(columns = ['job_title_encoded'], axis = 1, inplace = True)"
   ]
  },
  {
   "cell_type": "code",
   "execution_count": 122,
   "metadata": {},
   "outputs": [
    {
     "data": {
      "text/plain": [
       "(368, 17)"
      ]
     },
     "execution_count": 122,
     "metadata": {},
     "output_type": "execute_result"
    }
   ],
   "source": [
    "raw_data.shape"
   ]
  },
  {
   "cell_type": "code",
   "execution_count": 123,
   "metadata": {},
   "outputs": [
    {
     "name": "stdout",
     "output_type": "stream",
     "text": [
      "<class 'pandas.core.frame.DataFrame'>\n",
      "RangeIndex: 368 entries, 0 to 367\n",
      "Data columns (total 17 columns):\n",
      "job_title                  368 non-null object\n",
      "job_type                   368 non-null int64\n",
      "category                   368 non-null object\n",
      "location                   368 non-null int64\n",
      "search_key                 368 non-null object\n",
      "job_description_cleaned    368 non-null object\n",
      "low                        356 non-null float64\n",
      "high                       367 non-null float64\n",
      "median_sal                 356 non-null float64\n",
      "salary_type                368 non-null int64\n",
      "data                       368 non-null float64\n",
      "experience                 368 non-null float64\n",
      "business                   368 non-null float64\n",
      "role                       368 non-null float64\n",
      "team                       368 non-null float64\n",
      "management                 368 non-null float64\n",
      "work                       368 non-null float64\n",
      "dtypes: float64(10), int64(3), object(4)\n",
      "memory usage: 49.0+ KB\n"
     ]
    }
   ],
   "source": [
    "raw_data.info()"
   ]
  },
  {
   "cell_type": "code",
   "execution_count": 124,
   "metadata": {},
   "outputs": [
    {
     "data": {
      "text/html": [
       "<div>\n",
       "<style scoped>\n",
       "    .dataframe tbody tr th:only-of-type {\n",
       "        vertical-align: middle;\n",
       "    }\n",
       "\n",
       "    .dataframe tbody tr th {\n",
       "        vertical-align: top;\n",
       "    }\n",
       "\n",
       "    .dataframe thead th {\n",
       "        text-align: right;\n",
       "    }\n",
       "</style>\n",
       "<table border=\"1\" class=\"dataframe\">\n",
       "  <thead>\n",
       "    <tr style=\"text-align: right;\">\n",
       "      <th></th>\n",
       "      <th>job_type</th>\n",
       "      <th>location</th>\n",
       "      <th>low</th>\n",
       "      <th>high</th>\n",
       "      <th>median_sal</th>\n",
       "      <th>salary_type</th>\n",
       "      <th>data</th>\n",
       "      <th>experience</th>\n",
       "      <th>business</th>\n",
       "      <th>role</th>\n",
       "      <th>team</th>\n",
       "      <th>management</th>\n",
       "      <th>work</th>\n",
       "    </tr>\n",
       "  </thead>\n",
       "  <tbody>\n",
       "    <tr>\n",
       "      <th>job_type</th>\n",
       "      <td>1.000000</td>\n",
       "      <td>0.119699</td>\n",
       "      <td>-0.210137</td>\n",
       "      <td>-0.070415</td>\n",
       "      <td>-0.177957</td>\n",
       "      <td>-0.120083</td>\n",
       "      <td>-0.079824</td>\n",
       "      <td>-0.097631</td>\n",
       "      <td>0.040046</td>\n",
       "      <td>0.033955</td>\n",
       "      <td>0.034815</td>\n",
       "      <td>0.027194</td>\n",
       "      <td>0.032080</td>\n",
       "    </tr>\n",
       "    <tr>\n",
       "      <th>location</th>\n",
       "      <td>0.119699</td>\n",
       "      <td>1.000000</td>\n",
       "      <td>0.033667</td>\n",
       "      <td>0.087429</td>\n",
       "      <td>0.075214</td>\n",
       "      <td>0.172676</td>\n",
       "      <td>-0.043933</td>\n",
       "      <td>-0.098886</td>\n",
       "      <td>0.015978</td>\n",
       "      <td>0.013298</td>\n",
       "      <td>0.060988</td>\n",
       "      <td>-0.094504</td>\n",
       "      <td>-0.003700</td>\n",
       "    </tr>\n",
       "    <tr>\n",
       "      <th>low</th>\n",
       "      <td>-0.210137</td>\n",
       "      <td>0.033667</td>\n",
       "      <td>1.000000</td>\n",
       "      <td>0.485742</td>\n",
       "      <td>0.811612</td>\n",
       "      <td>0.632699</td>\n",
       "      <td>-0.053252</td>\n",
       "      <td>0.004443</td>\n",
       "      <td>0.073637</td>\n",
       "      <td>-0.053643</td>\n",
       "      <td>0.014013</td>\n",
       "      <td>0.000720</td>\n",
       "      <td>-0.055285</td>\n",
       "    </tr>\n",
       "    <tr>\n",
       "      <th>high</th>\n",
       "      <td>-0.070415</td>\n",
       "      <td>0.087429</td>\n",
       "      <td>0.485742</td>\n",
       "      <td>1.000000</td>\n",
       "      <td>0.904882</td>\n",
       "      <td>0.738293</td>\n",
       "      <td>-0.046441</td>\n",
       "      <td>-0.077094</td>\n",
       "      <td>0.068577</td>\n",
       "      <td>0.015699</td>\n",
       "      <td>0.078379</td>\n",
       "      <td>-0.000646</td>\n",
       "      <td>-0.058560</td>\n",
       "    </tr>\n",
       "    <tr>\n",
       "      <th>median_sal</th>\n",
       "      <td>-0.177957</td>\n",
       "      <td>0.075214</td>\n",
       "      <td>0.811612</td>\n",
       "      <td>0.904882</td>\n",
       "      <td>1.000000</td>\n",
       "      <td>0.796125</td>\n",
       "      <td>-0.049518</td>\n",
       "      <td>-0.040869</td>\n",
       "      <td>0.074306</td>\n",
       "      <td>-0.023473</td>\n",
       "      <td>0.048083</td>\n",
       "      <td>0.000927</td>\n",
       "      <td>-0.065617</td>\n",
       "    </tr>\n",
       "    <tr>\n",
       "      <th>salary_type</th>\n",
       "      <td>-0.120083</td>\n",
       "      <td>0.172676</td>\n",
       "      <td>0.632699</td>\n",
       "      <td>0.738293</td>\n",
       "      <td>0.796125</td>\n",
       "      <td>1.000000</td>\n",
       "      <td>-0.046875</td>\n",
       "      <td>-0.044587</td>\n",
       "      <td>0.088194</td>\n",
       "      <td>0.002469</td>\n",
       "      <td>0.035212</td>\n",
       "      <td>0.037108</td>\n",
       "      <td>-0.063460</td>\n",
       "    </tr>\n",
       "    <tr>\n",
       "      <th>data</th>\n",
       "      <td>-0.079824</td>\n",
       "      <td>-0.043933</td>\n",
       "      <td>-0.053252</td>\n",
       "      <td>-0.046441</td>\n",
       "      <td>-0.049518</td>\n",
       "      <td>-0.046875</td>\n",
       "      <td>1.000000</td>\n",
       "      <td>0.158902</td>\n",
       "      <td>-0.047001</td>\n",
       "      <td>-0.156054</td>\n",
       "      <td>-0.136842</td>\n",
       "      <td>-0.145314</td>\n",
       "      <td>-0.013015</td>\n",
       "    </tr>\n",
       "    <tr>\n",
       "      <th>experience</th>\n",
       "      <td>-0.097631</td>\n",
       "      <td>-0.098886</td>\n",
       "      <td>0.004443</td>\n",
       "      <td>-0.077094</td>\n",
       "      <td>-0.040869</td>\n",
       "      <td>-0.044587</td>\n",
       "      <td>0.158902</td>\n",
       "      <td>1.000000</td>\n",
       "      <td>0.060218</td>\n",
       "      <td>-0.006088</td>\n",
       "      <td>-0.067665</td>\n",
       "      <td>0.098593</td>\n",
       "      <td>0.025572</td>\n",
       "    </tr>\n",
       "    <tr>\n",
       "      <th>business</th>\n",
       "      <td>0.040046</td>\n",
       "      <td>0.015978</td>\n",
       "      <td>0.073637</td>\n",
       "      <td>0.068577</td>\n",
       "      <td>0.074306</td>\n",
       "      <td>0.088194</td>\n",
       "      <td>-0.047001</td>\n",
       "      <td>0.060218</td>\n",
       "      <td>1.000000</td>\n",
       "      <td>0.107943</td>\n",
       "      <td>0.129434</td>\n",
       "      <td>-0.024480</td>\n",
       "      <td>0.016520</td>\n",
       "    </tr>\n",
       "    <tr>\n",
       "      <th>role</th>\n",
       "      <td>0.033955</td>\n",
       "      <td>0.013298</td>\n",
       "      <td>-0.053643</td>\n",
       "      <td>0.015699</td>\n",
       "      <td>-0.023473</td>\n",
       "      <td>0.002469</td>\n",
       "      <td>-0.156054</td>\n",
       "      <td>-0.006088</td>\n",
       "      <td>0.107943</td>\n",
       "      <td>1.000000</td>\n",
       "      <td>0.061835</td>\n",
       "      <td>-0.020970</td>\n",
       "      <td>0.029959</td>\n",
       "    </tr>\n",
       "    <tr>\n",
       "      <th>team</th>\n",
       "      <td>0.034815</td>\n",
       "      <td>0.060988</td>\n",
       "      <td>0.014013</td>\n",
       "      <td>0.078379</td>\n",
       "      <td>0.048083</td>\n",
       "      <td>0.035212</td>\n",
       "      <td>-0.136842</td>\n",
       "      <td>-0.067665</td>\n",
       "      <td>0.129434</td>\n",
       "      <td>0.061835</td>\n",
       "      <td>1.000000</td>\n",
       "      <td>-0.006267</td>\n",
       "      <td>0.096078</td>\n",
       "    </tr>\n",
       "    <tr>\n",
       "      <th>management</th>\n",
       "      <td>0.027194</td>\n",
       "      <td>-0.094504</td>\n",
       "      <td>0.000720</td>\n",
       "      <td>-0.000646</td>\n",
       "      <td>0.000927</td>\n",
       "      <td>0.037108</td>\n",
       "      <td>-0.145314</td>\n",
       "      <td>0.098593</td>\n",
       "      <td>-0.024480</td>\n",
       "      <td>-0.020970</td>\n",
       "      <td>-0.006267</td>\n",
       "      <td>1.000000</td>\n",
       "      <td>0.083784</td>\n",
       "    </tr>\n",
       "    <tr>\n",
       "      <th>work</th>\n",
       "      <td>0.032080</td>\n",
       "      <td>-0.003700</td>\n",
       "      <td>-0.055285</td>\n",
       "      <td>-0.058560</td>\n",
       "      <td>-0.065617</td>\n",
       "      <td>-0.063460</td>\n",
       "      <td>-0.013015</td>\n",
       "      <td>0.025572</td>\n",
       "      <td>0.016520</td>\n",
       "      <td>0.029959</td>\n",
       "      <td>0.096078</td>\n",
       "      <td>0.083784</td>\n",
       "      <td>1.000000</td>\n",
       "    </tr>\n",
       "  </tbody>\n",
       "</table>\n",
       "</div>"
      ],
      "text/plain": [
       "             job_type  location       low      high  median_sal  salary_type  \\\n",
       "job_type     1.000000  0.119699 -0.210137 -0.070415   -0.177957    -0.120083   \n",
       "location     0.119699  1.000000  0.033667  0.087429    0.075214     0.172676   \n",
       "low         -0.210137  0.033667  1.000000  0.485742    0.811612     0.632699   \n",
       "high        -0.070415  0.087429  0.485742  1.000000    0.904882     0.738293   \n",
       "median_sal  -0.177957  0.075214  0.811612  0.904882    1.000000     0.796125   \n",
       "salary_type -0.120083  0.172676  0.632699  0.738293    0.796125     1.000000   \n",
       "data        -0.079824 -0.043933 -0.053252 -0.046441   -0.049518    -0.046875   \n",
       "experience  -0.097631 -0.098886  0.004443 -0.077094   -0.040869    -0.044587   \n",
       "business     0.040046  0.015978  0.073637  0.068577    0.074306     0.088194   \n",
       "role         0.033955  0.013298 -0.053643  0.015699   -0.023473     0.002469   \n",
       "team         0.034815  0.060988  0.014013  0.078379    0.048083     0.035212   \n",
       "management   0.027194 -0.094504  0.000720 -0.000646    0.000927     0.037108   \n",
       "work         0.032080 -0.003700 -0.055285 -0.058560   -0.065617    -0.063460   \n",
       "\n",
       "                 data  experience  business      role      team  management  \\\n",
       "job_type    -0.079824   -0.097631  0.040046  0.033955  0.034815    0.027194   \n",
       "location    -0.043933   -0.098886  0.015978  0.013298  0.060988   -0.094504   \n",
       "low         -0.053252    0.004443  0.073637 -0.053643  0.014013    0.000720   \n",
       "high        -0.046441   -0.077094  0.068577  0.015699  0.078379   -0.000646   \n",
       "median_sal  -0.049518   -0.040869  0.074306 -0.023473  0.048083    0.000927   \n",
       "salary_type -0.046875   -0.044587  0.088194  0.002469  0.035212    0.037108   \n",
       "data         1.000000    0.158902 -0.047001 -0.156054 -0.136842   -0.145314   \n",
       "experience   0.158902    1.000000  0.060218 -0.006088 -0.067665    0.098593   \n",
       "business    -0.047001    0.060218  1.000000  0.107943  0.129434   -0.024480   \n",
       "role        -0.156054   -0.006088  0.107943  1.000000  0.061835   -0.020970   \n",
       "team        -0.136842   -0.067665  0.129434  0.061835  1.000000   -0.006267   \n",
       "management  -0.145314    0.098593 -0.024480 -0.020970 -0.006267    1.000000   \n",
       "work        -0.013015    0.025572  0.016520  0.029959  0.096078    0.083784   \n",
       "\n",
       "                 work  \n",
       "job_type     0.032080  \n",
       "location    -0.003700  \n",
       "low         -0.055285  \n",
       "high        -0.058560  \n",
       "median_sal  -0.065617  \n",
       "salary_type -0.063460  \n",
       "data        -0.013015  \n",
       "experience   0.025572  \n",
       "business     0.016520  \n",
       "role         0.029959  \n",
       "team         0.096078  \n",
       "management   0.083784  \n",
       "work         1.000000  "
      ]
     },
     "execution_count": 124,
     "metadata": {},
     "output_type": "execute_result"
    }
   ],
   "source": [
    "raw_data.corr()"
   ]
  },
  {
   "cell_type": "code",
   "execution_count": 125,
   "metadata": {},
   "outputs": [],
   "source": [
    "raw_data1 = raw_data.copy()"
   ]
  },
  {
   "cell_type": "code",
   "execution_count": 129,
   "metadata": {},
   "outputs": [],
   "source": [
    "raw_data1.drop(columns = ['low', 'high','salary_type'], axis = 1, inplace = True)"
   ]
  },
  {
   "cell_type": "code",
   "execution_count": 131,
   "metadata": {},
   "outputs": [
    {
     "data": {
      "text/html": [
       "<div>\n",
       "<style scoped>\n",
       "    .dataframe tbody tr th:only-of-type {\n",
       "        vertical-align: middle;\n",
       "    }\n",
       "\n",
       "    .dataframe tbody tr th {\n",
       "        vertical-align: top;\n",
       "    }\n",
       "\n",
       "    .dataframe thead th {\n",
       "        text-align: right;\n",
       "    }\n",
       "</style>\n",
       "<table border=\"1\" class=\"dataframe\">\n",
       "  <thead>\n",
       "    <tr style=\"text-align: right;\">\n",
       "      <th></th>\n",
       "      <th>job_title</th>\n",
       "      <th>job_type</th>\n",
       "      <th>category</th>\n",
       "      <th>location</th>\n",
       "      <th>median_sal</th>\n",
       "      <th>data</th>\n",
       "      <th>experience</th>\n",
       "      <th>business</th>\n",
       "      <th>role</th>\n",
       "      <th>team</th>\n",
       "      <th>management</th>\n",
       "      <th>work</th>\n",
       "    </tr>\n",
       "  </thead>\n",
       "  <tbody>\n",
       "    <tr>\n",
       "      <th>0</th>\n",
       "      <td>Data Analytics &amp; Data Science Team Leader</td>\n",
       "      <td>3</td>\n",
       "      <td>Information &amp; Communication Technology</td>\n",
       "      <td>1</td>\n",
       "      <td>115046.5</td>\n",
       "      <td>0.0</td>\n",
       "      <td>0.092339</td>\n",
       "      <td>0.138716</td>\n",
       "      <td>0.065996</td>\n",
       "      <td>0.0</td>\n",
       "      <td>0.084181</td>\n",
       "      <td>0.03757</td>\n",
       "    </tr>\n",
       "  </tbody>\n",
       "</table>\n",
       "</div>"
      ],
      "text/plain": [
       "                                   job_title  job_type  \\\n",
       "0  Data Analytics & Data Science Team Leader         3   \n",
       "\n",
       "                                 category  location  median_sal  data  \\\n",
       "0  Information & Communication Technology         1    115046.5   0.0   \n",
       "\n",
       "   experience  business      role  team  management     work  \n",
       "0    0.092339  0.138716  0.065996   0.0    0.084181  0.03757  "
      ]
     },
     "execution_count": 131,
     "metadata": {},
     "output_type": "execute_result"
    }
   ],
   "source": [
    "raw_data1.head(1)"
   ]
  },
  {
   "cell_type": "code",
   "execution_count": 130,
   "metadata": {},
   "outputs": [],
   "source": [
    "raw_data1.drop(columns = ['search_key', 'job_description_cleaned'], axis = 1, inplace = True)"
   ]
  },
  {
   "cell_type": "code",
   "execution_count": 132,
   "metadata": {},
   "outputs": [
    {
     "data": {
      "text/html": [
       "<div>\n",
       "<style scoped>\n",
       "    .dataframe tbody tr th:only-of-type {\n",
       "        vertical-align: middle;\n",
       "    }\n",
       "\n",
       "    .dataframe tbody tr th {\n",
       "        vertical-align: top;\n",
       "    }\n",
       "\n",
       "    .dataframe thead th {\n",
       "        text-align: right;\n",
       "    }\n",
       "</style>\n",
       "<table border=\"1\" class=\"dataframe\">\n",
       "  <thead>\n",
       "    <tr style=\"text-align: right;\">\n",
       "      <th></th>\n",
       "      <th>job_title</th>\n",
       "      <th>job_type</th>\n",
       "      <th>category</th>\n",
       "      <th>location</th>\n",
       "      <th>median_sal</th>\n",
       "      <th>data</th>\n",
       "      <th>experience</th>\n",
       "      <th>business</th>\n",
       "      <th>role</th>\n",
       "      <th>team</th>\n",
       "      <th>management</th>\n",
       "      <th>work</th>\n",
       "    </tr>\n",
       "  </thead>\n",
       "  <tbody>\n",
       "    <tr>\n",
       "      <th>0</th>\n",
       "      <td>Data Analytics &amp; Data Science Team Leader</td>\n",
       "      <td>3</td>\n",
       "      <td>Information &amp; Communication Technology</td>\n",
       "      <td>1</td>\n",
       "      <td>115046.5</td>\n",
       "      <td>0.0</td>\n",
       "      <td>0.092339</td>\n",
       "      <td>0.138716</td>\n",
       "      <td>0.065996</td>\n",
       "      <td>0.0</td>\n",
       "      <td>0.084181</td>\n",
       "      <td>0.03757</td>\n",
       "    </tr>\n",
       "  </tbody>\n",
       "</table>\n",
       "</div>"
      ],
      "text/plain": [
       "                                   job_title  job_type  \\\n",
       "0  Data Analytics & Data Science Team Leader         3   \n",
       "\n",
       "                                 category  location  median_sal  data  \\\n",
       "0  Information & Communication Technology         1    115046.5   0.0   \n",
       "\n",
       "   experience  business      role  team  management     work  \n",
       "0    0.092339  0.138716  0.065996   0.0    0.084181  0.03757  "
      ]
     },
     "execution_count": 132,
     "metadata": {},
     "output_type": "execute_result"
    }
   ],
   "source": [
    "raw_data1.head(1)"
   ]
  },
  {
   "cell_type": "code",
   "execution_count": 133,
   "metadata": {},
   "outputs": [
    {
     "data": {
      "text/plain": [
       "array(['Information & Communication Technology', 'Education & Training',\n",
       "       'Science & Technology', 'Engineering', 'Government & Defence',\n",
       "       'Consulting & Strategy', 'Banking & Financial Services',\n",
       "       'Construction', 'Human Resources & Recruitment', 'Sales',\n",
       "       'Real Estate & Property', 'Marketing & Communications',\n",
       "       'Accounting', 'Call Centre & Customer Service',\n",
       "       'Design & Architecture', 'Mining, Resources & Energy',\n",
       "       'Administration & Office Support', 'Retail & Consumer Products',\n",
       "       'Manufacturing, Transport & Logistics', 'Healthcare & Medical',\n",
       "       'Advertising, Arts & Media', 'Trades & Services',\n",
       "       'Insurance & Superannuation', 'Community Services & Development'],\n",
       "      dtype=object)"
      ]
     },
     "execution_count": 133,
     "metadata": {},
     "output_type": "execute_result"
    }
   ],
   "source": [
    "raw_data1.category.unique()"
   ]
  },
  {
   "cell_type": "code",
   "execution_count": 144,
   "metadata": {},
   "outputs": [],
   "source": [
    "# from sklearn.preprocessing import LabelEncoder\n",
    "# le = LabelEncoder()\n",
    "# raw_data1['encode_job_title'] = raw_data1.job_title.map(lambda x: le.fit_transform(x))"
   ]
  },
  {
   "cell_type": "code",
   "execution_count": 145,
   "metadata": {},
   "outputs": [],
   "source": [
    "raw_data1['encode_category'] = raw_data1.category.map({'Information & Communication Technology': 1, 'Education & Training': 2,\n",
    "       'Science & Technology': 3, 'Engineering': 4, 'Government & Defence': 5,\n",
    "       'Consulting & Strategy':6, 'Banking & Financial Services': 7,\n",
    "       'Construction': 8, 'Human Resources & Recruitment': 9, 'Sales': 10,\n",
    "       'Real Estate & Property': 11, 'Marketing & Communications': 12,\n",
    "       'Accounting': 13, 'Call Centre & Customer Service': 14,\n",
    "       'Design & Architecture': 15, 'Mining, Resources & Energy': 16,\n",
    "       'Administration & Office Support': 17, 'Retail & Consumer Products': 18,\n",
    "       'Manufacturing, Transport & Logistics': 19, 'Healthcare & Medical': 20,\n",
    "       'Advertising, Arts & Media': 21, 'Trades & Services': 22,\n",
    "       'Insurance & Superannuation': 23, 'Community Services & Development': 24})"
   ]
  },
  {
   "cell_type": "code",
   "execution_count": 146,
   "metadata": {},
   "outputs": [
    {
     "data": {
      "text/plain": [
       "array([ 1,  2,  3,  4,  5,  6,  7,  8,  9, 10, 11, 12, 13, 14, 15, 16, 17,\n",
       "       18, 19, 20, 21, 22, 23, 24], dtype=int64)"
      ]
     },
     "execution_count": 146,
     "metadata": {},
     "output_type": "execute_result"
    }
   ],
   "source": [
    "raw_data1.encode_category.unique()"
   ]
  },
  {
   "cell_type": "code",
   "execution_count": 148,
   "metadata": {},
   "outputs": [
    {
     "data": {
      "text/plain": [
       "0"
      ]
     },
     "execution_count": 148,
     "metadata": {},
     "output_type": "execute_result"
    }
   ],
   "source": [
    "raw_data1.encode_category.isnull().sum()"
   ]
  },
  {
   "cell_type": "code",
   "execution_count": 155,
   "metadata": {},
   "outputs": [
    {
     "data": {
      "text/html": [
       "<div>\n",
       "<style scoped>\n",
       "    .dataframe tbody tr th:only-of-type {\n",
       "        vertical-align: middle;\n",
       "    }\n",
       "\n",
       "    .dataframe tbody tr th {\n",
       "        vertical-align: top;\n",
       "    }\n",
       "\n",
       "    .dataframe thead th {\n",
       "        text-align: right;\n",
       "    }\n",
       "</style>\n",
       "<table border=\"1\" class=\"dataframe\">\n",
       "  <thead>\n",
       "    <tr style=\"text-align: right;\">\n",
       "      <th></th>\n",
       "      <th>job_title</th>\n",
       "      <th>job_type</th>\n",
       "      <th>category</th>\n",
       "      <th>location</th>\n",
       "      <th>median_sal</th>\n",
       "      <th>data</th>\n",
       "      <th>experience</th>\n",
       "      <th>business</th>\n",
       "      <th>role</th>\n",
       "      <th>team</th>\n",
       "      <th>management</th>\n",
       "      <th>work</th>\n",
       "      <th>encode_category</th>\n",
       "    </tr>\n",
       "  </thead>\n",
       "  <tbody>\n",
       "    <tr>\n",
       "      <th>0</th>\n",
       "      <td>Data Analytics &amp; Data Science Team Leader</td>\n",
       "      <td>3</td>\n",
       "      <td>Information &amp; Communication Technology</td>\n",
       "      <td>1</td>\n",
       "      <td>115046.5</td>\n",
       "      <td>0.000000</td>\n",
       "      <td>0.092339</td>\n",
       "      <td>0.138716</td>\n",
       "      <td>0.065996</td>\n",
       "      <td>0.000000</td>\n",
       "      <td>0.084181</td>\n",
       "      <td>0.037570</td>\n",
       "      <td>1</td>\n",
       "    </tr>\n",
       "    <tr>\n",
       "      <th>1</th>\n",
       "      <td>Consultant, Data Scientist</td>\n",
       "      <td>3</td>\n",
       "      <td>Information &amp; Communication Technology</td>\n",
       "      <td>1</td>\n",
       "      <td>135000.0</td>\n",
       "      <td>0.000000</td>\n",
       "      <td>0.101579</td>\n",
       "      <td>0.038149</td>\n",
       "      <td>0.018150</td>\n",
       "      <td>0.000000</td>\n",
       "      <td>0.069453</td>\n",
       "      <td>0.020664</td>\n",
       "      <td>1</td>\n",
       "    </tr>\n",
       "    <tr>\n",
       "      <th>2</th>\n",
       "      <td>Data Scientist</td>\n",
       "      <td>3</td>\n",
       "      <td>Education &amp; Training</td>\n",
       "      <td>1</td>\n",
       "      <td>97500.0</td>\n",
       "      <td>0.017047</td>\n",
       "      <td>0.035798</td>\n",
       "      <td>0.040334</td>\n",
       "      <td>0.019189</td>\n",
       "      <td>0.059750</td>\n",
       "      <td>0.024477</td>\n",
       "      <td>0.000000</td>\n",
       "      <td>2</td>\n",
       "    </tr>\n",
       "    <tr>\n",
       "      <th>3</th>\n",
       "      <td>Senior Machine Learning Engineer</td>\n",
       "      <td>3</td>\n",
       "      <td>Science &amp; Technology</td>\n",
       "      <td>1</td>\n",
       "      <td>190000.0</td>\n",
       "      <td>0.014652</td>\n",
       "      <td>0.046152</td>\n",
       "      <td>0.069332</td>\n",
       "      <td>0.016493</td>\n",
       "      <td>0.034236</td>\n",
       "      <td>0.084149</td>\n",
       "      <td>0.000000</td>\n",
       "      <td>3</td>\n",
       "    </tr>\n",
       "    <tr>\n",
       "      <th>4</th>\n",
       "      <td>Senior Data Scientist</td>\n",
       "      <td>2</td>\n",
       "      <td>Information &amp; Communication Technology</td>\n",
       "      <td>1</td>\n",
       "      <td>223200.0</td>\n",
       "      <td>0.015773</td>\n",
       "      <td>0.000000</td>\n",
       "      <td>0.074636</td>\n",
       "      <td>0.035509</td>\n",
       "      <td>0.000000</td>\n",
       "      <td>0.000000</td>\n",
       "      <td>0.020214</td>\n",
       "      <td>1</td>\n",
       "    </tr>\n",
       "  </tbody>\n",
       "</table>\n",
       "</div>"
      ],
      "text/plain": [
       "                                   job_title  job_type  \\\n",
       "0  Data Analytics & Data Science Team Leader         3   \n",
       "1                 Consultant, Data Scientist         3   \n",
       "2                             Data Scientist         3   \n",
       "3           Senior Machine Learning Engineer         3   \n",
       "4                      Senior Data Scientist         2   \n",
       "\n",
       "                                 category  location  median_sal      data  \\\n",
       "0  Information & Communication Technology         1    115046.5  0.000000   \n",
       "1  Information & Communication Technology         1    135000.0  0.000000   \n",
       "2                    Education & Training         1     97500.0  0.017047   \n",
       "3                    Science & Technology         1    190000.0  0.014652   \n",
       "4  Information & Communication Technology         1    223200.0  0.015773   \n",
       "\n",
       "   experience  business      role      team  management      work  \\\n",
       "0    0.092339  0.138716  0.065996  0.000000    0.084181  0.037570   \n",
       "1    0.101579  0.038149  0.018150  0.000000    0.069453  0.020664   \n",
       "2    0.035798  0.040334  0.019189  0.059750    0.024477  0.000000   \n",
       "3    0.046152  0.069332  0.016493  0.034236    0.084149  0.000000   \n",
       "4    0.000000  0.074636  0.035509  0.000000    0.000000  0.020214   \n",
       "\n",
       "   encode_category  \n",
       "0                1  \n",
       "1                1  \n",
       "2                2  \n",
       "3                3  \n",
       "4                1  "
      ]
     },
     "execution_count": 155,
     "metadata": {},
     "output_type": "execute_result"
    }
   ],
   "source": [
    "raw_data1.head()"
   ]
  },
  {
   "cell_type": "code",
   "execution_count": 166,
   "metadata": {},
   "outputs": [],
   "source": [
    "raw_data1.dropna(axis=0, inplace = True)"
   ]
  },
  {
   "cell_type": "code",
   "execution_count": 183,
   "metadata": {},
   "outputs": [
    {
     "data": {
      "text/plain": [
       "<matplotlib.axes._subplots.AxesSubplot at 0x2316e668780>"
      ]
     },
     "execution_count": 183,
     "metadata": {},
     "output_type": "execute_result"
    },
    {
     "data": {
      "image/png": "[encoded data removed]",
      "text/plain": [
       "<Figure size 864x576 with 2 Axes>"
      ]
     },
     "metadata": {
      "needs_background": "light"
     },
     "output_type": "display_data"
    }
   ],
   "source": [
    "plt.figure(figsize=(12,8))\n",
    "sns.heatmap(raw_data1.corr(), annot = True)"
   ]
  },
  {
   "cell_type": "markdown",
   "metadata": {},
   "source": [
    "#### Factors distinguishing job category"
   ]
  },
  {
   "cell_type": "code",
   "execution_count": 185,
   "metadata": {},
   "outputs": [],
   "source": [
    "X = raw_data1[['job_type', 'location', 'data', 'experience', 'business', 'role', 'team', 'management', 'median_sal']]"
   ]
  },
  {
   "cell_type": "code",
   "execution_count": 186,
   "metadata": {},
   "outputs": [],
   "source": [
    "y = raw_data1.encode_category"
   ]
  },
  {
   "cell_type": "code",
   "execution_count": 187,
   "metadata": {},
   "outputs": [
    {
     "data": {
      "text/html": [
       "<div>\n",
       "<style scoped>\n",
       "    .dataframe tbody tr th:only-of-type {\n",
       "        vertical-align: middle;\n",
       "    }\n",
       "\n",
       "    .dataframe tbody tr th {\n",
       "        vertical-align: top;\n",
       "    }\n",
       "\n",
       "    .dataframe thead th {\n",
       "        text-align: right;\n",
       "    }\n",
       "</style>\n",
       "<table border=\"1\" class=\"dataframe\">\n",
       "  <thead>\n",
       "    <tr style=\"text-align: right;\">\n",
       "      <th></th>\n",
       "      <th>job_type</th>\n",
       "      <th>location</th>\n",
       "      <th>data</th>\n",
       "      <th>experience</th>\n",
       "      <th>business</th>\n",
       "      <th>role</th>\n",
       "      <th>team</th>\n",
       "      <th>management</th>\n",
       "      <th>median_sal</th>\n",
       "    </tr>\n",
       "  </thead>\n",
       "  <tbody>\n",
       "    <tr>\n",
       "      <th>0</th>\n",
       "      <td>3</td>\n",
       "      <td>1</td>\n",
       "      <td>0.000000</td>\n",
       "      <td>0.092339</td>\n",
       "      <td>0.138716</td>\n",
       "      <td>0.065996</td>\n",
       "      <td>0.000000</td>\n",
       "      <td>0.084181</td>\n",
       "      <td>115046.5</td>\n",
       "    </tr>\n",
       "    <tr>\n",
       "      <th>1</th>\n",
       "      <td>3</td>\n",
       "      <td>1</td>\n",
       "      <td>0.000000</td>\n",
       "      <td>0.101579</td>\n",
       "      <td>0.038149</td>\n",
       "      <td>0.018150</td>\n",
       "      <td>0.000000</td>\n",
       "      <td>0.069453</td>\n",
       "      <td>135000.0</td>\n",
       "    </tr>\n",
       "    <tr>\n",
       "      <th>2</th>\n",
       "      <td>3</td>\n",
       "      <td>1</td>\n",
       "      <td>0.017047</td>\n",
       "      <td>0.035798</td>\n",
       "      <td>0.040334</td>\n",
       "      <td>0.019189</td>\n",
       "      <td>0.059750</td>\n",
       "      <td>0.024477</td>\n",
       "      <td>97500.0</td>\n",
       "    </tr>\n",
       "    <tr>\n",
       "      <th>3</th>\n",
       "      <td>3</td>\n",
       "      <td>1</td>\n",
       "      <td>0.014652</td>\n",
       "      <td>0.046152</td>\n",
       "      <td>0.069332</td>\n",
       "      <td>0.016493</td>\n",
       "      <td>0.034236</td>\n",
       "      <td>0.084149</td>\n",
       "      <td>190000.0</td>\n",
       "    </tr>\n",
       "    <tr>\n",
       "      <th>4</th>\n",
       "      <td>2</td>\n",
       "      <td>1</td>\n",
       "      <td>0.015773</td>\n",
       "      <td>0.000000</td>\n",
       "      <td>0.074636</td>\n",
       "      <td>0.035509</td>\n",
       "      <td>0.000000</td>\n",
       "      <td>0.000000</td>\n",
       "      <td>223200.0</td>\n",
       "    </tr>\n",
       "  </tbody>\n",
       "</table>\n",
       "</div>"
      ],
      "text/plain": [
       "   job_type  location      data  experience  business      role      team  \\\n",
       "0         3         1  0.000000    0.092339  0.138716  0.065996  0.000000   \n",
       "1         3         1  0.000000    0.101579  0.038149  0.018150  0.000000   \n",
       "2         3         1  0.017047    0.035798  0.040334  0.019189  0.059750   \n",
       "3         3         1  0.014652    0.046152  0.069332  0.016493  0.034236   \n",
       "4         2         1  0.015773    0.000000  0.074636  0.035509  0.000000   \n",
       "\n",
       "   management  median_sal  \n",
       "0    0.084181    115046.5  \n",
       "1    0.069453    135000.0  \n",
       "2    0.024477     97500.0  \n",
       "3    0.084149    190000.0  \n",
       "4    0.000000    223200.0  "
      ]
     },
     "execution_count": 187,
     "metadata": {},
     "output_type": "execute_result"
    }
   ],
   "source": [
    "X.head()"
   ]
  },
  {
   "cell_type": "code",
   "execution_count": 188,
   "metadata": {
    "scrolled": true
   },
   "outputs": [
    {
     "data": {
      "text/plain": [
       "0"
      ]
     },
     "execution_count": 188,
     "metadata": {},
     "output_type": "execute_result"
    }
   ],
   "source": [
    "y.isnull().sum()"
   ]
  },
  {
   "cell_type": "code",
   "execution_count": 214,
   "metadata": {},
   "outputs": [
    {
     "data": {
      "text/plain": [
       "1     0.078820\n",
       "13    0.016441\n",
       "7     0.014507\n",
       "12    0.010638\n",
       "3     0.007253\n",
       "5     0.007253\n",
       "6     0.006286\n",
       "10    0.004836\n",
       "4     0.004352\n",
       "2     0.003385\n",
       "17    0.003385\n",
       "19    0.002901\n",
       "23    0.001934\n",
       "16    0.001451\n",
       "11    0.001451\n",
       "8     0.000967\n",
       "20    0.000967\n",
       "9     0.000967\n",
       "14    0.000967\n",
       "15    0.000967\n",
       "18    0.000967\n",
       "22    0.000484\n",
       "21    0.000484\n",
       "24    0.000484\n",
       "Name: encode_category, dtype: float64"
      ]
     },
     "execution_count": 214,
     "metadata": {},
     "output_type": "execute_result"
    }
   ],
   "source": [
    "y.value_counts()/y.sum()"
   ]
  },
  {
   "cell_type": "code",
   "execution_count": 189,
   "metadata": {},
   "outputs": [],
   "source": [
    "X_train, X_test, y_train, y_test = train_test_split(X, y, test_size = 0.20, random_state = 42)"
   ]
  },
  {
   "cell_type": "code",
   "execution_count": 190,
   "metadata": {},
   "outputs": [
    {
     "data": {
      "text/plain": [
       "(284, 9)"
      ]
     },
     "execution_count": 190,
     "metadata": {},
     "output_type": "execute_result"
    }
   ],
   "source": [
    "X_train.shape"
   ]
  },
  {
   "cell_type": "code",
   "execution_count": 191,
   "metadata": {},
   "outputs": [
    {
     "data": {
      "text/plain": [
       "(284,)"
      ]
     },
     "execution_count": 191,
     "metadata": {},
     "output_type": "execute_result"
    }
   ],
   "source": [
    "y_train.shape"
   ]
  },
  {
   "cell_type": "code",
   "execution_count": 209,
   "metadata": {},
   "outputs": [],
   "source": [
    "lg = LogisticRegression()\n",
    "rf = DecisionTreeClassifier()\n",
    "et = ExtraTreesClassifier()\n",
    "knn = KNeighborsClassifier(n_neighbors=100, )\n"
   ]
  },
  {
   "cell_type": "code",
   "execution_count": 210,
   "metadata": {},
   "outputs": [
    {
     "name": "stdout",
     "output_type": "stream",
     "text": [
      "-0.10911574833231921\n",
      "0.2306705698672912\n",
      "0.3955705414803775\n",
      "0.4622437371371798\n"
     ]
    },
    {
     "name": "stderr",
     "output_type": "stream",
     "text": [
      "C:\\Users\\r_ani\\Anaconda3\\lib\\site-packages\\sklearn\\model_selection\\_split.py:652: Warning: The least populated class in y has only 1 members, which is too few. The minimum number of members in any class cannot be less than n_splits=5.\n",
      "  % (min_groups, self.n_splits)), Warning)\n",
      "C:\\Users\\r_ani\\Anaconda3\\lib\\site-packages\\sklearn\\linear_model\\logistic.py:433: FutureWarning: Default solver will be changed to 'lbfgs' in 0.22. Specify a solver to silence this warning.\n",
      "  FutureWarning)\n",
      "C:\\Users\\r_ani\\Anaconda3\\lib\\site-packages\\sklearn\\linear_model\\logistic.py:460: FutureWarning: Default multi_class will be changed to 'auto' in 0.22. Specify the multi_class option to silence this warning.\n",
      "  \"this warning.\", FutureWarning)\n",
      "C:\\Users\\r_ani\\Anaconda3\\lib\\site-packages\\sklearn\\linear_model\\logistic.py:433: FutureWarning: Default solver will be changed to 'lbfgs' in 0.22. Specify a solver to silence this warning.\n",
      "  FutureWarning)\n",
      "C:\\Users\\r_ani\\Anaconda3\\lib\\site-packages\\sklearn\\linear_model\\logistic.py:460: FutureWarning: Default multi_class will be changed to 'auto' in 0.22. Specify the multi_class option to silence this warning.\n",
      "  \"this warning.\", FutureWarning)\n",
      "C:\\Users\\r_ani\\Anaconda3\\lib\\site-packages\\sklearn\\linear_model\\logistic.py:433: FutureWarning: Default solver will be changed to 'lbfgs' in 0.22. Specify a solver to silence this warning.\n",
      "  FutureWarning)\n",
      "C:\\Users\\r_ani\\Anaconda3\\lib\\site-packages\\sklearn\\linear_model\\logistic.py:460: FutureWarning: Default multi_class will be changed to 'auto' in 0.22. Specify the multi_class option to silence this warning.\n",
      "  \"this warning.\", FutureWarning)\n",
      "C:\\Users\\r_ani\\Anaconda3\\lib\\site-packages\\sklearn\\linear_model\\logistic.py:433: FutureWarning: Default solver will be changed to 'lbfgs' in 0.22. Specify a solver to silence this warning.\n",
      "  FutureWarning)\n",
      "C:\\Users\\r_ani\\Anaconda3\\lib\\site-packages\\sklearn\\linear_model\\logistic.py:460: FutureWarning: Default multi_class will be changed to 'auto' in 0.22. Specify the multi_class option to silence this warning.\n",
      "  \"this warning.\", FutureWarning)\n",
      "C:\\Users\\r_ani\\Anaconda3\\lib\\site-packages\\sklearn\\linear_model\\logistic.py:433: FutureWarning: Default solver will be changed to 'lbfgs' in 0.22. Specify a solver to silence this warning.\n",
      "  FutureWarning)\n",
      "C:\\Users\\r_ani\\Anaconda3\\lib\\site-packages\\sklearn\\linear_model\\logistic.py:460: FutureWarning: Default multi_class will be changed to 'auto' in 0.22. Specify the multi_class option to silence this warning.\n",
      "  \"this warning.\", FutureWarning)\n",
      "C:\\Users\\r_ani\\Anaconda3\\lib\\site-packages\\sklearn\\model_selection\\_split.py:652: Warning: The least populated class in y has only 1 members, which is too few. The minimum number of members in any class cannot be less than n_splits=5.\n",
      "  % (min_groups, self.n_splits)), Warning)\n",
      "C:\\Users\\r_ani\\Anaconda3\\lib\\site-packages\\sklearn\\model_selection\\_split.py:652: Warning: The least populated class in y has only 1 members, which is too few. The minimum number of members in any class cannot be less than n_splits=5.\n",
      "  % (min_groups, self.n_splits)), Warning)\n",
      "C:\\Users\\r_ani\\Anaconda3\\lib\\site-packages\\sklearn\\ensemble\\forest.py:246: FutureWarning: The default value of n_estimators will change from 10 in version 0.20 to 100 in 0.22.\n",
      "  \"10 in version 0.20 to 100 in 0.22.\", FutureWarning)\n",
      "C:\\Users\\r_ani\\Anaconda3\\lib\\site-packages\\sklearn\\ensemble\\forest.py:246: FutureWarning: The default value of n_estimators will change from 10 in version 0.20 to 100 in 0.22.\n",
      "  \"10 in version 0.20 to 100 in 0.22.\", FutureWarning)\n",
      "C:\\Users\\r_ani\\Anaconda3\\lib\\site-packages\\sklearn\\ensemble\\forest.py:246: FutureWarning: The default value of n_estimators will change from 10 in version 0.20 to 100 in 0.22.\n",
      "  \"10 in version 0.20 to 100 in 0.22.\", FutureWarning)\n",
      "C:\\Users\\r_ani\\Anaconda3\\lib\\site-packages\\sklearn\\ensemble\\forest.py:246: FutureWarning: The default value of n_estimators will change from 10 in version 0.20 to 100 in 0.22.\n",
      "  \"10 in version 0.20 to 100 in 0.22.\", FutureWarning)\n",
      "C:\\Users\\r_ani\\Anaconda3\\lib\\site-packages\\sklearn\\ensemble\\forest.py:246: FutureWarning: The default value of n_estimators will change from 10 in version 0.20 to 100 in 0.22.\n",
      "  \"10 in version 0.20 to 100 in 0.22.\", FutureWarning)\n",
      "C:\\Users\\r_ani\\Anaconda3\\lib\\site-packages\\sklearn\\model_selection\\_split.py:652: Warning: The least populated class in y has only 1 members, which is too few. The minimum number of members in any class cannot be less than n_splits=5.\n",
      "  % (min_groups, self.n_splits)), Warning)\n"
     ]
    }
   ],
   "source": [
    "lg_score = cross_val_score(lg, X_train, y_train, cv =5)\n",
    "rf_score = cross_val_score(rf, X_train, y_train, cv =5)\n",
    "et_score = cross_val_score(et, X_train, y_train, cv =5)\n",
    "knn_score = cross_val_score(knn, X_train, y_train, cv =5)\n",
    "print(np.mean(lr_score))\n",
    "print(np.mean(rf_score))\n",
    "print(np.mean(et_score))\n",
    "print(np.mean(knn_score))"
   ]
  },
  {
   "cell_type": "code",
   "execution_count": null,
   "metadata": {},
   "outputs": [],
   "source": [
    "# knn gives better score"
   ]
  }
 ],
 "metadata": {
  "kernelspec": {
   "display_name": "Python 3",
   "language": "python",
   "name": "python3"
  },
  "language_info": {
   "codemirror_mode": {
    "name": "ipython",
    "version": 3
   },
   "file_extension": ".py",
   "mimetype": "text/x-python",
   "name": "python",
   "nbconvert_exporter": "python",
   "pygments_lexer": "ipython3",
   "version": "3.7.1"
  }
 },
 "nbformat": 4,
 "nbformat_minor": 2
}
